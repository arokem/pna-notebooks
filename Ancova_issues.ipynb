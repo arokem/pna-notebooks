{
 "metadata": {
  "name": ""
 },
 "nbformat": 3,
 "nbformat_minor": 0,
 "worksheets": [
  {
   "cells": [
    {
     "cell_type": "markdown",
     "metadata": {},
     "source": [
      "This small notebook is based on :\n",
      "K. T. D'Alonzo, \" The Johnson-Neyman Pprocedure as an Alternative to ANCOVA\", 2004.\n",
      "This follows the advise of Consuala. "
     ]
    },
    {
     "cell_type": "code",
     "collapsed": false,
     "input": [
      "import scipy.linalg as lin\n",
      "import scipy.stats as sst\n",
      "import numpy as np"
     ],
     "language": "python",
     "metadata": {},
     "outputs": [],
     "prompt_number": 28
    },
    {
     "cell_type": "code",
     "collapsed": false,
     "input": [
      "#np.set_printoptions(formatter={'float':lambda x: '% -4.2f' % x})\n",
      "#print  t_test(X, y, [1,-1,0, 0])\n",
      "def ff(frmt=\"% -3.1f\",padd=6):\n",
      "    \n",
      "    def fformat(x, f=frmt, p=padd):\n",
      "        s = f % x\n",
      "        if len(s) <= p:\n",
      "            s = (p-len(s))*' ' + s\n",
      "        return s\n",
      "    \n",
      "    return fformat\n",
      "\n",
      "np.set_printoptions(formatter={'float':ff(frmt=\"%-3.1f\",padd=6)})"
     ],
     "language": "python",
     "metadata": {},
     "outputs": [],
     "prompt_number": 29
    },
    {
     "cell_type": "code",
     "collapsed": false,
     "input": [
      "n1,n2=(16,16)\n",
      "n = n1+n2"
     ],
     "language": "python",
     "metadata": {},
     "outputs": [],
     "prompt_number": 30
    },
    {
     "cell_type": "code",
     "collapsed": false,
     "input": [
      "def make_model(n=(16,16), offset=0):\n",
      "    # w are the weights on the following model\n",
      "    \n",
      "    n1, n2 = n[0], n[1]\n",
      "    n = n1+n2\n",
      "    cg1 = np.random.randint(0,20,size=(n1,1)) + 50\n",
      "    cg2 = np.random.randint(0,20,size=(n2,1)) + 50\n",
      "    cg1 = np.vstack((cg1, np.zeros((n2,1))))\n",
      "    cg2 = np.vstack((np.zeros((n1,1)), cg2))\n",
      "\n",
      "    intercept = np.ones((n,1))\n",
      "    g1 = np.vstack((np.ones((n1,1)), np.zeros((n2,1))))\n",
      "    g2 = np.vstack((np.zeros((n1,1)), np.ones((n2,1))))\n",
      "    \n",
      "    if offset:\n",
      "        X = np.hstack((g1, g2, cg1, cg2, intercept))\n",
      "    else:\n",
      "        X = np.hstack((g1, g2, cg1, cg2))\n",
      "            \n",
      "    return X\n",
      "\n",
      "# a function to generate data:\n",
      "def make_data(X, w, sig=1.0):\n",
      "    w = np.array(w)\n",
      "    w = w.reshape((X.shape[1],1))\n",
      "    noise = np.random.normal(size=(X.shape[0], 1))*sig\n",
      "    # print noise.shape\n",
      "    \n",
      "    return X.dot(w) + noise\n",
      "    "
     ],
     "language": "python",
     "metadata": {},
     "outputs": [],
     "prompt_number": 31
    },
    {
     "cell_type": "code",
     "collapsed": false,
     "input": [
      "X = make_model()\n",
      "print X"
     ],
     "language": "python",
     "metadata": {},
     "outputs": [
      {
       "output_type": "stream",
       "stream": "stdout",
       "text": [
        "[[   1.0    0.0   52.0    0.0]\n",
        " [   1.0    0.0   59.0    0.0]\n",
        " [   1.0    0.0   69.0    0.0]\n",
        " [   1.0    0.0   54.0    0.0]\n",
        " [   1.0    0.0   61.0    0.0]\n",
        " [   1.0    0.0   66.0    0.0]\n",
        " [   1.0    0.0   61.0    0.0]\n",
        " [   1.0    0.0   58.0    0.0]\n",
        " [   1.0    0.0   59.0    0.0]\n",
        " [   1.0    0.0   68.0    0.0]\n",
        " [   1.0    0.0   67.0    0.0]\n",
        " [   1.0    0.0   59.0    0.0]\n",
        " [   1.0    0.0   58.0    0.0]\n",
        " [   1.0    0.0   53.0    0.0]\n",
        " [   1.0    0.0   51.0    0.0]\n",
        " [   1.0    0.0   51.0    0.0]\n",
        " [   0.0    1.0    0.0   66.0]\n",
        " [   0.0    1.0    0.0   66.0]\n",
        " [   0.0    1.0    0.0   51.0]\n",
        " [   0.0    1.0    0.0   61.0]\n",
        " [   0.0    1.0    0.0   57.0]\n",
        " [   0.0    1.0    0.0   66.0]\n",
        " [   0.0    1.0    0.0   61.0]\n",
        " [   0.0    1.0    0.0   63.0]\n",
        " [   0.0    1.0    0.0   65.0]\n",
        " [   0.0    1.0    0.0   55.0]\n",
        " [   0.0    1.0    0.0   51.0]\n",
        " [   0.0    1.0    0.0   66.0]\n",
        " [   0.0    1.0    0.0   65.0]\n",
        " [   0.0    1.0    0.0   55.0]\n",
        " [   0.0    1.0    0.0   63.0]\n",
        " [   0.0    1.0    0.0   56.0]]\n"
       ]
      }
     ],
     "prompt_number": 32
    },
    {
     "cell_type": "code",
     "collapsed": false,
     "input": [
      "y = make_data(X, [10, 15, 3, 3], 1.0)\n",
      "print y.shape"
     ],
     "language": "python",
     "metadata": {},
     "outputs": [
      {
       "output_type": "stream",
       "stream": "stdout",
       "text": [
        "(32, 1)\n"
       ]
      }
     ],
     "prompt_number": 33
    },
    {
     "cell_type": "code",
     "collapsed": false,
     "input": [
      "def glm(X,Y):\n",
      "    \"\"\" a simple GLM function returning the estimated parameters and residuals \"\"\"\n",
      "    betah   =  lin.pinv(X).dot(Y)\n",
      "    Yfitted =  X.dot(betah)\n",
      "    resid   =  Y - Yfitted\n",
      "    return betah, Yfitted, resid\n",
      "\n",
      "def t_test(X, y, c, clean=True):\n",
      "\n",
      "    if clean: \n",
      "        c = clean_c(c)\n",
      "    n,p = X.shape\n",
      "    pXTX = np.linalg.pinv(X.T.dot(X))\n",
      "\n",
      "    betah, yh, rh = glm(X,y) # fit the model\n",
      "    df = (n - linalg.matrix_rank(X))\n",
      "    MRSS = sum((y - yh)**2)/df\n",
      "\n",
      "    t_num = c.T.dot(betah)\n",
      "    SE = np.sqrt(MRSS* c.T.dot(pXTX).dot(c))\n",
      "    tval = t_num / SE\n",
      "    pval = 1.0 - sst.t.cdf(tval,df)\n",
      "        \n",
      "    return tval, df, pval\n",
      "\n",
      "def clean_c(c):\n",
      "    c = np.asarray(c)\n",
      "    if len(c.shape) == 1:\n",
      "        c = c[:, newaxis]\n",
      "    if len(c.shape) == 2:\n",
      "        p = np.max(c.shape)\n",
      "        d = np.min(c.shape)\n",
      "        c = c.reshape((p,d))\n",
      "    return c"
     ],
     "language": "python",
     "metadata": {},
     "outputs": [],
     "prompt_number": 34
    },
    {
     "cell_type": "code",
     "collapsed": false,
     "input": [
      "def f_test(X, Y, L, verbose=False, clean=True):\n",
      "    \n",
      "    if clean: \n",
      "        L = clean_c(L)\n",
      "    # check that the contrast makes sense\n",
      "    B = lin.pinv(X).dot(Y)\n",
      "    \n",
      "    # Numerator\n",
      "    piXtX = lin.pinv(X.T.dot(X))\n",
      "    piLtpiXtXL = lin.pinv(L.T.dot(piXtX).dot(L))\n",
      "    LtB = L.T.dot(B)\n",
      "    Fnum = LtB.T.dot(piLtpiXtXL).dot(LtB)\n",
      "    \n",
      "    # SSRX ?\n",
      "    SSRX = Y.T.dot(Y) - B.T.dot(X.T.dot(X)).dot(B)\n",
      "    v1 = matrix_rank(L)\n",
      "    v2 = X.shape[0] - matrix_rank(X)\n",
      "    \n",
      "    if verbose:\n",
      "        print 'Fnum: %f, df1=%d, Fdenom: %f, df2=%d,  \\n' % (Fnum, v1, SSRX, v2)\n",
      "        \n",
      "    fval = (Fnum/v1)/(SSRX/v2)\n",
      "    pval = 1.0 - sst.f.cdf(fval,v1,v2)\n",
      " \n",
      "    \n",
      "    return (fval, (v1, v2), pval)"
     ],
     "language": "python",
     "metadata": {},
     "outputs": [],
     "prompt_number": 35
    },
    {
     "cell_type": "code",
     "collapsed": false,
     "input": [
      "N = 500\n",
      "res = {}\n",
      "res['p_1'] = np.empty((N,))\n",
      "res['p_2'] = np.empty((N,))\n",
      "res['m1'] = np.empty((N,))\n",
      "res['m2'] = np.empty((N,))\n",
      "\n",
      "gen_with = [2, -2, 0.5, 0.55]\n",
      "c1 = [1,-1,0,0]\n",
      "c2 = [0,0,-1,1]\n",
      "for i in range(N):\n",
      "    y = make_data(X, gen_with, 1.0)\n",
      "\n",
      "    t,df,p = t_test(X, y, c1)\n",
      "    res['p_1'][i] = p[0][0]\n",
      "\n",
      "    t,df,p = t_test(X, y, c2)\n",
      "    res['p_2'][i] = p[0][0]\n",
      "\n",
      "    res['m1'][i] = y[0:n1].sum()\n",
      "    res['m2'][i] = y[n1:n].sum()\n",
      "    \n",
      "#    print \"t = \",t ,\"df = \", df , \"p = \", p\n",
      "#    f,df,p = f_test(X, y, [1,-1,0, 0])\n",
      "#    print \"f = \",f ,\"df = \", df , \"p = \", p"
     ],
     "language": "python",
     "metadata": {},
     "outputs": [],
     "prompt_number": 62
    },
    {
     "cell_type": "code",
     "collapsed": false,
     "input": [
      "plot(y)"
     ],
     "language": "python",
     "metadata": {},
     "outputs": [
      {
       "metadata": {},
       "output_type": "pyout",
       "prompt_number": 63,
       "text": [
        "[<matplotlib.lines.Line2D at 0x4649890>]"
       ]
      },
      {
       "metadata": {},
       "output_type": "display_data",
       "png": "[encoded data removed]",
       "text": [
        "<matplotlib.figure.Figure at 0x33930d0>"
       ]
      }
     ],
     "prompt_number": 63
    },
    {
     "cell_type": "code",
     "collapsed": false,
     "input": [
      "pvals = res['p_2']\n",
      "\n",
      "fig, ax = plt.subplots(1,2)\n",
      "fig.set_figwidth(12)\n",
      "ax[0].plot(np.log10(res['p_1']))\n",
      "ax[0].plot(np.log10(.05)*np.ones((N,)))\n",
      "#print type(pvals)\n",
      "ax[1].plot(np.log10(res['p_2']))\n",
      "ax[1].plot(np.log10(.05)*np.ones((N,)))\n",
      "\n",
      "nobs = (res['p_1'] <= 0.05).sum() \n",
      "print nobs\n",
      "print nobs/(N*1.0)"
     ],
     "language": "python",
     "metadata": {},
     "outputs": [
      {
       "output_type": "stream",
       "stream": "stdout",
       "text": [
        "134\n",
        "0.268\n"
       ]
      },
      {
       "metadata": {},
       "output_type": "display_data",
       "png": "[encoded data removed]",
       "text": [
        "<matplotlib.figure.Figure at 0x4650450>"
       ]
      }
     ],
     "prompt_number": 64
    },
    {
     "cell_type": "markdown",
     "metadata": {},
     "source": [
      "What is the chance of obtaining such a value if p=0.05?\n",
      "\n",
      "We have a binomial distribution, we want to know if N*.05 is a likely outcome:\n"
     ]
    },
    {
     "cell_type": "code",
     "collapsed": false,
     "input": [
      "alpha = 0.05\n",
      "binom = sst.binom(N, alpha)\n",
      "print N*alpha"
     ],
     "language": "python",
     "metadata": {},
     "outputs": [
      {
       "output_type": "stream",
       "stream": "stdout",
       "text": [
        "25.0\n"
       ]
      }
     ],
     "prompt_number": 65
    },
    {
     "cell_type": "code",
     "collapsed": false,
     "input": [
      "1. - binom.cdf(nobs)"
     ],
     "language": "python",
     "metadata": {},
     "outputs": [
      {
       "metadata": {},
       "output_type": "pyout",
       "prompt_number": 66,
       "text": [
        "1.1102230246251565e-16"
       ]
      }
     ],
     "prompt_number": 66
    },
    {
     "cell_type": "code",
     "collapsed": false,
     "input": [
      "y = make_data(X, gen_with, 1.0)\n",
      "print gen_with\n",
      "fig, ax = plt.subplots(1)\n",
      "ax.plot(X[0:n1,2], y[0:n1], 'bx',  X[n1:n,3], y[n1:n] ,'ro')\n",
      "ax.set_xlabel('covariate')"
     ],
     "language": "python",
     "metadata": {},
     "outputs": [
      {
       "output_type": "stream",
       "stream": "stdout",
       "text": [
        "[2, -2, 0.5, 0.55]\n"
       ]
      },
      {
       "metadata": {},
       "output_type": "pyout",
       "prompt_number": 67,
       "text": [
        "<matplotlib.text.Text at 0x4661f10>"
       ]
      },
      {
       "metadata": {},
       "output_type": "display_data",
       "png": "[encoded data removed]",
       "text": [
        "<matplotlib.figure.Figure at 0x44e0f50>"
       ]
      }
     ],
     "prompt_number": 67
    },
    {
     "cell_type": "code",
     "collapsed": false,
     "input": [
      "print (res['m1'] - res['m2']).mean()\n"
     ],
     "language": "python",
     "metadata": {},
     "outputs": [
      {
       "output_type": "stream",
       "stream": "stdout",
       "text": [
        "5.18621031651\n"
       ]
      }
     ],
     "prompt_number": 68
    },
    {
     "cell_type": "code",
     "collapsed": false,
     "input": [
      "mc1 = X[0:n1,[2]] - X[0:n1,2].mean()\n",
      "print mc1.shape\n",
      "\n",
      "mc2 = X[n2:n, [3]] - (X[n2:n,3]).mean()\n",
      "print mc2.shape\n",
      "\n",
      "mc1 = np.vstack((np.zeros((n1,1)), mc1))\n",
      "mc2 = np.vstack((mc2, np.zeros((n2,1))))\n",
      "print mc1.shape, mc2.shape\n",
      "\n",
      "g1 = np.vstack((np.ones((n1,1)), np.zeros((n2,1))))\n",
      "g2 = np.vstack((np.zeros((n1,1)), np.ones((n2,1))))\n",
      "\n",
      "Xm = np.hstack((g1, g2, mc1, mc2))"
     ],
     "language": "python",
     "metadata": {},
     "outputs": [
      {
       "output_type": "stream",
       "stream": "stdout",
       "text": [
        "(16, 1)\n",
        "(16, 1)\n",
        "(32, 1) (32, 1)\n"
       ]
      }
     ],
     "prompt_number": 58
    },
    {
     "cell_type": "code",
     "collapsed": false,
     "input": [
      "#print  Xm\n",
      "print  np.hstack((y, Xm))\n",
      "#print len(ff(123.56))"
     ],
     "language": "python",
     "metadata": {},
     "outputs": [
      {
       "output_type": "stream",
       "stream": "stdout",
       "text": [
        "[[  29.1    1.0    0.0    0.0    5.6]\n",
        " [  30.4    1.0    0.0    0.0    5.6]\n",
        " [  36.5    1.0    0.0    0.0   -9.4]\n",
        " [  29.0    1.0    0.0    0.0    0.6]\n",
        " [  32.3    1.0    0.0    0.0   -3.4]\n",
        " [  34.9    1.0    0.0    0.0    5.6]\n",
        " [  33.0    1.0    0.0    0.0    0.6]\n",
        " [  31.7    1.0    0.0    0.0    2.6]\n",
        " [  31.7    1.0    0.0    0.0    4.6]\n",
        " [  36.6    1.0    0.0    0.0   -5.4]\n",
        " [  35.3    1.0    0.0    0.0   -9.4]\n",
        " [  32.0    1.0    0.0    0.0    5.6]\n",
        " [  29.9    1.0    0.0    0.0    4.6]\n",
        " [  28.7    1.0    0.0    0.0   -5.4]\n",
        " [  27.3    1.0    0.0    0.0    2.6]\n",
        " [  29.3    1.0    0.0    0.0   -4.4]\n",
        " [  37.1    0.0    1.0   -7.1    0.0]\n",
        " [  37.7    0.0    1.0   -0.1    0.0]\n",
        " [  28.7    0.0    1.0    9.9    0.0]\n",
        " [  34.8    0.0    1.0   -5.1    0.0]\n",
        " [  31.3    0.0    1.0    1.9    0.0]\n",
        " [  37.8    0.0    1.0    6.9    0.0]\n",
        " [  35.4    0.0    1.0    1.9    0.0]\n",
        " [  34.7    0.0    1.0   -1.1    0.0]\n",
        " [  36.4    0.0    1.0   -0.1    0.0]\n",
        " [  32.0    0.0    1.0    8.9    0.0]\n",
        " [  28.6    0.0    1.0    7.9    0.0]\n",
        " [  38.3    0.0    1.0   -0.1    0.0]\n",
        " [  38.0    0.0    1.0   -1.1    0.0]\n",
        " [  32.2    0.0    1.0   -6.1    0.0]\n",
        " [  35.7    0.0    1.0   -8.1    0.0]\n",
        " [  29.7    0.0    1.0   -8.1    0.0]]\n"
       ]
      }
     ],
     "prompt_number": 59
    },
    {
     "cell_type": "code",
     "collapsed": false,
     "input": [
      "Xm.mean(axis=0)"
     ],
     "language": "python",
     "metadata": {},
     "outputs": [
      {
       "metadata": {},
       "output_type": "pyout",
       "prompt_number": 60,
       "text": [
        "array([   0.5,    0.5,    0.0,    0.0])"
       ]
      }
     ],
     "prompt_number": 60
    },
    {
     "cell_type": "code",
     "collapsed": false,
     "input": [],
     "language": "python",
     "metadata": {},
     "outputs": [],
     "prompt_number": 60
    },
    {
     "cell_type": "code",
     "collapsed": false,
     "input": [
      "print t_test(X, y, [1, -1, 0, 0])"
     ],
     "language": "python",
     "metadata": {},
     "outputs": [
      {
       "output_type": "stream",
       "stream": "stdout",
       "text": [
        "(array([[   2.1]]), 28, array([[   0.0]]))\n"
       ]
      }
     ],
     "prompt_number": 61
    },
    {
     "cell_type": "code",
     "collapsed": false,
     "input": [],
     "language": "python",
     "metadata": {},
     "outputs": []
    }
   ],
   "metadata": {}
  }
 ]
}