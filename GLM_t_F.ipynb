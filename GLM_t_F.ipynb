{
 "metadata": {
  "name": "006-GLM_t_F"
 },
 "nbformat": 3,
 "nbformat_minor": 0,
 "worksheets": [
  {
   "cells": [
    {
     "cell_type": "heading",
     "level": 1,
     "metadata": {
      "slideshow": {
       "slide_type": "slide"
      }
     },
     "source": [
      "An introduction to the General Linear Model, t and F tests"
     ]
    },
    {
     "cell_type": "markdown",
     "metadata": {
      "slideshow": {
       "slide_type": "fragment"
      }
     },
     "source": [
      "This notebook is a follow up to a basic introduction to the statistics of statistical parametric mapping (SPM).\n",
      "\n",
      "It builds upon the following chapter : http://www.fil.ion.ucl.ac.uk/spm/doc/books/hbf2/pdfs/Ch8.pdf in the book Human Brain Function (2nd edition) and upon the review in Neuroimage (Poline and Brett, 2012).\n",
      "\n",
      "In this notebook, in a first part we will explain the General Linear Model in a simple case, assuming first that we are analyzing only one region of interest or one voxel.\n",
      "\n",
      "In a second part, we will take an example (cf the \"principle of stat\" notebook) and run an analysis at each and every voxel."
     ]
    },
    {
     "cell_type": "heading",
     "level": 2,
     "metadata": {
      "slideshow": {
       "slide_type": "slide"
      }
     },
     "source": [
      "Part one : GLM for one voxel"
     ]
    },
    {
     "cell_type": "heading",
     "level": 3,
     "metadata": {
      "slideshow": {
       "slide_type": "subslide"
      }
     },
     "source": [
      "Grasping some data"
     ]
    },
    {
     "cell_type": "raw",
     "metadata": {
      "slideshow": {
       "slide_type": "subslide"
      }
     },
     "source": [
      "First, finding some nifti or img on the disk. Let's assume we have some data in our current directory:"
     ]
    },
    {
     "cell_type": "code",
     "collapsed": false,
     "input": [
      "import nibabel as nib\n",
      "import os\n",
      "from os.path import join as pjoin\n",
      "\n",
      "this_course = 'pna'\n",
      "\n",
      "def load_images(course):\n",
      "    if course == 'pna':\n",
      "        PNA_DATA_PATH = pjoin(os.path.expanduser('~'), 'data', 'qcpna', 'bolddata')\n",
      "        img_fname = pjoin(PNA_DATA_PATH, 'smallbold.nii.gz')\n",
      "        if os.path.isfile(img_fname):\n",
      "            img = nib.load(img_fname)\n",
      "            print img.shape\n",
      "            return img\n",
      "        else:\n",
      "            print \"where is this image: \" + fname + \"\\n\"\n",
      "            return None\n",
      "                     \n",
      "    else:\n",
      "        files_1 = [pjoin('ds107','sub' + \"%03d\" %i, 'BOLD','task001_run001','meanabold.nii') for i in range(1,15)]\n",
      "        print [(f,os.path.isfile(f)) for f in files_1]\n",
      "        #files = [os.path.join(scans_dir, 'snn03055dy%i.img' % i) for i in range(1,13)]\n",
      "        files = [f for f in files_1 if os.path.isfile(f)]\n",
      "        return [nib.load(f) for f in files]\n",
      "    \n",
      "img = load_images('pna')"
     ],
     "language": "python",
     "metadata": {
      "slideshow": {
       "slide_type": "subslide"
      }
     },
     "outputs": [
      {
       "output_type": "stream",
       "stream": "stdout",
       "text": [
        "(64, 64, 35, 42)\n"
       ]
      }
     ],
     "prompt_number": 5
    },
    {
     "cell_type": "markdown",
     "metadata": {
      "slideshow": {
       "slide_type": "notes"
      }
     },
     "source": [
      "Once we have these images, we want in a first step to extract one voxel value. To do so, we know that images spatially normalized have an affine transform that allows us to compute the the position of a (i,j,k) index of the image in the template space. If we have the (x,y,z) position in the template space, we need to inverse this transform to get the index of the (closest voxel).  "
     ]
    },
    {
     "cell_type": "markdown",
     "metadata": {
      "slideshow": {
       "slide_type": "slide"
      }
     },
     "source": [
      "Now we load the affine transformation from the first image (it's the same for all), pick a voxel in the MNI space, and compute the conversion parameters from MNI space (in mm) to voxels space (indices of the 3D array)."
     ]
    },
    {
     "cell_type": "code",
     "collapsed": false,
     "input": [
      "# transformation from voxel no to mm\n",
      "\n",
      "try:\n",
      "    M = img.get_affine()\n",
      "except: \n",
      "    M = img[0].get_affine()\n"
     ],
     "language": "python",
     "metadata": {},
     "outputs": [],
     "prompt_number": 9
    },
    {
     "cell_type": "code",
     "collapsed": true,
     "input": [
      "# mm to voxel no\n",
      "iM = np.linalg.inv(M)\n",
      "# coordinates of voxel of interest in mm (MNI space)\n",
      "posmm = [-20.0, -42, 34]\n",
      "# coordinates in voxel space (in homogenous coordinates)\n",
      "posvox = np.dot(iM, posmm + [1])\n",
      "# We grab the spatial part of the output.  Since we want to use it as an \n",
      "# index, we need to make it a tuple\n",
      "x,y,z = tuple(np.round(posvox[:3]).astype(int))\n",
      "\n",
      "print x,y,z\n",
      "vdata = img.get_data()[x, y, z, :]"
     ],
     "language": "python",
     "metadata": {
      "slideshow": {
       "slide_type": "subslide"
      }
     },
     "outputs": [
      {
       "output_type": "stream",
       "stream": "stdout",
       "text": [
        "24 20 26\n"
       ]
      }
     ],
     "prompt_number": 14
    },
    {
     "cell_type": "markdown",
     "metadata": {
      "slideshow": {
       "slide_type": "slide"
      }
     },
     "source": [
      "Let's display the values of this voxel - and display a slice of the 4D volume."
     ]
    },
    {
     "cell_type": "code",
     "collapsed": false,
     "input": [
      "import matplotlib.pyplot as plt\n",
      "\n",
      "fig, (ax1, ax2) = plt.subplots(1,2, figsize=(14,4))\n",
      "ax1.plot(vdata); ax1.set_title('the time series')\n",
      "ax2.set_title('the slice at z = %d' %z)\n",
      "# time t = 0\n",
      "t = 0\n",
      "imshow(img.get_data()[:,:,z,t], interpolation='nearest')"
     ],
     "language": "python",
     "metadata": {
      "slideshow": {
       "slide_type": "subslide"
      }
     },
     "outputs": [
      {
       "metadata": {},
       "output_type": "pyout",
       "prompt_number": 17,
       "text": [
        "<matplotlib.image.AxesImage at 0x313f9d0>"
       ]
      },
      {
       "metadata": {},
       "output_type": "display_data",
       "png": "[encoded data removed]",
       "text": [
        "<matplotlib.figure.Figure at 0x315fd10>"
       ]
      }
     ],
     "prompt_number": 17
    },
    {
     "cell_type": "heading",
     "level": 3,
     "metadata": {
      "slideshow": {
       "slide_type": "slide"
      }
     },
     "source": [
      "The GLM machinery:"
     ]
    },
    {
     "cell_type": "markdown",
     "metadata": {
      "slideshow": {
       "slide_type": "subslide"
      }
     },
     "source": [
      "We will model the data using the GLM, then ask questions on the parameters of this model, a concise and fairly general framework for asking question to our data. \n",
      "\n",
      "$$\n",
      "Y = X \\beta + \\epsilon\n",
      "$$ \n",
      "\n",
      "In a first example, we take X to contain two columns. Let's assume that our data come from an experiment in which odd scans are from condition 1 (or group one if each scan is from a different subject) and even scans are from group 2. The first column of X will model this with, with $x_{i1} = 1$ when i is odd, and $x_{i1} = -1$ if $i$ even. The second column will be a column of ones, modelling a constant offset. We note $\\epsilon_i$ the noise at each measurement $y_i$ under this model.\n",
      "\n",
      "\n",
      "\n",
      "The least square solution gives : $\\hat \\beta = X (X^T X)^+ X^T Y $ where $X^+$ is the pseudo inverse of $X$"
     ]
    },
    {
     "cell_type": "markdown",
     "metadata": {
      "slideshow": {
       "slide_type": "slide"
      }
     },
     "source": [
      "$$ Y = \\left[ \n",
      "  \\begin{array}{c} \n",
      "  y_1  \\\\\\\\ y_2  \\\\\\\\ y_3  \\\\\\\\ \n",
      "  y_4  \\\\\\\\ y_5  \\\\\\\\ y_6  \\\\\\\\ \n",
      "  y_7 \\\\\\\\ y_8  \\\\\\\\ y_9  \\\\\\\\ \n",
      "  y_{10} \\\\\\\\ y_{11}  \\\\\\\\ y_{12}  \\\\\\\\ \n",
      "  \\end{array} \n",
      "\\right] \n",
      "= \\beta_0  \n",
      "\\left[ \\begin{array}{c} \n",
      "  x_1  \\\\\\\\ x_2  \\\\\\\\ x_3  \\\\\\\\ \n",
      "  x_4  \\\\\\\\ x_5  \\\\\\\\ x_6  \\\\\\\\ \n",
      "  x_7  \\\\\\\\ x_8  \\\\\\\\ x_9  \\\\\\\\ \n",
      "  x_{10} \\\\\\\\ x_{11}  \\\\\\\\ x_{12}  \\\\\\\\ \n",
      "\\end{array} \\right] \n",
      "+\n",
      "\\beta_1  \n",
      "\\left[ \\begin{array}{c} \n",
      "  1   \\\\\\\\  1  \\\\\\\\ 1  \\\\\\\\  1  \\\\\\\\   \n",
      "  1   \\\\\\\\  1  \\\\\\\\ 1  \\\\\\\\  1  \\\\\\\\   \n",
      "  1   \\\\\\\\  1  \\\\\\\\ 1  \\\\\\\\  1  \\\\\\\\   \n",
      "\\end{array} \\right] \n",
      "+ \n",
      "\\left[ \\begin{array}{c}\n",
      "\t\\epsilon_1 \\\\\\\\ \\epsilon_2 \\\\\\\\ \\epsilon_3 \\\\\\\\ \\epsilon_4 \\\\\\\\ \\epsilon_5 \\\\\\\\ \\epsilon_6 \\\\\\\\\n",
      "\t \\epsilon_7 \\\\\\\\ \\epsilon_8 \\\\\\\\ \\epsilon_9 \\\\\\\\ \\epsilon_{10} \\\\\\\\ \\epsilon_{11} \\\\\\\\ \\epsilon_{12} \\\\\\\\ \\end{array} \\right]\n",
      "= \\left[ \n",
      "\\begin{array}{rc} \n",
      "  1 & 1 \\\\\\\\ -1 & 1  \\\\\\\\ 1 & 1  \\\\\\\\ -1 & 1  \\\\\\\\   \n",
      "  1 & 1 \\\\\\\\ -1 & 1  \\\\\\\\ 1 & 1  \\\\\\\\ -1 & 1  \\\\\\\\   \n",
      "  1 & 1 \\\\\\\\ -1 & 1  \\\\\\\\ 1 & 1  \\\\\\\\ -1 & 1  \\\\\\\\   \n",
      "\\end{array} \\right] \n",
      "\\left[ \\begin{array}{c}\n",
      "\\beta_0 \\\\\\\\ \\beta_1 \\\\\\\\\n",
      "\\end{array} \\right] +\n",
      "\\left[ \\begin{array}{c}\n",
      "\t\\epsilon_1 \\\\\\\\ \\epsilon_2 \\\\\\\\ \\epsilon_3 \\\\\\\\ \\epsilon_4 \\\\\\\\ \\epsilon_5 \\\\\\\\ \\epsilon_6 \\\\\\\\\n",
      "\t \\epsilon_7 \\\\\\\\ \\epsilon_8 \\\\\\\\ \\epsilon_9 \\\\\\\\ \\epsilon_{10} \\\\\\\\ \\epsilon_{11} \\\\\\\\ \\epsilon_{12} \\\\\\\\ \\end{array} \\right]\n",
      "= X \\bf \\beta +  \\bf \\epsilon\n",
      "$$"
     ]
    },
    {
     "cell_type": "heading",
     "level": 3,
     "metadata": {
      "slideshow": {
       "slide_type": "slide"
      }
     },
     "source": [
      "Fitting our model to some data."
     ]
    },
    {
     "cell_type": "markdown",
     "metadata": {
      "slideshow": {
       "slide_type": "subslide"
      }
     },
     "source": [
      "In the equation above, we know the model $X$ (or at least we assume this model), and we need to estimate the $\\beta$ and the $\\epsilon$. To *estimate* these, the simplest is to first multiply the left and right hand side of the equation by $X^T$, the transpose of $X$, to get: "
     ]
    },
    {
     "cell_type": "markdown",
     "metadata": {
      "slideshow": {
       "slide_type": "subslide"
      }
     },
     "source": [
      "$$ X^T Y = X^T X \\beta + X^T \\epsilon $$"
     ]
    },
    {
     "cell_type": "markdown",
     "metadata": {
      "slideshow": {
       "slide_type": "subslide"
      }
     },
     "source": [
      "In the above equation, we search for an estimate of the noise ($\\hat\\epsilon$) that is **uncorrelated** with our explanatory variables (the constant vector or ones, and the $x_{i1}$). In other words, in matrix terms, such that $X^T \\hat\\epsilon = 0$. In terms of the *estimates* $\\hat\\beta$ and $\\hat\\epsilon$, we therefore have:"
     ]
    },
    {
     "cell_type": "markdown",
     "metadata": {
      "slideshow": {
       "slide_type": "subslide"
      }
     },
     "source": [
      "$$ X^T Y = X^T X \\hat\\beta + X^T \\hat\\epsilon = X^T X \\hat\\beta $$"
     ]
    },
    {
     "cell_type": "markdown",
     "metadata": {
      "slideshow": {
       "slide_type": "subslide"
      }
     },
     "source": [
      "This equation is called the \"normal\" equation. Now, if $X^T X$ is invertible, we have "
     ]
    },
    {
     "cell_type": "markdown",
     "metadata": {
      "slideshow": {
       "slide_type": "subslide"
      }
     },
     "source": [
      "$$\\hat\\beta = (X^T X )^{-1} X^T Y   $$"
     ]
    },
    {
     "cell_type": "markdown",
     "metadata": {
      "slideshow": {
       "slide_type": "slide"
      }
     },
     "source": [
      "If $X^TX$ is not invertible, (which will happen if some of the explanatory variable can be computed as linear combinaison of the others), we can always take a pseudo inverse of $X^TX$, denoted for instance by $(X^TX)^+$, and compute the $\\hat\\beta$ with $\\hat\\beta = (X^T X )^{+} X^T Y $. \n",
      "\n",
      "A full description of the pseudo inverse (here, we assume the *Moore-Penrose* pseudo-inverse) is out of the scope here, but we can think of it as acting as the inverse of a matrix, such that :\n",
      "\n",
      "$X X^+ X = X$, and $X^+ X X^+ = X^+$, and both $X X^+$ and $X^+ X$ are symmetric.\n",
      "\n",
      "It can be checked that the matrix $X^+ = (X^T X )^{+} X^T$ is a the pseudo inverse of $X$, such that $\\hat{\\beta} = X^+ Y$.\n",
      "\n",
      "In any case, we can compute our best estimates for $Y$ given the model $X$ with : $\\widehat{Y} = X \\hat\\beta$, and our estimated noise or residuals by $\\hat\\epsilon = Y - \\widehat{Y} = Y - X\\hat\\beta $. \n",
      "\n",
      "\n"
     ]
    },
    {
     "cell_type": "heading",
     "level": 4,
     "metadata": {
      "slideshow": {
       "slide_type": "slide"
      }
     },
     "source": [
      "Applying to our voxel data:"
     ]
    },
    {
     "cell_type": "code",
     "collapsed": false,
     "input": [
      "x0 = np.asarray([1, -1, 1, -1, 1, -1, 1, -1, 1, -1, 1, -1])\n",
      "x1 = np.ones(12)\n",
      "X = np.vstack((x0,x1)).T\n",
      "print X\n",
      "X_firstmodel = copy(X)"
     ],
     "language": "python",
     "metadata": {
      "slideshow": {
       "slide_type": "subslide"
      }
     },
     "outputs": [
      {
       "output_type": "stream",
       "stream": "stdout",
       "text": [
        "[[ 1.  1.]\n",
        " [-1.  1.]\n",
        " [ 1.  1.]\n",
        " [-1.  1.]\n",
        " [ 1.  1.]\n",
        " [-1.  1.]\n",
        " [ 1.  1.]\n",
        " [-1.  1.]\n",
        " [ 1.  1.]\n",
        " [-1.  1.]\n",
        " [ 1.  1.]\n",
        " [-1.  1.]]\n"
       ]
      }
     ],
     "prompt_number": 18
    },
    {
     "cell_type": "code",
     "collapsed": false,
     "input": [
      "from scipy import linalg as lin\n",
      "\n",
      "Y = vdata[:12]  \n",
      "#scale Y for better visual display; make its mean == 1.0\n",
      "Y = (Y - Y.mean())/np.std(Y)  + 1.0\n",
      "vdata = Y\n",
      "\n",
      "pinvX   = lin.pinv(X)\n",
      "betah   = pinvX.dot(Y)\n",
      "Yfitted = X.dot(betah)\n",
      "resid   = Y - Yfitted\n",
      "print \"Y:\\n\", Y, \"\\nresid:\\n\", resid, \"\\nbetah:\\n\", betah\n",
      "print \"mean of Y: \", np.mean(Y), \"\\t mean of resid: \", np.mean(resid)\n",
      "\n",
      "# make this a little function as we will be reusing it :\n",
      "def glm(X,Y):\n",
      "    \"\"\" a simple GLM function returning the estimated parameters and residuals \"\"\"\n",
      "    betah   =  lin.pinv(X).dot(Y)\n",
      "    Yfitted =  X.dot(betah)\n",
      "    resid   =  Y - Yfitted\n",
      "    return betah, Yfitted, resid\n"
     ],
     "language": "python",
     "metadata": {
      "slideshow": {
       "slide_type": "slide"
      }
     },
     "outputs": [
      {
       "output_type": "stream",
       "stream": "stdout",
       "text": [
        "Y:\n",
        "[ 1.71749728  0.35802875  1.80812852  1.2643411   3.07696582  1.80812852\n",
        "  0.35802875  0.26739751  0.17676628  1.62686605  0.17676628 -0.63891484] \n",
        "resid:\n",
        "[-0.17370987 -1.09512743 -0.08307863 -0.18881507  1.18575867  0.35497234\n",
        " -0.18881507  0.15860466 -0.37007755  1.5180732  -0.37007755 -0.74770769] \n",
        "betah:\n",
        "[ 0.21902549  1.005515   -0.33884833  0.66666667]\n",
        "mean of Y:  1.0 \t mean of resid:  -5.27355936697e-16\n"
       ]
      }
     ],
     "prompt_number": 32
    },
    {
     "cell_type": "code",
     "collapsed": false,
     "input": [
      "# Plot the results\n",
      "x = range(12)\n",
      "f, (ax1, ax2) = plt.subplots(1, 2, figsize=(12,4))\n",
      "ax1.plot(x, Y, 'r-', x, Yfitted, 'b-.')\n",
      "ax2.plot(x, resid, 'g--')\n",
      "\n",
      "# Again, we will want to reuse this code, let's make a tiny function:\n",
      "def plot_glm(Y, Yf, r):\n",
      "    x = range(Y.shape[0])\n",
      "    f, (ax1, ax2) = plt.subplots(1, 2, figsize=(12,4))\n",
      "    ax1.plot(x, Y, 'r-', x, Yf, 'b-.')\n",
      "    ax2.plot(x, r, 'g--')\n"
     ],
     "language": "python",
     "metadata": {
      "slideshow": {
       "slide_type": "slide"
      }
     },
     "outputs": [
      {
       "metadata": {},
       "output_type": "display_data",
       "png": "[encoded data removed]",
       "text": [
        "<matplotlib.figure.Figure at 0x3e5c610>"
       ]
      }
     ],
     "prompt_number": 33
    },
    {
     "cell_type": "markdown",
     "metadata": {
      "slideshow": {
       "slide_type": "fragment"
      }
     },
     "source": [
      "Anoter way to compute the residuals is to compute the so called residual forming matrix $R$ :\n",
      "\n",
      "$$ \n",
      "\\hat\\epsilon = Y - \\widehat{Y} = Y - X \\hat\\beta = Y - X (X^T X)^+ X^T Y = (I_n -  X (X^T X)^+ X^T)Y = R Y\n",
      "$$\n",
      "\n",
      "where $I_n$ is the n by n identity matrix."
     ]
    },
    {
     "cell_type": "heading",
     "level": 3,
     "metadata": {
      "slideshow": {
       "slide_type": "slide"
      }
     },
     "source": [
      "Interpreting our estimates of $\\beta$, changing the data and the model."
     ]
    },
    {
     "cell_type": "markdown",
     "metadata": {
      "slideshow": {
       "slide_type": "subslide"
      }
     },
     "source": [
      "At the look of our results, it seems that there's not much in the first regressor. We have $Y = -70.54125261   x_1 + 918.71022688$\n",
      "We can check that 1) the residuals have mean zero (they are \"uncorrelated with the constant x_1\") the mean of the Ys is equal to \\beta_1, which is the case because $x_0$ has mean zero. We could also check that the residuals are uncorrelated with $\\bf x_0$.\n",
      "\n",
      "While the first coefficient is small, especially with respect to the residuals, we still have to see whether this coefficient is \"significantly\" different from zero. This is the topic of our next section."
     ]
    },
    {
     "cell_type": "heading",
     "level": 4,
     "metadata": {
      "slideshow": {
       "slide_type": "slide"
      }
     },
     "source": [
      "Making a slightly more general example"
     ]
    },
    {
     "cell_type": "markdown",
     "metadata": {
      "slideshow": {
       "slide_type": "subslide"
      }
     },
     "source": [
      "But before going into testing, let's make our example a little more general. Let's assume that our scans are divided in another 2 groups split, where the first 6 scans are of one condition (or group) and the last six ones of another. \n",
      "We can model this with a vector $\\bf x = [\\textrm{1 1 1 1 1 1 -1 -1 -1 -1 -1 -1}]^T$, which will model the difference between the first and the last 6 scans.\n",
      "Another solution is to include two regressors, one for the mean of the six first scans and one for the mean of the last six scans. Let's adopt this parametrisation of the model."
     ]
    },
    {
     "cell_type": "code",
     "collapsed": false,
     "input": [
      "vdata = vdata[:12]\n",
      "Y = vdata * 1.\n",
      "print mean(Y)\n",
      "x0 = np.asarray([1, -1, 1, -1, 1, -1, 1, -1, 1, -1, 1, -1])\n",
      "x1 = np.hstack((np.ones(6),np.zeros(6)))\n",
      "x2 = np.hstack((np.zeros(6),np.ones(6)))\n",
      "x3 = np.ones(12)\n",
      "X = np.vstack((x0,x1,x2,x3)).T\n",
      "print X\n",
      "# Add some signal to our voxel, for the sake of the example:\n",
      "Y += 0.5*mean(Y)*x1 - 0.5*mean(Y)*x2\n",
      "print Y, mean(Y)"
     ],
     "language": "python",
     "metadata": {},
     "outputs": [
      {
       "output_type": "stream",
       "stream": "stdout",
       "text": [
        "1.0\n",
        "[[ 1.  1.  0.  1.]\n",
        " [-1.  1.  0.  1.]\n",
        " [ 1.  1.  0.  1.]\n",
        " [-1.  1.  0.  1.]\n",
        " [ 1.  1.  0.  1.]\n",
        " [-1.  1.  0.  1.]\n",
        " [ 1.  0.  1.  1.]\n",
        " [-1.  0.  1.  1.]\n",
        " [ 1.  0.  1.  1.]\n",
        " [-1.  0.  1.  1.]\n",
        " [ 1.  0.  1.  1.]\n",
        " [-1.  0.  1.  1.]]\n",
        "[ 2.21749728  0.85802875  2.30812852  1.7643411   3.57696582  2.30812852\n",
        " -0.14197125 -0.23260249 -0.32323372  1.12686605 -0.32323372 -1.13891484] 1.0\n"
       ]
      }
     ],
     "prompt_number": 34
    },
    {
     "cell_type": "heading",
     "level": 4,
     "metadata": {
      "slideshow": {
       "slide_type": "slide"
      }
     },
     "source": [
      "Changing the data by adding signal that is not in the model"
     ]
    },
    {
     "cell_type": "markdown",
     "metadata": {
      "slideshow": {
       "slide_type": "subslide"
      }
     },
     "source": [
      "Let's fit our model for the new model and data."
     ]
    },
    {
     "cell_type": "code",
     "collapsed": false,
     "input": [
      "beta, Yfitted, resid = glm(X,Y)\n",
      "print beta, mean(Y)\n",
      "# (beta[1]/2 + beta[2]/2 + beta[3])"
     ],
     "language": "python",
     "metadata": {
      "slideshow": {
       "slide_type": "subslide"
      }
     },
     "outputs": [
      {
       "output_type": "stream",
       "stream": "stdout",
       "text": [
        "[ 0.21902549  1.505515   -0.83884833  0.66666667] 1.0\n"
       ]
      }
     ],
     "prompt_number": 35
    },
    {
     "cell_type": "code",
     "collapsed": false,
     "input": [
      "# Plot the results\n",
      "plot_glm(Y, Yfitted, resid)"
     ],
     "language": "python",
     "metadata": {
      "slideshow": {
       "slide_type": "subslide"
      }
     },
     "outputs": [
      {
       "metadata": {},
       "output_type": "display_data",
       "png": "[encoded data removed]",
       "text": [
        "<matplotlib.figure.Figure at 0x31c5110>"
       ]
      }
     ],
     "prompt_number": 36
    },
    {
     "cell_type": "markdown",
     "metadata": {
      "slideshow": {
       "slide_type": "slide"
      }
     },
     "source": [
      "Let's see what results we would have had with the first model (that doesnt have the regressor modelling the \"on off\" shape, but the new data that have this signal:"
     ]
    },
    {
     "cell_type": "code",
     "collapsed": false,
     "input": [
      "print X_firstmodel\n"
     ],
     "language": "python",
     "metadata": {},
     "outputs": [
      {
       "output_type": "stream",
       "stream": "stdout",
       "text": [
        "[[ 1.  1.]\n",
        " [-1.  1.]\n",
        " [ 1.  1.]\n",
        " [-1.  1.]\n",
        " [ 1.  1.]\n",
        " [-1.  1.]\n",
        " [ 1.  1.]\n",
        " [-1.  1.]\n",
        " [ 1.  1.]\n",
        " [-1.  1.]\n",
        " [ 1.  1.]\n",
        " [-1.  1.]]\n"
       ]
      }
     ],
     "prompt_number": 37
    },
    {
     "cell_type": "code",
     "collapsed": false,
     "input": [
      "glm_result = glm(X_firstmodel, Y)\n",
      "plot_glm(Y, glm_result[1], glm_result[2])\n",
      "print glm_result[0] # the betas"
     ],
     "language": "python",
     "metadata": {
      "slideshow": {
       "slide_type": "subslide"
      }
     },
     "outputs": [
      {
       "output_type": "stream",
       "stream": "stdout",
       "text": [
        "[ 0.21902549  1.        ]\n"
       ]
      },
      {
       "metadata": {},
       "output_type": "display_data",
       "png": "[encoded data removed]",
       "text": [
        "<matplotlib.figure.Figure at 0x3fe3c10>"
       ]
      }
     ],
     "prompt_number": 38
    },
    {
     "cell_type": "markdown",
     "metadata": {
      "slideshow": {
       "slide_type": "subslide"
      }
     },
     "source": [
      "You may notice: the beta estimated with these new data (we have added the \"step\" function) are exactly the same than the ones estimated on the original data. Why ? Because we added in the Y something that is completely uncorrelated to the model X_firstmodel. No regressor in this first model can pick it up, therefore the betas are unchanged. \n",
      "\n"
     ]
    },
    {
     "cell_type": "heading",
     "level": 4,
     "metadata": {
      "slideshow": {
       "slide_type": "slide"
      }
     },
     "source": [
      "Changing the model $X$ by adding a regressor that is not in the model"
     ]
    },
    {
     "cell_type": "markdown",
     "metadata": {
      "slideshow": {
       "slide_type": "subslide"
      }
     },
     "source": [
      "Similarely to the above example, and that's an important potential use case, if we are adding a regressor to the model that is uncorrelated to each and every column of $X$, (ie adding $\\bf{x_2}$ with $cov(\\bf{x_0}, \\bf{x_2}) = 0$, and $cov(\\bf x_1, \\bf x_2) = 0$), $\\bf{x_2}$ is is for instance in the third position $X_{i2}$, the $\\hat\\beta_0$ and $\\hat\\beta_1$ would also be unchanged.     \n"
     ]
    },
    {
     "cell_type": "code",
     "collapsed": false,
     "input": [
      "x1_ = np.hstack((np.ones(6),-np.ones(6)))\n",
      "x2 = np.ones(12)\n",
      "X_ = np.vstack((x0,x1_,x2)).T\n",
      "print X_.T.dot(X_)\n",
      "glm_result = glm(X_, Y) # original data\n",
      "plot_glm(Y, glm_result[1], glm_result[2])\n",
      "print glm_result[0] # the betas"
     ],
     "language": "python",
     "metadata": {
      "slideshow": {
       "slide_type": "subslide"
      }
     },
     "outputs": [
      {
       "output_type": "stream",
       "stream": "stdout",
       "text": [
        "[[ 12.   0.   0.]\n",
        " [  0.  12.   0.]\n",
        " [  0.   0.  12.]]\n",
        "[ 0.21902549  1.17218166  1.        ]"
       ]
      },
      {
       "output_type": "stream",
       "stream": "stdout",
       "text": [
        "\n"
       ]
      },
      {
       "metadata": {},
       "output_type": "display_data",
       "png": "[encoded data removed]",
       "text": [
        "<matplotlib.figure.Figure at 0x3ff2850>"
       ]
      }
     ],
     "prompt_number": 39
    },
    {
     "cell_type": "code",
     "collapsed": false,
     "input": [
      "print X_"
     ],
     "language": "python",
     "metadata": {},
     "outputs": [
      {
       "output_type": "stream",
       "stream": "stdout",
       "text": [
        "[[ 1.  1.  1.]\n",
        " [-1.  1.  1.]\n",
        " [ 1.  1.  1.]\n",
        " [-1.  1.  1.]\n",
        " [ 1.  1.  1.]\n",
        " [-1.  1.  1.]\n",
        " [ 1. -1.  1.]\n",
        " [-1. -1.  1.]\n",
        " [ 1. -1.  1.]\n",
        " [-1. -1.  1.]\n",
        " [ 1. -1.  1.]\n",
        " [-1. -1.  1.]]\n"
       ]
      }
     ],
     "prompt_number": 40
    },
    {
     "cell_type": "markdown",
     "metadata": {
      "slideshow": {
       "slide_type": "subslide"
      }
     },
     "source": [
      "If there's some correlation between the regressors already in the model and the added regressor ? then the parameters $\\beta$ will change. But the critical piece of information is what is or is not in the model, it's \"flexibility\". \n",
      "\n",
      "Let's now see how we **test** the parameters that we have just estimated. "
     ]
    },
    {
     "cell_type": "heading",
     "level": 3,
     "metadata": {
      "slideshow": {
       "slide_type": "slide"
      }
     },
     "source": [
      "Testing the $\\hat\\beta$"
     ]
    },
    {
     "cell_type": "markdown",
     "metadata": {
      "slideshow": {
       "slide_type": "subslide"
      }
     },
     "source": [
      "The model and the data can be displayed as little images: "
     ]
    },
    {
     "cell_type": "code",
     "collapsed": false,
     "input": [
      "f, (a1, a2, a3) = subplots(1, 3, figsize=(10,3))\n",
      "a1.imshow(Y[:,np.newaxis], interpolation='nearest', cmap='gray')\n",
      "a2.imshow(X, interpolation='nearest',cmap='gray')\n",
      "a3.imshow(resid[:,np.newaxis], interpolation='nearest',cmap='gray')"
     ],
     "language": "python",
     "metadata": {
      "slideshow": {
       "slide_type": "subslide"
      }
     },
     "outputs": [
      {
       "metadata": {},
       "output_type": "pyout",
       "prompt_number": 41,
       "text": [
        "<matplotlib.image.AxesImage at 0x3e5cbd0>"
       ]
      },
      {
       "metadata": {},
       "output_type": "display_data",
       "png": "[encoded data removed]",
       "text": [
        "<matplotlib.figure.Figure at 0x42db090>"
       ]
      }
     ],
     "prompt_number": 41
    },
    {
     "cell_type": "markdown",
     "metadata": {
      "slideshow": {
       "slide_type": "subslide"
      }
     },
     "source": [
      "There are two main statistics to understand with the GLM: the t- and the F- tests. First, we have to assume that our data $Y$, or equivalently the residuals $\\epsilon$, are normally distributed. We write $Y \\sim N(X\\beta, \\sigma^2)$, or, $\\epsilon \\sim N(0, \\sigma^2)$."
     ]
    },
    {
     "cell_type": "heading",
     "level": 4,
     "metadata": {
      "slideshow": {
       "slide_type": "slide"
      }
     },
     "source": [
      "GLM and T-tests "
     ]
    },
    {
     "cell_type": "markdown",
     "metadata": {
      "slideshow": {
       "slide_type": "slide"
      }
     },
     "source": [
      "Most often the t-test is used to answer the question of whether a linear combinaison of the estimated parameters is zero. For instance, let's take $\\beta_1 - \\beta_2$ in the model above. This can be written with $c^T \\beta$ where $c^T = [0, 1, -1, 0]$. To see if this quantity is too high (or too small) to be expected if we only had noise in the data (and therefore that we can reject the hypothesis that it is zero), we compute the t statistics:\n",
      "\n",
      "$$\n",
      "t = \\frac{c^T \\hat\\beta}{\\sqrt{\\mathrm{var}(c^T \\hat\\beta)}}\n",
      "$$\n",
      "\n",
      "and it can be shown that t follows a t-distribution with degrees of freedom $df$ that we will compute below. \n",
      "\n",
      "Let's first compute $ \\mathrm{var}(c^T \\hat\\beta) $. We have\n",
      "\n",
      "$ \\mathrm{var}(c^T \\hat\\beta) = \\mathrm{var}(c^T X^+ Y) = c^T X^+ \\mathrm{var}(Y) X^{+T} c  = \\sigma^2 c^T X^+ X^{+T} c = \\sigma^2 c^T (X^T X)^+ c $. \n",
      "\n",
      "To compute the t-value, we need an estimate of $\\sigma^2$. We dont have access to the true $\\epsilon$, but we can get an estimate using the residuals $\\hat\\epsilon$. We therefore compute the **Residual Sum of Square** (RSS) with\n",
      "\n",
      "$$ \\textrm{RSS} = \\sum_{i=1}^{12} (Y_i - \\widehat{Y_i})^2 =  \\sum_{i=1}^{12} (Y_i - X_i \\hat\\beta)^2 = (Y^T R^T) R Y$$ \n",
      "\n",
      "where $X_i$ is the $i$th row of the matrix $X$. To obtain the estimate of $\\sigma$, we compute the *expectation* of RSS. Here, a couple of mathematical tricks are useful, involving the trace of a matrix (which is the sum of its diagonal elements). In short, playing with the trace and the expectation, we get : \n",
      "\n",
      "$$ E(\\textrm{RSS}) = E(Y^T R Y) =  E(tr(Y^T R Y)) = E(tr(R Y Y^T)) = tr(R E(YY^T)) = tr(\\sigma^2 R) = \\sigma^2 (n - \\textrm{rank}(X)) $$ \n",
      "\n",
      "It is not necessary to understand all the steps of this derivation, but it is interesting to understand the essence of what is shown above. In words, what this says is that if we were to compute the average value of the residuals sum of square, over many experiments, this sum of square is less that the sum of square of the true noise $\\epsilon$, and it depends on the rank of $X$. The rank of a $X$ is the minimal number of independant columns needed to construct $X$. Here, while we have 4 columns in $X$ but $\\textrm{rank}(X) = 3$ because we need only column 1, 2, and 3 (or 1, 2, 4) to reconstruct fully $X$. The more independant parameters we are estimating, the less degrees of freedom remains to estimate the variance of $\\epsilon$. "
     ]
    },
    {
     "cell_type": "markdown",
     "metadata": {},
     "source": [
      "Following the equation above, and letting $p = \\textrm{rank}(X)$ we can estimate $\\sigma$ with $\\hat\\sigma$ where:\n",
      "\n",
      "$$\\hat\\sigma = \\textrm{RSS} / (n - p)$$\n",
      "\n",
      "This estimation is also called the **Mean Residual Sum of Square** (MRSS), and $\\hat\\sigma = \\textrm{MRSS} = \\textrm{RSS} / \\it{df} $ where $\\it{df}$ are the degrees of freedom $(n-p) = 12 - 3$, the number of observations (here, 12) minus the rank of the design matrix (here 3). In other word, this is the estimation of our noise.\n",
      "\n",
      "Coming back to our t-statistics, we can now calculate the **Standard Error** (SE) of $c^T \\hat\\beta$ with $\\textrm{SE} = \\sqrt{\\hat{\\sigma}^2 c^T (X^t X)^+ c} $\n",
      "\n",
      "The t test is then : $t = {c^T \\hat\\beta}/{\\textrm{SE}} $\n",
      "\n",
      "Clearly, for t to be big, we need the SE to be small, and / or $c^T \\hat\\beta$ to be large. Notice that the **SE** is composed of two elements: $\\hat{\\sigma}^2$ on the one hand, and  $c^T (X^t X)^+ c$ on the other hand. If the noise variance is high, then we have less chance to detect an effect. The second factor introduce how much the effect we are testing is correlated with other elements in the design matrix. If for instance, we are testing for $\\beta_0$ but we have a column in $X$ which is highly correlated with $\\bf{x_0}$, $c^T (X^t X)^+ c$ will be large and we also have less chance to detect the effect.  This led to some work for optimizing the design, once the questions of interest are formulated as contrast of the estimated parameters. "
     ]
    },
    {
     "cell_type": "markdown",
     "metadata": {
      "slideshow": {
       "slide_type": "slide"
      }
     },
     "source": [
      "Let's compute this statistics in our example."
     ]
    },
    {
     "cell_type": "code",
     "collapsed": false,
     "input": [
      "betah, Yfitted, resid = glm(X,Y) # fit the model\n",
      "RSS = sum((Y - Yfitted)**2)\n",
      "MRSS = RSS/(len(Y) - linalg.matrix_rank(X))\n",
      "\n",
      "print \"\\nRSS method 1:\", RSS, \"\\nRSS method 2:\", sum(resid**2),  \\\n",
      "      \"\\nMRSS method 1:\", MRSS, \"\\nMRSS method 2:\", RSS/9 #checking\n",
      "print betah\n",
      "\n",
      "cT = np.asarray([0, 1, -1, 0])\n",
      "c  = cT[:,newaxis]\n",
      "XTX = np.linalg.pinv(X.T.dot(X))\n",
      "\n",
      "\n",
      "t_num = cT.dot(betah)\n",
      "SE = np.sqrt(MRSS* cT.dot(XTX).dot(c))\n",
      "t = t_num / SE\n",
      "print t"
     ],
     "language": "python",
     "metadata": {
      "slideshow": {
       "slide_type": "subslide"
      }
     },
     "outputs": [
      {
       "output_type": "stream",
       "stream": "stdout",
       "text": [
        "\n",
        "RSS method 1: 6.00239575609 \n",
        "RSS method 2: 6.00239575609 \n",
        "MRSS method 1: 0.666932861788 \n",
        "MRSS method 2: 0.666932861788\n",
        "[ 0.21902549  1.505515   -0.83884833  0.66666667]\n",
        "[ 4.97215305]\n"
       ]
      }
     ],
     "prompt_number": 42
    },
    {
     "cell_type": "markdown",
     "metadata": {
      "slideshow": {
       "slide_type": "subslide"
      }
     },
     "source": [
      "To see if this is significant, we have to see what is the probability of observing a t of 5.8190 or larger under the null hypothesis. We first import some  utilities stat functions form scipy."
     ]
    },
    {
     "cell_type": "code",
     "collapsed": true,
     "input": [
      "from scipy.stats import t as tdist, norm as normdist"
     ],
     "language": "python",
     "metadata": {
      "slideshow": {
       "slide_type": "subslide"
      }
     },
     "outputs": [],
     "prompt_number": 43
    },
    {
     "cell_type": "code",
     "collapsed": false,
     "input": [
      "t = 1.8\n",
      "pvalue = 1.0 - tdist.cdf(t,10)\n",
      "print \"t-value = \", t, \"p-value = \", pvalue\n"
     ],
     "language": "python",
     "metadata": {
      "slideshow": {
       "slide_type": "subslide"
      }
     },
     "outputs": [
      {
       "output_type": "stream",
       "stream": "stdout",
       "text": [
        "t-value =  1.8 p-value =  0.0510261215673\n"
       ]
      }
     ],
     "prompt_number": 44
    },
    {
     "cell_type": "heading",
     "level": 4,
     "metadata": {
      "slideshow": {
       "slide_type": "slide"
      }
     },
     "source": [
      "GLM and F-tests "
     ]
    },
    {
     "cell_type": "markdown",
     "metadata": {
      "slideshow": {
       "slide_type": "subslide"
      }
     },
     "source": [
      "The simplest and generally most useful way of thinking of F test is to think as the test between two models: one which contains the regressor or factor that we want to test for (refered as the full model with design matrix $X$), and one which doesnt (the reduced model $X_0$). To test whether the model containing more columns is better, we compute the difference between the estimation of the noise variance between the models (variance estimated with $X$ versus variance estimated with $X_0$), normalized by the estimation of the noise variance under the full model. This is : \n"
     ]
    },
    {
     "cell_type": "markdown",
     "metadata": {
      "slideshow": {
       "slide_type": "subslide"
      }
     },
     "source": [
      "$$\n",
      "\\begin{eqnarray} \n",
      "F_{\\nu_1, \\nu_2} & = & \\frac{(Y^T(I-P_{X_0})Y - Y^T(I-P_{X})Y)/ \\nu_{1} }{Y^T(I- P_{X})Y/\\nu_{2}} \\\\ \n",
      "& = & \\frac{(\\textrm{SSR}(X_0) - \\textrm{SSR}(X))/\\nu_1}{\\textrm{SSR}(X)/\\nu_2}\n",
      "\\end{eqnarray}\n",
      "$$"
     ]
    },
    {
     "cell_type": "markdown",
     "metadata": {
      "slideshow": {
       "slide_type": "subslide"
      }
     },
     "source": [
      "with $\\textrm{SSR}(X)$, $\\textrm{SSR}(X_0)$, the sum of squares for error of models $X, X_0$\n",
      "respectively, and:\n",
      "\n",
      "$$\n",
      "\\begin{eqnarray} \n",
      "\\nu_{1} & =  & \\textrm{tr}(P_X - P_{X_0}) = \\textrm{tr}(R_0 - R_X) \\\\ \n",
      "    \\nu_{2} & = & \\textrm{tr}(I - P_X) = \\textrm{tr}(R_X) \n",
      "\\end{eqnarray}\n",
      "$$"
     ]
    },
    {
     "cell_type": "markdown",
     "metadata": {
      "slideshow": {
       "slide_type": "slide"
      }
     },
     "source": [
      "It can be shown that under the hypothesis that our true model is $X_0$, this follows an $F$ distribution with $\\nu_1,nu_2$ degrees of freedom. Let's take an example with the previous model and implement this with code. Say for instance that we are interested to know wheter there is an effect of the step function in the model."
     ]
    },
    {
     "cell_type": "code",
     "collapsed": false,
     "input": [
      "X0 = X[:,[0,3]]\n",
      "betah, Yfitted, resid = glm(X,Y)\n",
      "betah0, Yfitted0, resid0 = glm(X0,Y)\n",
      "PX = X.dot(lin.pinv(X))\n",
      "RX = np.eye(X.shape[0]) - PX\n",
      "PX0 = X0.dot(lin.pinv(X0))\n",
      "\n",
      "F_num = (sum(resid0**2) - sum(resid**2))\n",
      "nu1 = np.trace(PX - PX0)\n",
      "F_den = sum(resid**2)\n",
      "nu2 = np.trace(RX)\n",
      "F = (F_num/nu1)/(F_den/nu2)\n",
      "print F, nu1, nu2, F_num, F_den"
     ],
     "language": "python",
     "metadata": {
      "slideshow": {
       "slide_type": "subslide"
      }
     },
     "outputs": [
      {
       "output_type": "stream",
       "stream": "stdout",
       "text": [
        "24.7223059459 1.0 9.0 16.4881182545 6.00239575609\n"
       ]
      }
     ],
     "prompt_number": 45
    },
    {
     "cell_type": "code",
     "collapsed": false,
     "input": [
      "from scipy.stats import f as Fdist\n",
      "Fdist.sf(F,nu1,nu2)"
     ],
     "language": "python",
     "metadata": {
      "slideshow": {
       "slide_type": "subslide"
      }
     },
     "outputs": [
      {
       "metadata": {},
       "output_type": "pyout",
       "prompt_number": 46,
       "text": [
        "0.00076763786912195891"
       ]
      }
     ],
     "prompt_number": 46
    },
    {
     "cell_type": "heading",
     "level": 2,
     "metadata": {
      "slideshow": {
       "slide_type": "slide"
      }
     },
     "source": [
      "GLM over the brain volume"
     ]
    },
    {
     "cell_type": "code",
     "collapsed": false,
     "input": [
      "# An example of a t-test with 20 \"voxels\""
     ],
     "language": "python",
     "metadata": {},
     "outputs": [],
     "prompt_number": 19
    },
    {
     "cell_type": "code",
     "collapsed": false,
     "input": [
      "# using nipy\n",
      "import numpy as np\n",
      "import matplotlib.pyplot as plt\n",
      "from nipy.labs.viz import plot_map, cm\n"
     ],
     "language": "python",
     "metadata": {},
     "outputs": [],
     "prompt_number": 20
    },
    {
     "cell_type": "code",
     "collapsed": false,
     "input": [
      "from nipy.modalities.fmri.glm import FMRILinearModel\n"
     ],
     "language": "python",
     "metadata": {},
     "outputs": [],
     "prompt_number": 21
    },
    {
     "cell_type": "code",
     "collapsed": false,
     "input": [],
     "language": "python",
     "metadata": {},
     "outputs": [],
     "prompt_number": 21
    }
   ],
   "metadata": {}
  }
 ]
}