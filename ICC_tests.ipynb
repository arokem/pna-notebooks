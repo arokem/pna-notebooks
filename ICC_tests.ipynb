{
 "metadata": {
  "name": "",
  "signature": "sha256:61c06b533fd9917d3735f665cdd25fe36a2c5d6659787702ca3cbf3962dc5d90"
 },
 "nbformat": 3,
 "nbformat_minor": 0,
 "worksheets": [
  {
   "cells": [
    {
     "cell_type": "heading",
     "level": 2,
     "metadata": {},
     "source": [
      "Compute ICC with two ways anova : Python and R code"
     ]
    },
    {
     "cell_type": "heading",
     "level": 3,
     "metadata": {},
     "source": [
      "Some functions used in the notebook"
     ]
    },
    {
     "cell_type": "markdown",
     "metadata": {},
     "source": [
      "This notebook investigates the estimation of the ICC measure in the case where the measurements (here subjects) have to be considered as a random effect. \n",
      "The use case is N subjects, measured d times (eg at d different days). \n",
      "\n",
      "The days can be considered as random or fixed effects - here I consider them as a fixed effect in the python implementation, but the R module \"psy\" allows you to consider them as a random effect. Also, you have to decide if it makes more sense to consider \"days\" as pure repetition, or if there can be some effect of the days - in which case the appropriate ICC shoudl be :\n",
      "\n",
      "\n",
      "$$\n",
      "ICC = \\frac{\\sigma_{\\alpha}^2}{\\sigma_{\\epsilon}^2 + \\sigma_{\\alpha}^2}\n",
      "$$\n",
      "\n",
      "Where $\\sigma_{\\alpha}$ is the subject effect standard deviation, and $\\sigma_{\\epsilon}$ the noise standard deviation.\n",
      "\n",
      "\n",
      "The code below allows you to simulate different variance for the subjects, days, and noise, to demonstrate the difference between the \"aggreement\" and the \"consitency\" ICC.\n",
      "\n",
      "\n",
      "See [1] and [2] for more details.\n",
      "\n",
      "  [1] M\u00fcller, Reinhold, and Petra B\u00fcttner. \u201cA Critical Discussion of Intraclass Correlation Coefficients.\u201d Statistics in Medicine 13, no. 23\u201324 (1994): 2465\u20132476. doi:10.1002/sim.4780132310.\n",
      "\n",
      "  [2] http://en.wikipedia.org/wiki/Intraclass_correlation\n"
     ]
    },
    {
     "cell_type": "code",
     "collapsed": false,
     "input": [
      "import numpy as np\n",
      "from numpy.linalg import matrix_rank\n",
      "import scipy.linalg as lin\n",
      "from __future__ import print_function\n",
      "import matplotlib.pyplot as plt"
     ],
     "language": "python",
     "metadata": {},
     "outputs": [],
     "prompt_number": 15,
     "trusted": true
    },
    {
     "cell_type": "code",
     "collapsed": false,
     "input": [
      "def estim_var(Y, X, L0, debug=0):\n",
      "    '''\n",
      "    Y: numpy array\n",
      "        data\n",
      "    X: numpy array\n",
      "        design matrix\n",
      "    L0: numpy array\n",
      "        contrast forming X0, the \"null\" model X0\n",
      "        with X0 = X.dot(L0)\n",
      "    \n",
      "    returns: \n",
      "    \n",
      "    (MSE_num, MSE_den), (nu1, nu2): float\n",
      "    '''\n",
      "    \n",
      "    X0 = X.dot(L0)\n",
      "    n  = X.shape[0]\n",
      "    p0 = matrix_rank(X0)\n",
      "    p = matrix_rank(X)\n",
      "    \n",
      "    nu1 = p-p0\n",
      "    nu2 = n-p\n",
      "\n",
      "    SSR_den = (Y.T.dot(R_proj(X, Y)))\n",
      "    MSE_den = SSR_den/nu2\n",
      "    #SSR_num = (Y.T.dot(proj(X, Y)) - Y.T.dot(proj(X0, Y)))\n",
      "    SSRX0 = Y.T.dot(R_proj(X0, Y))\n",
      "    SSR_num = (SSRX0 - SSR_den)\n",
      "    MSE_num = SSR_num/nu1\n",
      "    if debug:\n",
      "        print((\" {:24}: {:5}\\n {:24}: {:5}\\n {:24}: {:5}\\n {:24}: {:5}\\n\").format(\n",
      "                    \"Y.T*Y\", Y.T.dot(Y)[0][0], \n",
      "                    \"Y.T.dot(proj(X, Y))\", Y.T.dot(proj(X, Y))[0][0], \n",
      "                    \"Y.T.dot(proj(X0, Y))\", Y.T.dot(proj(X0, Y))[0][0], \n",
      "                    \"Y.T.dot(R_proj(X,Y))\", Y.T.dot(R_proj(X,Y))[0][0]))\n",
      "\n",
      "        print(\"num: {}, p: {}, p0: {}, den: {}, n: {}, p: {}\".format( \n",
      "                  SSR_num, p, p0, SSR_den, n, p))\n",
      "    return (MSE_num, MSE_den), (nu1, nu2)\n",
      "\n",
      "def proj(X, Y=None):\n",
      "    # project onto the space of X\n",
      "    #print matrix_rank(X)\n",
      "    [u, s, vt] = lin.svd(X, full_matrices=False)\n",
      "    tol = s.max() * max(X.shape) * np.finfo(s.dtype).eps\n",
      "    nz = np.where(s > tol)[0]\n",
      "    #print nz\n",
      "    if Y is None:\n",
      "        return u[:,nz].dot(u[:,nz].T)\n",
      "    else:\n",
      "        return u[:,nz].dot(u[:,nz].T.dot(Y))\n",
      "    \n",
      "def R_proj(X, Y=None):\n",
      "    # project onto the space orthogonal to X (RY) \n",
      "    if Y is None:\n",
      "        return np.eye(X.shape[0]) - proj(X, Y) \n",
      "    else:\n",
      "        return Y - proj(X, Y)"
     ],
     "language": "python",
     "metadata": {},
     "outputs": [],
     "prompt_number": 16,
     "trusted": true
    },
    {
     "cell_type": "heading",
     "level": 3,
     "metadata": {},
     "source": [
      "Functions to simulate the design"
     ]
    },
    {
     "cell_type": "code",
     "collapsed": false,
     "input": [
      "# simulate some design matrix : \n",
      "\n",
      "def simul_F(levels, repeats, stack='repeats'):\n",
      "    # levels : the number of columns of the output\n",
      "    # repeats : number of rows = levels*repeats\n",
      "    # stack : order of the rows \n",
      "    if stack=='repeats':\n",
      "        return np.kron(np.eye(levels), np.ones((repeats,1)))\n",
      "    else:\n",
      "        return np.kron(np.ones((repeats,1)), np.eye(levels))\n",
      "\n",
      "def simul_X(N=15, d=3):\n",
      "    # by default we take 15 subjects and 3 days\n",
      "    \n",
      "    Xi = simul_F(N, d)\n",
      "    Xj = simul_F(d, N, stack='levels')\n",
      "    \n",
      "    return np.hstack((Xi, Xj))"
     ],
     "language": "python",
     "metadata": {},
     "outputs": [],
     "prompt_number": 17,
     "trusted": true
    },
    {
     "cell_type": "heading",
     "level": 3,
     "metadata": {},
     "source": [
      "Generate some data according to this model"
     ]
    },
    {
     "cell_type": "code",
     "collapsed": false,
     "input": [
      "def simul_Y(sub_eft=3.0, sub_std=2., sub_X=simul_F(15, 3), \n",
      "            day_eft=1.0, day_std=.2, day_X=simul_F(3, 15, stack='levels'), \n",
      "            err_std=2.0):  \n",
      "\n",
      "    N = sub_X.shape[1]\n",
      "    d = day_X.shape[1]\n",
      "    X = np.hstack((sub_X, day_X))\n",
      "    \n",
      "    sub_effect = sub_eft*np.ones((N,1)) + np.random.normal(0,sub_std,size=(N,1))\n",
      "    day_effect = day_eft*np.ones((d,1)) + np.random.normal(0,day_std,size=(d,1))\n",
      "    \n",
      "    effect = np.vstack((sub_effect, day_effect))   \n",
      "    error = np.random.normal(0, err_std, size=(X.shape[0],1))\n",
      "\n",
      "    return X.dot(effect) + error"
     ],
     "language": "python",
     "metadata": {},
     "outputs": [],
     "prompt_number": 18,
     "trusted": true
    },
    {
     "cell_type": "code",
     "collapsed": false,
     "input": [
      "# Check the simulation results\n",
      "X = simul_X()\n",
      "#print(X)\n",
      "Nsub, days = 15,3\n",
      "params = { 'sub_eft':3.0, 'sub_std':10., 'sub_X':simul_F(Nsub, days), \n",
      "           'day_eft':1.0, 'day_std':.2, 'day_X':simul_F(days, Nsub, stack='levels'), \n",
      "           'err_std':2.0 }\n",
      "\n",
      "Y = simul_Y(**params)\n",
      "# print(Y.T)"
     ],
     "language": "python",
     "metadata": {},
     "outputs": [],
     "prompt_number": 19,
     "trusted": true
    },
    {
     "cell_type": "heading",
     "level": 3,
     "metadata": {},
     "source": [
      "Do Nsim Simulations"
     ]
    },
    {
     "cell_type": "code",
     "collapsed": true,
     "input": [
      "Nsub, days = 15,3\n",
      "params = { 'sub_eft':0.0, 'sub_std':3., 'sub_X':simul_F(Nsub, days), \n",
      "           'day_eft':0.0, 'day_std':10., 'day_X':simul_F(days, Nsub, stack='levels'), \n",
      "           'err_std':2.0 }\n",
      "\n",
      "est_sig2 = []\n",
      "est_VSub = []\n",
      "\n",
      "X = simul_X()\n",
      "Y = simul_Y(**params)\n",
      "\n",
      "# remove the mean of the random effects [0:15]\n",
      "#X[:,:N] = X[:,:N] - X[:,:N].mean(axis=0)\n",
      "# remove a colum \n",
      "#X = X[:,1:]\n",
      "L0 = np.vstack((np.zeros((Nsub,days)),np.eye(days)));\n",
      "# remove the first line of the contrast mtx\n",
      "#L0 = L0[1:,:]\n",
      "\n",
      "Nsim = 1\n",
      "\n",
      "for ii in range(Nsim):\n",
      "    Y = simul_Y(**params)\n",
      "    (MSE_num, MSE_den), (nu1, nu2) = estim_var(Y,X,L0)\n",
      "    est_sig2.append(MSE_den)\n",
      "    betah = lin.pinv(X).dot(Y)\n",
      "    est_VSub.append( np.asarray(betah[:Nsub]).var() )\n"
     ],
     "language": "python",
     "metadata": {},
     "outputs": [],
     "prompt_number": 20,
     "trusted": true
    },
    {
     "cell_type": "heading",
     "level": 3,
     "metadata": {},
     "source": [
      "Show the results"
     ]
    },
    {
     "cell_type": "code",
     "collapsed": false,
     "input": [
      "est_sig2 = np.asarray(est_sig2).mean()\n",
      "est_V_sub = np.asarray(est_VSub).mean()\n",
      "Vest_sub = lin.pinv(X.T.dot(X))[0,0]*est_sig2.mean()\n",
      "Var_sub = (est_V_sub - Vest_sub)\n",
      "print(est_sig2, est_V_sub, Vest_sub)\n",
      "\n",
      "print(\"SDT(err):{:4.3f}, True:{:4.3f}\".format(np.sqrt(est_sig2), params['err_std']))\n",
      "print(\"est_V_sub:{:4.3f}, Vest_sub:{:4.3f}\".format(np.sqrt(est_V_sub), np.sqrt(Vest_sub)))\n",
      "print(\"Var(sub):{:4.3f}, True:{:4.3f}\".format(Var_sub, params['sub_std']**2))"
     ],
     "language": "python",
     "metadata": {},
     "outputs": [
      {
       "output_type": "stream",
       "stream": "stdout",
       "text": [
        "4.04509016134 10.3513254514 1.26096946387\n",
        "SDT(err):2.011, True:2.000\n",
        "est_V_sub:3.217, Vest_sub:1.123\n",
        "Var(sub):9.090, True:9.000\n"
       ]
      }
     ],
     "prompt_number": 21,
     "trusted": true
    },
    {
     "cell_type": "heading",
     "level": 3,
     "metadata": {},
     "source": [
      "ICC agreement:"
     ]
    },
    {
     "cell_type": "code",
     "collapsed": false,
     "input": [
      "print(Var_sub/(Var_sub+est_sig2))"
     ],
     "language": "python",
     "metadata": {},
     "outputs": [
      {
       "output_type": "stream",
       "stream": "stdout",
       "text": [
        "0.692047752662\n"
       ]
      }
     ],
     "prompt_number": 22,
     "trusted": true
    },
    {
     "cell_type": "heading",
     "level": 2,
     "metadata": {},
     "source": [
      "Testing R ICC\n"
     ]
    },
    {
     "cell_type": "code",
     "collapsed": false,
     "input": [
      "%load_ext rmagic\n",
      "%pylab inline"
     ],
     "language": "python",
     "metadata": {},
     "outputs": [
      {
       "output_type": "stream",
       "stream": "stdout",
       "text": [
        "The rmagic extension is already loaded. To reload it, use:\n",
        "  %reload_ext rmagic\n",
        "Populating the interactive namespace from numpy and matplotlib\n"
       ]
      }
     ],
     "prompt_number": 23,
     "trusted": true
    },
    {
     "cell_type": "code",
     "collapsed": false,
     "input": [
      "%%R\n",
      "# install.packages(\"psy\")\n",
      "# require(ICC)\n",
      "require(psy)"
     ],
     "language": "python",
     "metadata": {},
     "outputs": [],
     "prompt_number": 24,
     "trusted": true
    },
    {
     "cell_type": "code",
     "collapsed": false,
     "input": [
      "dnames =  ['d1','d2','d3']*Nsub\n",
      "sidx = np.kron(np.arange(1,Nsub+1),np.ones((days)))\n",
      "snames = ['S{:02}'.format(ii) for ii in sidx.astype(int)]\n",
      "\n",
      "icc_data = Y.reshape(Nsub,days)\n",
      "\n",
      "%Rpush Y dnames snames icc_data"
     ],
     "language": "python",
     "metadata": {},
     "outputs": [],
     "prompt_number": 25,
     "trusted": true
    },
    {
     "cell_type": "code",
     "collapsed": false,
     "input": [
      "%%R\n",
      "dfr <- data.frame(Y)\n",
      "names(dfr)[1] = \"Y\"\n",
      "#print(names(dfr))\n",
      "dfr[,\"days\"] <- dnames\n",
      "dfr[,\"Sub\"] <- snames\n",
      "# print(dfr)\n",
      "# print(ICCest(Sub, Y, data=dfr))\n",
      "# print(\"------------------------------------ psy.icc --------------------\")\n",
      "icc.res = (icc(icc_data))\n",
      "agreement = icc.res$icc.agreement\n",
      "consistency = icc.res$icc.consistency\n",
      "print(icc.res)"
     ],
     "language": "python",
     "metadata": {},
     "outputs": [
      {
       "metadata": {},
       "output_type": "display_data",
       "text": [
        "$nb.subjects\n",
        "[1] 15\n",
        "\n",
        "$nb.raters\n",
        "[1] 3\n",
        "\n",
        "$subject.variance\n",
        "[1] 9.742342\n",
        "\n",
        "$rater.variance\n",
        "[1] 55.63468\n",
        "\n",
        "$residual\n",
        "[1] 4.04509\n",
        "\n",
        "$icc.consistency\n",
        "[1] 0.7066103\n",
        "\n",
        "$icc.agreement\n",
        "[1] 0.1403349\n",
        "\n"
       ]
      }
     ],
     "prompt_number": 26,
     "trusted": true
    },
    {
     "cell_type": "code",
     "collapsed": false,
     "input": [
      "%Rpull agreement consistency"
     ],
     "language": "python",
     "metadata": {},
     "outputs": [],
     "prompt_number": 27,
     "trusted": true
    },
    {
     "cell_type": "code",
     "collapsed": false,
     "input": [
      "print(agreement[0], consistency[0])"
     ],
     "language": "python",
     "metadata": {},
     "outputs": [
      {
       "output_type": "stream",
       "stream": "stdout",
       "text": [
        "0.140334862135 0.706610340425\n"
       ]
      }
     ],
     "prompt_number": 28,
     "trusted": true
    }
   ],
   "metadata": {}
  }
 ]
}