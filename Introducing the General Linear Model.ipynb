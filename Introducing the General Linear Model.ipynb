{
 "metadata": {
  "name": ""
 },
 "nbformat": 3,
 "nbformat_minor": 0,
 "worksheets": [
  {
   "cells": [
    {
     "cell_type": "code",
     "collapsed": false,
     "input": [
      "%matplotlib inline"
     ],
     "language": "python",
     "metadata": {},
     "outputs": [],
     "prompt_number": 1
    },
    {
     "cell_type": "code",
     "collapsed": false,
     "input": [
      "import numpy as np\n",
      "import numpy.linalg as npl\n",
      "import matplotlib.pyplot as plt"
     ],
     "language": "python",
     "metadata": {},
     "outputs": [],
     "prompt_number": 2
    },
    {
     "cell_type": "code",
     "collapsed": false,
     "input": [
      "from scipy.stats import t as t_dist, gamma"
     ],
     "language": "python",
     "metadata": {},
     "outputs": [],
     "prompt_number": 3
    },
    {
     "cell_type": "code",
     "collapsed": false,
     "input": [
      "from sympy import (Matrix, Symbol, Eq, MatAdd, MatMul, ones,\n",
      "                   init_printing)\n",
      "init_printing(use_latex=True)"
     ],
     "language": "python",
     "metadata": {},
     "outputs": [],
     "prompt_number": 4
    },
    {
     "cell_type": "markdown",
     "metadata": {},
     "source": [
      "Let's pretend we have scores of \"psychopathy\" from 12 students:"
     ]
    },
    {
     "cell_type": "code",
     "collapsed": false,
     "input": [
      "psychopathy = [11.416,   4.514,  12.204,  14.835,\n",
      "               8.416,   6.563,  17.343, 13.02,\n",
      "               15.19 ,  11.902,  22.721,  22.324]"
     ],
     "language": "python",
     "metadata": {},
     "outputs": [],
     "prompt_number": 5
    },
    {
     "cell_type": "markdown",
     "metadata": {},
     "source": [
      "We have also taken skin-conductance scores to get a measure of clamminess for the handshakes of each student:"
     ]
    },
    {
     "cell_type": "code",
     "collapsed": false,
     "input": [
      "clammy = [0.389,  0.2  ,  0.241,  0.463,\n",
      "          4.585,  1.097,  1.642,  4.972,\n",
      "          7.957,  5.585,  5.527,  6.964]"
     ],
     "language": "python",
     "metadata": {},
     "outputs": [],
     "prompt_number": 6
    },
    {
     "cell_type": "markdown",
     "metadata": {},
     "source": [
      "We happen to believe that there is some relationship between `clammy` and `psychopathy`.  Plotting them together we get:"
     ]
    },
    {
     "cell_type": "code",
     "collapsed": false,
     "input": [
      "plt.plot(clammy, psychopathy, '+')\n",
      "plt.xlabel('Clamminess of handshake')\n",
      "plt.ylabel('Psychopathy score')"
     ],
     "language": "python",
     "metadata": {},
     "outputs": [
      {
       "metadata": {},
       "output_type": "pyout",
       "prompt_number": 7,
       "text": [
        "<matplotlib.text.Text at 0x10761ce50>"
       ]
      },
      {
       "metadata": {},
       "output_type": "display_data",
       "png": "[encoded data removed]",
       "text": [
        "<matplotlib.figure.Figure at 0x10760aad0>"
       ]
      }
     ],
     "prompt_number": 7
    },
    {
     "cell_type": "markdown",
     "metadata": {},
     "source": [
      "It looks like there may be some sort of straight line relationship.  For example, if we draw some sort of straight line through the points, it looks kind of OK.  The line we chose was just a guess by eye. It has intercept $10$ and slope $0.9$:"
     ]
    },
    {
     "cell_type": "code",
     "collapsed": false,
     "input": [
      "plt.plot(clammy, psychopathy, '+')\n",
      "plt.plot([0, 10], [8, 10 + 8 * 0.9])\n",
      "plt.xlabel('Clamminess of handshake')\n",
      "plt.ylabel('Psychopathy score')"
     ],
     "language": "python",
     "metadata": {},
     "outputs": [
      {
       "metadata": {},
       "output_type": "pyout",
       "prompt_number": 8,
       "text": [
        "<matplotlib.text.Text at 0x107656d10>"
       ]
      },
      {
       "metadata": {},
       "output_type": "display_data",
       "png": "[encoded data removed]",
       "text": [
        "<matplotlib.figure.Figure at 0x107637ed0>"
       ]
      }
     ],
     "prompt_number": 8
    },
    {
     "cell_type": "markdown",
     "metadata": {},
     "source": [
      "What does our straight line relationship mean?\n",
      "\n",
      "We are saying that the values of `psychopathy` can be partly predicted by a straight line of formula `10 + clammy * 0.9`."
     ]
    },
    {
     "cell_type": "markdown",
     "metadata": {},
     "source": [
      "To make this more general, let's call our `psychopathy` data $y$ - a vector with 12 values, one for each student.  $y_1$ is the value for the first student (= 11.416) and $y_i$ is the value for student $i$ where $i \\in 1 .. 12$.\n",
      "\n",
      "Our `clammy` score is a predictor.  Lets call the clammy scores $x$ - another vector with 12 values. $x_1$ is the value for the first student (= 0.389) and $x_i$ is the value for student $i$ where $i \\in 1 .. 12$.\n",
      "\n",
      "Our straight line model says:\n",
      "\n",
      "$y_i \\approx c + bx_i$\n",
      "\n",
      "where $c$ is the intercept and $b$ is the slope.  For the guessed line above:\n",
      "\n",
      "$y_i \\approx 10 + 0.9 x_i$"
     ]
    },
    {
     "cell_type": "markdown",
     "metadata": {},
     "source": [
      "With the $\\approx$ above, we are accepting that we will not succeed in explaining all the variation in our psychopathy data.  We can rephrase this by saying that each observation is equal to the predicted value (from the formula above) plus some error for each observation:\n",
      "\n",
      "$y_i = c + bx_i + e_i$"
     ]
    },
    {
     "cell_type": "markdown",
     "metadata": {},
     "source": [
      "We're going to rephrase this in matrix form.  Let's make the data and predictor and errors into vectors.\n",
      "\n",
      "$y$ is the vector of values $y_1 .. y_{12}$:"
     ]
    },
    {
     "cell_type": "code",
     "collapsed": false,
     "input": [
      "y = Matrix(psychopathy)\n",
      "y"
     ],
     "language": "python",
     "metadata": {},
     "outputs": [
      {
       "latex": [
        "$$\\left[\\begin{smallmatrix}{}11.416\\\\4.514\\\\12.204\\\\14.835\\\\8.416\\\\6.563\\\\17.343\\\\13.02\\\\15.19\\\\11.902\\\\22.721\\\\22.324\\end{smallmatrix}\\right]$$"
       ],
       "metadata": {},
       "output_type": "pyout",
       "png": "[encoded data removed]",
       "prompt_number": 9,
       "text": [
        "\u23a111.416\u23a4\n",
        "\u23a2      \u23a5\n",
        "\u23a24.514 \u23a5\n",
        "\u23a2      \u23a5\n",
        "\u23a212.204\u23a5\n",
        "\u23a2      \u23a5\n",
        "\u23a214.835\u23a5\n",
        "\u23a2      \u23a5\n",
        "\u23a28.416 \u23a5\n",
        "\u23a2      \u23a5\n",
        "\u23a26.563 \u23a5\n",
        "\u23a2      \u23a5\n",
        "\u23a217.343\u23a5\n",
        "\u23a2      \u23a5\n",
        "\u23a213.02 \u23a5\n",
        "\u23a2      \u23a5\n",
        "\u23a215.19 \u23a5\n",
        "\u23a2      \u23a5\n",
        "\u23a211.902\u23a5\n",
        "\u23a2      \u23a5\n",
        "\u23a222.721\u23a5\n",
        "\u23a2      \u23a5\n",
        "\u23a322.324\u23a6"
       ]
      }
     ],
     "prompt_number": 9
    },
    {
     "cell_type": "markdown",
     "metadata": {},
     "source": [
      "$x$ is the vector of values $x_1 .. x_{12}$:"
     ]
    },
    {
     "cell_type": "code",
     "collapsed": false,
     "input": [
      "x = Matrix(clammy)\n",
      "x"
     ],
     "language": "python",
     "metadata": {},
     "outputs": [
      {
       "latex": [
        "$$\\left[\\begin{smallmatrix}{}0.389\\\\0.2\\\\0.241\\\\0.463\\\\4.585\\\\1.097\\\\1.642\\\\4.972\\\\7.957\\\\5.585\\\\5.527\\\\6.964\\end{smallmatrix}\\right]$$"
       ],
       "metadata": {},
       "output_type": "pyout",
       "png": "[encoded data removed]",
       "prompt_number": 10,
       "text": [
        "\u23a10.389\u23a4\n",
        "\u23a2     \u23a5\n",
        "\u23a2 0.2 \u23a5\n",
        "\u23a2     \u23a5\n",
        "\u23a20.241\u23a5\n",
        "\u23a2     \u23a5\n",
        "\u23a20.463\u23a5\n",
        "\u23a2     \u23a5\n",
        "\u23a24.585\u23a5\n",
        "\u23a2     \u23a5\n",
        "\u23a21.097\u23a5\n",
        "\u23a2     \u23a5\n",
        "\u23a21.642\u23a5\n",
        "\u23a2     \u23a5\n",
        "\u23a24.972\u23a5\n",
        "\u23a2     \u23a5\n",
        "\u23a27.957\u23a5\n",
        "\u23a2     \u23a5\n",
        "\u23a25.585\u23a5\n",
        "\u23a2     \u23a5\n",
        "\u23a25.527\u23a5\n",
        "\u23a2     \u23a5\n",
        "\u23a36.964\u23a6"
       ]
      }
     ],
     "prompt_number": 10
    },
    {
     "cell_type": "markdown",
     "metadata": {},
     "source": [
      "$\\epsilon$ is the vector of errors $e_1 .. e_{12}$:"
     ]
    },
    {
     "cell_type": "code",
     "collapsed": false,
     "input": [
      "epsilons = [Symbol('e_{0}'.format(i)) for i in range(1, 13)]\n",
      "epsilon = Matrix(epsilons)\n",
      "epsilon"
     ],
     "language": "python",
     "metadata": {},
     "outputs": [
      {
       "latex": [
        "$$\\left[\\begin{smallmatrix}{}e_{1}\\\\e_{2}\\\\e_{3}\\\\e_{4}\\\\e_{5}\\\\e_{6}\\\\e_{7}\\\\e_{8}\\\\e_{9}\\\\e_{10}\\\\e_{11}\\\\e_{12}\\end{smallmatrix}\\right]$$"
       ],
       "metadata": {},
       "output_type": "pyout",
       "png": "[encoded data removed]",
       "prompt_number": 11,
       "text": [
        "\u23a1e\u2081 \u23a4\n",
        "\u23a2   \u23a5\n",
        "\u23a2e\u2082 \u23a5\n",
        "\u23a2   \u23a5\n",
        "\u23a2e\u2083 \u23a5\n",
        "\u23a2   \u23a5\n",
        "\u23a2e\u2084 \u23a5\n",
        "\u23a2   \u23a5\n",
        "\u23a2e\u2085 \u23a5\n",
        "\u23a2   \u23a5\n",
        "\u23a2e\u2086 \u23a5\n",
        "\u23a2   \u23a5\n",
        "\u23a2e\u2087 \u23a5\n",
        "\u23a2   \u23a5\n",
        "\u23a2e\u2088 \u23a5\n",
        "\u23a2   \u23a5\n",
        "\u23a2e\u2089 \u23a5\n",
        "\u23a2   \u23a5\n",
        "\u23a2e\u2081\u2080\u23a5\n",
        "\u23a2   \u23a5\n",
        "\u23a2e\u2081\u2081\u23a5\n",
        "\u23a2   \u23a5\n",
        "\u23a3e\u2081\u2082\u23a6"
       ]
      }
     ],
     "prompt_number": 11
    },
    {
     "cell_type": "markdown",
     "metadata": {},
     "source": [
      "Now we can rephrase our model as:\n",
      "\n",
      "$$y = c + b x + \\epsilon$$"
     ]
    },
    {
     "cell_type": "markdown",
     "metadata": {},
     "source": [
      "Bear with with us for a little trick. If $o$ is a vector of ones, then we can rewrite the formula as:\n",
      "\n",
      "$y = co + bx + \\epsilon$\n",
      "\n",
      "because $o_i = 1$ and so $co_i = c$"
     ]
    },
    {
     "cell_type": "code",
     "collapsed": false,
     "input": [
      "c, b = Symbol('c'), Symbol('b')\n",
      "o = ones((12, 1))\n",
      "# Compile expression without any simplication or reordering\n",
      "rhs = MatAdd(MatMul(c, o, evaluate=False),\n",
      "             MatMul(b, x, evaluate=False),\n",
      "             epsilon)\n",
      "Eq(y, rhs)"
     ],
     "language": "python",
     "metadata": {},
     "outputs": [
      {
       "latex": [
        "$$\\left[\\begin{smallmatrix}{}11.416\\\\4.514\\\\12.204\\\\14.835\\\\8.416\\\\6.563\\\\17.343\\\\13.02\\\\15.19\\\\11.902\\\\22.721\\\\22.324\\end{smallmatrix}\\right] = c \\left[\\begin{smallmatrix}{}1\\\\1\\\\1\\\\1\\\\1\\\\1\\\\1\\\\1\\\\1\\\\1\\\\1\\\\1\\end{smallmatrix}\\right] + b \\left[\\begin{smallmatrix}{}0.389\\\\0.2\\\\0.241\\\\0.463\\\\4.585\\\\1.097\\\\1.642\\\\4.972\\\\7.957\\\\5.585\\\\5.527\\\\6.964\\end{smallmatrix}\\right] + \\left[\\begin{smallmatrix}{}e_{1}\\\\e_{2}\\\\e_{3}\\\\e_{4}\\\\e_{5}\\\\e_{6}\\\\e_{7}\\\\e_{8}\\\\e_{9}\\\\e_{10}\\\\e_{11}\\\\e_{12}\\end{smallmatrix}\\right]$$"
       ],
       "metadata": {},
       "output_type": "pyout",
       "png": "[encoded data removed]",
       "prompt_number": 12,
       "text": [
        "\u23a111.416\u23a4 = c\u22c5\u23a11\u23a4 + b\u22c5\u23a10.389\u23a4 + \u23a1e\u2081 \u23a4\n",
        "\u23a2      \u23a5     \u23a2 \u23a5     \u23a2     \u23a5   \u23a2   \u23a5\n",
        "\u23a24.514 \u23a5     \u23a21\u23a5     \u23a2 0.2 \u23a5   \u23a2e\u2082 \u23a5\n",
        "\u23a2      \u23a5     \u23a2 \u23a5     \u23a2     \u23a5   \u23a2   \u23a5\n",
        "\u23a212.204\u23a5     \u23a21\u23a5     \u23a20.241\u23a5   \u23a2e\u2083 \u23a5\n",
        "\u23a2      \u23a5     \u23a2 \u23a5     \u23a2     \u23a5   \u23a2   \u23a5\n",
        "\u23a214.835\u23a5     \u23a21\u23a5     \u23a20.463\u23a5   \u23a2e\u2084 \u23a5\n",
        "\u23a2      \u23a5     \u23a2 \u23a5     \u23a2     \u23a5   \u23a2   \u23a5\n",
        "\u23a28.416 \u23a5     \u23a21\u23a5     \u23a24.585\u23a5   \u23a2e\u2085 \u23a5\n",
        "\u23a2      \u23a5     \u23a2 \u23a5     \u23a2     \u23a5   \u23a2   \u23a5\n",
        "\u23a26.563 \u23a5     \u23a21\u23a5     \u23a21.097\u23a5   \u23a2e\u2086 \u23a5\n",
        "\u23a2      \u23a5     \u23a2 \u23a5     \u23a2     \u23a5   \u23a2   \u23a5\n",
        "\u23a217.343\u23a5     \u23a21\u23a5     \u23a21.642\u23a5   \u23a2e\u2087 \u23a5\n",
        "\u23a2      \u23a5     \u23a2 \u23a5     \u23a2     \u23a5   \u23a2   \u23a5\n",
        "\u23a213.02 \u23a5     \u23a21\u23a5     \u23a24.972\u23a5   \u23a2e\u2088 \u23a5\n",
        "\u23a2      \u23a5     \u23a2 \u23a5     \u23a2     \u23a5   \u23a2   \u23a5\n",
        "\u23a215.19 \u23a5     \u23a21\u23a5     \u23a27.957\u23a5   \u23a2e\u2089 \u23a5\n",
        "\u23a2      \u23a5     \u23a2 \u23a5     \u23a2     \u23a5   \u23a2   \u23a5\n",
        "\u23a211.902\u23a5     \u23a21\u23a5     \u23a25.585\u23a5   \u23a2e\u2081\u2080\u23a5\n",
        "\u23a2      \u23a5     \u23a2 \u23a5     \u23a2     \u23a5   \u23a2   \u23a5\n",
        "\u23a222.721\u23a5     \u23a21\u23a5     \u23a25.527\u23a5   \u23a2e\u2081\u2081\u23a5\n",
        "\u23a2      \u23a5     \u23a2 \u23a5     \u23a2     \u23a5   \u23a2   \u23a5\n",
        "\u23a322.324\u23a6     \u23a31\u23a6     \u23a36.964\u23a6   \u23a3e\u2081\u2082\u23a6"
       ]
      }
     ],
     "prompt_number": 12
    },
    {
     "cell_type": "markdown",
     "metadata": {},
     "source": [
      "We can do the same calculation with matrix multiplication.\n",
      "\n",
      "Call $X$ the matrix of two columns, where the first column is the column of ones ($o$ above) and the second column is $x$.  Call $B$ the column vector:\n",
      "\n",
      "$$\n",
      "\\left[\n",
      "\\begin{array}{B}\n",
      "c \\\\\n",
      "b \\\\\n",
      "\\end{array}\n",
      "\\right]\n",
      "$$"
     ]
    },
    {
     "cell_type": "code",
     "collapsed": false,
     "input": [
      "X = o.row_join(x)\n",
      "B = Matrix([c, b])\n",
      "Eq(y, MatAdd(MatMul(X, B), epsilon))"
     ],
     "language": "python",
     "metadata": {},
     "outputs": [
      {
       "latex": [
        "$$\\left[\\begin{smallmatrix}{}11.416\\\\4.514\\\\12.204\\\\14.835\\\\8.416\\\\6.563\\\\17.343\\\\13.02\\\\15.19\\\\11.902\\\\22.721\\\\22.324\\end{smallmatrix}\\right] = \\left[\\begin{smallmatrix}{}1 & 0.389\\\\1 & 0.2\\\\1 & 0.241\\\\1 & 0.463\\\\1 & 4.585\\\\1 & 1.097\\\\1 & 1.642\\\\1 & 4.972\\\\1 & 7.957\\\\1 & 5.585\\\\1 & 5.527\\\\1 & 6.964\\end{smallmatrix}\\right] \\left[\\begin{smallmatrix}{}c\\\\b\\end{smallmatrix}\\right] + \\left[\\begin{smallmatrix}{}e_{1}\\\\e_{2}\\\\e_{3}\\\\e_{4}\\\\e_{5}\\\\e_{6}\\\\e_{7}\\\\e_{8}\\\\e_{9}\\\\e_{10}\\\\e_{11}\\\\e_{12}\\end{smallmatrix}\\right]$$"
       ],
       "metadata": {},
       "output_type": "pyout",
       "png": "[encoded data removed]",
       "prompt_number": 13,
       "text": [
        "\u23a111.416\u23a4 = \u23a11  0.389\u23a4\u22c5\u23a1c\u23a4 + \u23a1e\u2081 \u23a4\n",
        "\u23a2      \u23a5   \u23a2        \u23a5 \u23a2 \u23a5   \u23a2   \u23a5\n",
        "\u23a24.514 \u23a5   \u23a21   0.2 \u23a5 \u23a3b\u23a6   \u23a2e\u2082 \u23a5\n",
        "\u23a2      \u23a5   \u23a2        \u23a5       \u23a2   \u23a5\n",
        "\u23a212.204\u23a5   \u23a21  0.241\u23a5       \u23a2e\u2083 \u23a5\n",
        "\u23a2      \u23a5   \u23a2        \u23a5       \u23a2   \u23a5\n",
        "\u23a214.835\u23a5   \u23a21  0.463\u23a5       \u23a2e\u2084 \u23a5\n",
        "\u23a2      \u23a5   \u23a2        \u23a5       \u23a2   \u23a5\n",
        "\u23a28.416 \u23a5   \u23a21  4.585\u23a5       \u23a2e\u2085 \u23a5\n",
        "\u23a2      \u23a5   \u23a2        \u23a5       \u23a2   \u23a5\n",
        "\u23a26.563 \u23a5   \u23a21  1.097\u23a5       \u23a2e\u2086 \u23a5\n",
        "\u23a2      \u23a5   \u23a2        \u23a5       \u23a2   \u23a5\n",
        "\u23a217.343\u23a5   \u23a21  1.642\u23a5       \u23a2e\u2087 \u23a5\n",
        "\u23a2      \u23a5   \u23a2        \u23a5       \u23a2   \u23a5\n",
        "\u23a213.02 \u23a5   \u23a21  4.972\u23a5       \u23a2e\u2088 \u23a5\n",
        "\u23a2      \u23a5   \u23a2        \u23a5       \u23a2   \u23a5\n",
        "\u23a215.19 \u23a5   \u23a21  7.957\u23a5       \u23a2e\u2089 \u23a5\n",
        "\u23a2      \u23a5   \u23a2        \u23a5       \u23a2   \u23a5\n",
        "\u23a211.902\u23a5   \u23a21  5.585\u23a5       \u23a2e\u2081\u2080\u23a5\n",
        "\u23a2      \u23a5   \u23a2        \u23a5       \u23a2   \u23a5\n",
        "\u23a222.721\u23a5   \u23a21  5.527\u23a5       \u23a2e\u2081\u2081\u23a5\n",
        "\u23a2      \u23a5   \u23a2        \u23a5       \u23a2   \u23a5\n",
        "\u23a322.324\u23a6   \u23a31  6.964\u23a6       \u23a3e\u2081\u2082\u23a6"
       ]
      }
     ],
     "prompt_number": 13
    },
    {
     "cell_type": "markdown",
     "metadata": {},
     "source": [
      "In symbols:\n",
      "\n",
      "$$y = X B + \\epsilon$$"
     ]
    },
    {
     "cell_type": "markdown",
     "metadata": {},
     "source": [
      "We still haven't found our best fitting line.   But before we go further, it might be obvious that we can easily add a new predictor here."
     ]
    },
    {
     "cell_type": "markdown",
     "metadata": {},
     "source": [
      "Let's say we think that psychopathy increases with age. We add the student's age as another predictor:"
     ]
    },
    {
     "cell_type": "code",
     "collapsed": false,
     "input": [
      "age = Matrix([22.5,  25.3,  24.6,  21.4,\n",
      "              20.7,  23.3,  23.8,  21.7,\n",
      "              21.3, 25.2,  24.6,  21.8])\n",
      "age"
     ],
     "language": "python",
     "metadata": {},
     "outputs": [
      {
       "latex": [
        "$$\\left[\\begin{smallmatrix}{}22.5\\\\25.3\\\\24.6\\\\21.4\\\\20.7\\\\23.3\\\\23.8\\\\21.7\\\\21.3\\\\25.2\\\\24.6\\\\21.8\\end{smallmatrix}\\right]$$"
       ],
       "metadata": {},
       "output_type": "pyout",
       "png": "[encoded data removed]",
       "prompt_number": 14,
       "text": [
        "\u23a122.5\u23a4\n",
        "\u23a2    \u23a5\n",
        "\u23a225.3\u23a5\n",
        "\u23a2    \u23a5\n",
        "\u23a224.6\u23a5\n",
        "\u23a2    \u23a5\n",
        "\u23a221.4\u23a5\n",
        "\u23a2    \u23a5\n",
        "\u23a220.7\u23a5\n",
        "\u23a2    \u23a5\n",
        "\u23a223.3\u23a5\n",
        "\u23a2    \u23a5\n",
        "\u23a223.8\u23a5\n",
        "\u23a2    \u23a5\n",
        "\u23a221.7\u23a5\n",
        "\u23a2    \u23a5\n",
        "\u23a221.3\u23a5\n",
        "\u23a2    \u23a5\n",
        "\u23a225.2\u23a5\n",
        "\u23a2    \u23a5\n",
        "\u23a224.6\u23a5\n",
        "\u23a2    \u23a5\n",
        "\u23a321.8\u23a6"
       ]
      }
     ],
     "prompt_number": 14
    },
    {
     "cell_type": "markdown",
     "metadata": {},
     "source": [
      "Now rename the `clammy` predictor from $x$ to $x_1$.  Call the `age` predictor $x_2$.   Call the slope for `clammy` $b_1$ (slope for $x_1$).  Call the slope for age $b_2$ (slope for $x_2$). Our model is:\n",
      "\n",
      "$$y_i = c + b_1 x_{1, i} + b_2 x_{2, i} + e_i$$\n",
      "\n",
      "In this model $X$ has three columns (ones, $x_1$, and $x_2$), and the $B$ vector has three values $c, b_1, b_2$.  This gives the same matrix formulation, with our new $X$ and $B$: $y = X B + \\epsilon$.\n",
      "\n",
      "This is a *linear* model because our model says that the data $y_i$ comes from the *sum* of some components ($c, b_1 x_{1, i}, b_2 x_{2, i}, e_i$)."
     ]
    },
    {
     "cell_type": "markdown",
     "metadata": {},
     "source": [
      "We can keep doing this by adding more and more regressors.  In general, a linear model with $p$ predictors looks like this:\n",
      "\n",
      "$$y_i = b_1 x_{1, i} + b_2 x_{2, i} + ... b_p x_{p, i} + e_i$$\n",
      "\n",
      "In the case of the models above, the first predictor $x_1$ would be a column of ones, to express the intercept in the model.\n",
      "\n",
      "Any model of the form above can still be phrased in the matrix form:\n",
      "\n",
      "$$y = X B + \\epsilon$$"
     ]
    },
    {
     "cell_type": "heading",
     "level": 2,
     "metadata": {},
     "source": [
      "Solving the model with matrix algebra"
     ]
    },
    {
     "cell_type": "markdown",
     "metadata": {},
     "source": [
      "The reason to formulate our problem this way is so we can use some basic matrix algebra to find the \"best\" line."
     ]
    },
    {
     "cell_type": "markdown",
     "metadata": {},
     "source": [
      "Let's assume that we want to find the line (intercept and slope) that gives the smallest \"distance\" between the estimated values (from the line), and the actual values (the data).\n",
      "\n",
      "We'll define 'distance' as the squared difference of the predicted value from the actual value.  These are the squared error terms $e_1^2, e_2^2 ... e_{n}^2$, where $n$ is the number of observations - 12 in our case."
     ]
    },
    {
     "cell_type": "markdown",
     "metadata": {},
     "source": [
      "Revising: our model is:\n",
      "\n",
      "$$\n",
      "y = \\bf{X} B + \\epsilon\n",
      "$$\n",
      "\n",
      "Where $y$ is the data vector $y_1, y_2, ... y_n$, $\\bf{X}$ is the design matrix of shape $n, p$, $B$ is the parameter vector, $\\beta_1, \\beta_2 ... \\beta_p$, and $\\epsilon$ is the error vector giving errors for each observation $\\epsilon_1, \\epsilon_2 ... \\epsilon_n$.\n",
      "\n",
      "Each column of $\\bf{X}$ is a regressor vector, so $\\bf{X}$ can be thought of as the column concatenation of $p$ vectors $x_1, x_2 ... x_p$, where $x_1$ is the first regressor *vector*, and so on."
     ]
    },
    {
     "cell_type": "markdown",
     "metadata": {},
     "source": [
      "In our case, we want the vector $B$ such that the errors $\\epsilon = y - \\bf{X} B$ have the smallest sum of squares $\\sum_{i=1}^n{e_i^2}$.  $\\sum_{i=1}^n{e_i^2}$ is called the *residual sum of squares*.\n",
      "\n",
      "It might or might not be obvious that this also means that the design matrix $\\bf{X}$ should be orthogonal to the errors - meaning that $\\bf{X}^T \\epsilon$ should be a vector of zeros.\n",
      "\n",
      "If that is the case then we can multiply $y = {\\bf X} \\boldsymbol{\\beta} + \\epsilon$ through by $\\bf{X}^T$:\n",
      "\n",
      "$$\n",
      "\\bf{X}^T y = \\bf{X}^T X B + \\bf{X}^T \\epsilon\n",
      "$$\n",
      "\n",
      "The last term now disappears because it is zero and:\n",
      "\n",
      "$$\n",
      "\\bf{X}^T y = \\bf{X}^T \\bf{X} B\n",
      "$$\n",
      "\n",
      "If $\\bf{X}^T \\bf{X}$ is invertible then there is a unique solution:\n",
      "\n",
      "$$\n",
      "B = (\\bf{X}^T \\bf{X})^{-1} \\bf{X} y\n",
      "$$\n",
      "\n",
      "It turns out that, if $\\bf{X}^T \\bf{X}$ is not invertible, then are an infinite number of solutions, and we have to choose one solution, taking into account that the parameters $B$ will depend on which solution we chose.  The *pseudoinverse* operator gives us one particular solution.  If $\\bf{A}^-$ is the pseudoinverse of matrix $\\bf{A}$ then the general solution for $B$, even when $\\bf{X}^T \\bf{X}$ is not invertible, is:\n",
      "\n",
      "$$\n",
      "B = \\bf{X}^-y\n",
      "$$"
     ]
    },
    {
     "cell_type": "markdown",
     "metadata": {},
     "source": [
      "So what line do we estimate for `psychopathy` and `clammy`:"
     ]
    },
    {
     "cell_type": "code",
     "collapsed": false,
     "input": [
      "X = np.column_stack((np.ones(12), clammy))\n",
      "X"
     ],
     "language": "python",
     "metadata": {},
     "outputs": [
      {
       "metadata": {},
       "output_type": "pyout",
       "prompt_number": 15,
       "text": [
        "array([[ 1.   ,  0.389],\n",
        "       [ 1.   ,  0.2  ],\n",
        "       [ 1.   ,  0.241],\n",
        "       [ 1.   ,  0.463],\n",
        "       [ 1.   ,  4.585],\n",
        "       [ 1.   ,  1.097],\n",
        "       [ 1.   ,  1.642],\n",
        "       [ 1.   ,  4.972],\n",
        "       [ 1.   ,  7.957],\n",
        "       [ 1.   ,  5.585],\n",
        "       [ 1.   ,  5.527],\n",
        "       [ 1.   ,  6.964]])"
       ]
      }
     ],
     "prompt_number": 15
    },
    {
     "cell_type": "code",
     "collapsed": false,
     "input": [
      "B = npl.pinv(X).dot(psychopathy)\n",
      "B"
     ],
     "language": "python",
     "metadata": {},
     "outputs": [
      {
       "metadata": {},
       "output_type": "pyout",
       "prompt_number": 16,
       "text": [
        "array([ 10.07128585,   0.99925723])"
       ]
      }
     ],
     "prompt_number": 16
    },
    {
     "cell_type": "code",
     "collapsed": false,
     "input": [
      "plt.plot(clammy, psychopathy, '+')\n",
      "max_clammy = np.max(clammy)\n",
      "plt.plot([0, B[0]], [max_clammy, B[0] + max_clammy * B[1]])\n",
      "plt.xlabel('Clamminess of handshake')\n",
      "plt.ylabel('Psychopathy score')"
     ],
     "language": "python",
     "metadata": {},
     "outputs": [
      {
       "metadata": {},
       "output_type": "pyout",
       "prompt_number": 17,
       "text": [
        "<matplotlib.text.Text at 0x10767dbd0>"
       ]
      },
      {
       "metadata": {},
       "output_type": "display_data",
       "png": "[encoded data removed]",
       "text": [
        "<matplotlib.figure.Figure at 0x107643f90>"
       ]
      }
     ],
     "prompt_number": 17
    },
    {
     "cell_type": "markdown",
     "metadata": {},
     "source": [
      "Our claim was that this slope and intercept minimize the sum of squared error:"
     ]
    },
    {
     "cell_type": "code",
     "collapsed": false,
     "input": [
      "fitted = X.dot(B)\n",
      "errors = psychopathy - fitted\n",
      "np.sum(errors **2)"
     ],
     "language": "python",
     "metadata": {},
     "outputs": [
      {
       "latex": [
        "$$252.92560645$$"
       ],
       "metadata": {},
       "output_type": "pyout",
       "png": "[encoded data removed]",
       "prompt_number": 18,
       "text": [
        "252.92560645"
       ]
      }
     ],
     "prompt_number": 18
    },
    {
     "cell_type": "markdown",
     "metadata": {},
     "source": [
      "Is this sum of squared errors smaller than our earlier guess of an intercept of 10 and a slope of 0.9?"
     ]
    },
    {
     "cell_type": "code",
     "collapsed": false,
     "input": [
      "fitted = X.dot([10, 0.9])\n",
      "errors = psychopathy - fitted\n",
      "np.sum(errors **2)"
     ],
     "language": "python",
     "metadata": {},
     "outputs": [
      {
       "latex": [
        "$$255.75076072$$"
       ],
       "metadata": {},
       "output_type": "pyout",
       "png": "[encoded data removed]",
       "prompt_number": 19,
       "text": [
        "255.75076072"
       ]
      }
     ],
     "prompt_number": 19
    },
    {
     "cell_type": "heading",
     "level": 2,
     "metadata": {},
     "source": [
      "Contrasts"
     ]
    },
    {
     "cell_type": "markdown",
     "metadata": {},
     "source": [
      "We can combine the values in the $B$ vector in different ways by using a *contrast* vector.  A contrast vector $C$ is a vector of weights $c_1, c_2 ... c_p$ for each value in the $B$ vector.  Assume that all vectors we've defined up until now are column vectors.  Then a scalar value that is a linear combination of the $B$ values can be written:\n",
      "\n",
      "$$\n",
      "C^T B\n",
      "$$\n",
      "\n",
      "We now return to our original question, whether clamminess of handshake predicts psychopathy score.\n",
      "\n",
      "If clamminess does predict psychopathy, then we would expect the slope of the best fit line between `clammy` and `psychopathy` would be different from zero.\n",
      "\n",
      "In our model, we have two predictors, the column of ones and `clammy`.  $p = 2$ and $B$ is length 2.  We could choose just the second of the values in $B$ (therefore $b_1$) with a contrast:\n",
      "\n",
      "$$\n",
      "\\left[\n",
      "\\begin{array}{C}\n",
      "1 \\\\\n",
      "0 \\\\\n",
      "\\end{array}\n",
      "\\right]\n",
      "$$\n",
      "\n",
      "This is the slope relating `clammy` to `psychopathy`.  Now we might be interested if our *estimate* of this slope is different from zero."
     ]
    },
    {
     "cell_type": "markdown",
     "metadata": {},
     "source": [
      "To test whether the estimate is different from zero, we can divide the estimate by the variability of the estimate.  This gives us an idea of how far the estimate is from zero, in terms of the variability of the estimate.  We won't go into the estimate of the variability here though, we'll just assume it (the formula is in the code below)."
     ]
    },
    {
     "cell_type": "markdown",
     "metadata": {},
     "source": [
      "With that introduction, here's how to do the estimation and a t statistic given the data $y$, the design $\\bf{X}$, and a contrast vector $C$."
     ]
    },
    {
     "cell_type": "code",
     "collapsed": false,
     "input": [
      "def t_stat(Y, X, C):\n",
      "    \"\"\" betas, t statistic and significance test given data, design matrix, contrast\n",
      "    \n",
      "    This is OLS estimation; we assume the errors to have independent\n",
      "    and identical normal distributions around zero for each $i$ in \n",
      "    $\\epsilon_i$ (i.i.d).\n",
      "    \"\"\"\n",
      "    # Make sure X, Y, C are all arrays\n",
      "    Y = np.asarray(Y)\n",
      "    X = np.asarray(X)\n",
      "    C = np.atleast_2d(C)\n",
      "    # Calculate the parameters\n",
      "    B = npl.pinv(X).dot(Y)\n",
      "    # The fitted values\n",
      "    fitted = X.dot(B)\n",
      "    # Residual sum of squares\n",
      "    RSS   = ((Y - fitted)**2).sum(axis=0)\n",
      "    # Degrees for freedom is the number of observations n minus the number\n",
      "    # of independent regressors we have used.  If all the regressor columns\n",
      "    # in X are independent then the (matrix rank of X) == p\n",
      "    # (where p the number of columns in X). If there is one column that can\n",
      "    # expressed as a linear sum of of the other columns then (matrix rank of X)\n",
      "    # will be p - 1 - and so on.\n",
      "    df =  X.shape[0] - npl.matrix_rank(X)\n",
      "    # Mean residual sum of squares\n",
      "    MRSS  = RSS / df\n",
      "    # calculate bottom half of t statistic\n",
      "    SE    = np.sqrt(MRSS * C.dot(npl.pinv(X.T.dot(X)).dot(C.T)))\n",
      "    t     = C.dot(B)/SE\n",
      "    # Get p value for t value using t distribution function\n",
      "    ltp   = t_dist(df).cdf(t) # lower tail p\n",
      "    p = 1 - ltp # upper tail p\n",
      "    return B, t, df, p"
     ],
     "language": "python",
     "metadata": {},
     "outputs": [],
     "prompt_number": 20
    },
    {
     "cell_type": "markdown",
     "metadata": {},
     "source": [
      "So, does `clammy` predict `psychopathy`?  If it does not, then our estimate of the slope will not be convincingly different from 0.  The t test divides our estimate of the slope by the error in the estimate; large values mean that the slope is large compared to the error in the estimate."
     ]
    },
    {
     "cell_type": "code",
     "collapsed": false,
     "input": [
      "X = np.column_stack((np.ones(12), clammy))\n",
      "Y = np.asarray(psychopathy)\n",
      "B, t, df, p = t_stat(Y, X, [0, 1])\n",
      "t, p"
     ],
     "language": "python",
     "metadata": {},
     "outputs": [
      {
       "metadata": {},
       "output_type": "pyout",
       "prompt_number": 21,
       "text": [
        "(array([[ 1.91438925]]), array([[ 0.04229476]]))"
       ]
      }
     ],
     "prompt_number": 21
    },
    {
     "cell_type": "heading",
     "level": 2,
     "metadata": {},
     "source": [
      "Dummy coding and the general linear model"
     ]
    },
    {
     "cell_type": "markdown",
     "metadata": {},
     "source": [
      "So far we have been doing *multiple regression*.  That is, all the columns (except the column of ones) are continuous vectors of numbers predicting our outcome data `psychopathy`.  These type of predictors are often called *covariates*.\n",
      "\n",
      "It turns out we can use this same framework to express the fact that different observations come from different groups.\n",
      "\n",
      "That's the same as saying that we can express *analysis of variance* designs using this same notation.\n",
      "\n",
      "To do this, we use columns of *dummy variables*."
     ]
    },
    {
     "cell_type": "markdown",
     "metadata": {},
     "source": [
      "Let's say we get some new and interesting information.  The first 4 students come from Berkeley, the second set of 4 come from Stanford, and the last set of 4 come from MIT.  Maybe the student's college predicts if they are a psychopath?"
     ]
    },
    {
     "cell_type": "markdown",
     "metadata": {},
     "source": [
      "How do we express this information? Let's forget about the clamminess score for now and just use the school information.  Our model might be that we can can best predict the psychopathy scores by taking a representative psychopathy score for the relevant school:"
     ]
    },
    {
     "cell_type": "markdown",
     "metadata": {},
     "source": [
      "$$\n",
      "y_i = \\mu_{Berkeley} + e_i  \\space\\mbox{if}\\space 1 \\le i \\le 4\n",
      "$$\n",
      "\n",
      "$$\n",
      "y_i = \\mu_{Stanford} + e_i \\space\\mbox{if}\\space 5 \\le i \\le 8\n",
      "$$\n",
      "\n",
      "$$\n",
      "y_i = \\mu_{MIT} + e_i \\space\\mbox{if}\\space 9 \\le i \\le 12\n",
      "$$"
     ]
    },
    {
     "cell_type": "markdown",
     "metadata": {},
     "source": [
      "We can code this with predictors in our design using *indicator variables*.  The \"Berkeley\" indicator variable vector is 1 when the student is from Berkeley and zero otherwise.  Similarly for the other two schools:"
     ]
    },
    {
     "cell_type": "code",
     "collapsed": false,
     "input": [
      "berkeley_indicator = [1, 1, 1, 1, 0, 0, 0, 0, 0, 0, 0, 0]\n",
      "stanford_indicator = [0, 0, 0, 0, 1, 1, 1, 1, 0, 0, 0, 0]\n",
      "mit_indicator      = [0, 0, 0, 0, 0, 0, 0, 0, 1, 1, 1, 1]\n",
      "X = np.column_stack((berkeley_indicator, stanford_indicator, mit_indicator))\n",
      "Matrix(X)"
     ],
     "language": "python",
     "metadata": {},
     "outputs": [
      {
       "latex": [
        "$$\\left[\\begin{smallmatrix}{}1 & 0 & 0\\\\1 & 0 & 0\\\\1 & 0 & 0\\\\1 & 0 & 0\\\\0 & 1 & 0\\\\0 & 1 & 0\\\\0 & 1 & 0\\\\0 & 1 & 0\\\\0 & 0 & 1\\\\0 & 0 & 1\\\\0 & 0 & 1\\\\0 & 0 & 1\\end{smallmatrix}\\right]$$"
       ],
       "metadata": {},
       "output_type": "pyout",
       "png": "[encoded data removed]",
       "prompt_number": 22,
       "text": [
        "\u23a11  0  0\u23a4\n",
        "\u23a2       \u23a5\n",
        "\u23a21  0  0\u23a5\n",
        "\u23a2       \u23a5\n",
        "\u23a21  0  0\u23a5\n",
        "\u23a2       \u23a5\n",
        "\u23a21  0  0\u23a5\n",
        "\u23a2       \u23a5\n",
        "\u23a20  1  0\u23a5\n",
        "\u23a2       \u23a5\n",
        "\u23a20  1  0\u23a5\n",
        "\u23a2       \u23a5\n",
        "\u23a20  1  0\u23a5\n",
        "\u23a2       \u23a5\n",
        "\u23a20  1  0\u23a5\n",
        "\u23a2       \u23a5\n",
        "\u23a20  0  1\u23a5\n",
        "\u23a2       \u23a5\n",
        "\u23a20  0  1\u23a5\n",
        "\u23a2       \u23a5\n",
        "\u23a20  0  1\u23a5\n",
        "\u23a2       \u23a5\n",
        "\u23a30  0  1\u23a6"
       ]
      }
     ],
     "prompt_number": 22
    },
    {
     "cell_type": "markdown",
     "metadata": {},
     "source": [
      "These indicator columns are *dummy variables* where the values code for the group membership."
     ]
    },
    {
     "cell_type": "markdown",
     "metadata": {},
     "source": [
      "Now the $B$ vector will be:\n",
      "\n",
      "$$\n",
      "\\left[\n",
      "\\begin{array}{B}\n",
      "\\mu_{Berkeley} \\\\\n",
      "\\mu_{Stanford} \\\\\n",
      "\\mu_{MIT} \\\\\n",
      "\\end{array}\n",
      "\\right]\n",
      "$$"
     ]
    },
    {
     "cell_type": "markdown",
     "metadata": {},
     "source": [
      "When we estimate these using the least squares method, what estimates will we get for $B$?"
     ]
    },
    {
     "cell_type": "code",
     "collapsed": false,
     "input": [
      "B = npl.pinv(X).dot(psychopathy)\n",
      "B"
     ],
     "language": "python",
     "metadata": {},
     "outputs": [
      {
       "metadata": {},
       "output_type": "pyout",
       "prompt_number": 23,
       "text": [
        "array([ 10.74225,  11.3355 ,  18.03425])"
       ]
      }
     ],
     "prompt_number": 23
    },
    {
     "cell_type": "code",
     "collapsed": false,
     "input": [
      "print(np.mean(psychopathy[:4]))\n",
      "print(np.mean(psychopathy[4:8]))\n",
      "print(np.mean(psychopathy[8:]))"
     ],
     "language": "python",
     "metadata": {},
     "outputs": [
      {
       "output_type": "stream",
       "stream": "stdout",
       "text": [
        "10.74225\n",
        "11.3355\n",
        "18.03425\n"
       ]
      }
     ],
     "prompt_number": 24
    },
    {
     "cell_type": "markdown",
     "metadata": {},
     "source": [
      "It looks like the MIT students are a bit more psychopathic.  Are they more psychopathic than Berkeley and Stanford?"
     ]
    },
    {
     "cell_type": "code",
     "collapsed": false,
     "input": [
      "B, t, df, p = t_stat(psychopathy, X, [-1, -1, 2])\n",
      "t, p"
     ],
     "language": "python",
     "metadata": {},
     "outputs": [
      {
       "metadata": {},
       "output_type": "pyout",
       "prompt_number": 25,
       "text": [
        "(array([[ 2.34035606]]), array([[ 0.02199731]]))"
       ]
      }
     ],
     "prompt_number": 25
    },
    {
     "cell_type": "markdown",
     "metadata": {},
     "source": [
      "Ah - yes - just as we suspected."
     ]
    },
    {
     "cell_type": "markdown",
     "metadata": {},
     "source": [
      "We can add back our clamminess score to the mix.  Does it explain anything once we know which school the student is at?"
     ]
    },
    {
     "cell_type": "code",
     "collapsed": false,
     "input": [
      "X = np.column_stack((berkeley_indicator,\n",
      "                     stanford_indicator,\n",
      "                     mit_indicator,\n",
      "                     clammy))\n",
      "X"
     ],
     "language": "python",
     "metadata": {},
     "outputs": [
      {
       "metadata": {},
       "output_type": "pyout",
       "prompt_number": 26,
       "text": [
        "array([[ 1.   ,  0.   ,  0.   ,  0.389],\n",
        "       [ 1.   ,  0.   ,  0.   ,  0.2  ],\n",
        "       [ 1.   ,  0.   ,  0.   ,  0.241],\n",
        "       [ 1.   ,  0.   ,  0.   ,  0.463],\n",
        "       [ 0.   ,  1.   ,  0.   ,  4.585],\n",
        "       [ 0.   ,  1.   ,  0.   ,  1.097],\n",
        "       [ 0.   ,  1.   ,  0.   ,  1.642],\n",
        "       [ 0.   ,  1.   ,  0.   ,  4.972],\n",
        "       [ 0.   ,  0.   ,  1.   ,  7.957],\n",
        "       [ 0.   ,  0.   ,  1.   ,  5.585],\n",
        "       [ 0.   ,  0.   ,  1.   ,  5.527],\n",
        "       [ 0.   ,  0.   ,  1.   ,  6.964]])"
       ]
      }
     ],
     "prompt_number": 26
    },
    {
     "cell_type": "code",
     "collapsed": false,
     "input": [
      "B, t, df, p = t_stat(psychopathy, X, [0, 0, 0, 1])\n",
      "t, p"
     ],
     "language": "python",
     "metadata": {},
     "outputs": [
      {
       "metadata": {},
       "output_type": "pyout",
       "prompt_number": 27,
       "text": [
        "(array([[-0.01066087]]), array([[ 0.50412246]]))"
       ]
      }
     ],
     "prompt_number": 27
    },
    {
     "cell_type": "markdown",
     "metadata": {},
     "source": [
      "No - it looks like the MIT students also have clammy hands, and once we know that the student is from MIT, the clammy score is not as useful."
     ]
    }
   ],
   "metadata": {}
  }
 ]
}