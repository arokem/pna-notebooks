{
 "metadata": {
  "name": ""
 },
 "nbformat": 3,
 "nbformat_minor": 0,
 "worksheets": [
  {
   "cells": [
    {
     "cell_type": "code",
     "collapsed": false,
     "input": [
      "from __future__ import division"
     ],
     "language": "python",
     "metadata": {},
     "outputs": [],
     "prompt_number": 1
    },
    {
     "cell_type": "code",
     "collapsed": false,
     "input": [
      "%matplotlib inline\n",
      "import numpy as np\n",
      "import matplotlib.pyplot as plt"
     ],
     "language": "python",
     "metadata": {},
     "outputs": [],
     "prompt_number": 2
    },
    {
     "cell_type": "code",
     "collapsed": false,
     "input": [
      "import sympy"
     ],
     "language": "python",
     "metadata": {},
     "outputs": [],
     "prompt_number": 3
    },
    {
     "cell_type": "code",
     "collapsed": false,
     "input": [
      "sympy.init_printing(order='old')"
     ],
     "language": "python",
     "metadata": {},
     "outputs": [],
     "prompt_number": 4
    },
    {
     "cell_type": "markdown",
     "metadata": {},
     "source": [
      "On Bonferroni"
     ]
    },
    {
     "cell_type": "code",
     "collapsed": false,
     "input": [
      "n, a_fwe, a_1 = sympy.symbols(r'n, \\alpha_{fwe}, \\alpha_1')"
     ],
     "language": "python",
     "metadata": {},
     "outputs": [],
     "prompt_number": 5
    },
    {
     "cell_type": "markdown",
     "metadata": {},
     "source": [
      "Chances that all $n$ tests are below $\\alpha_n$, assuming tests are independent:"
     ]
    },
    {
     "cell_type": "code",
     "collapsed": false,
     "input": [
      "all_neg = (1 - a_1) ** n"
     ],
     "language": "python",
     "metadata": {},
     "outputs": [],
     "prompt_number": 6
    },
    {
     "cell_type": "markdown",
     "metadata": {},
     "source": [
      "Chance that one or more tests are above or equal to $\\alpha_n$:"
     ]
    },
    {
     "cell_type": "code",
     "collapsed": false,
     "input": [
      "one_pos = 1 - all_neg\n",
      "one_pos"
     ],
     "language": "python",
     "metadata": {},
     "outputs": [
      {
       "latex": [
        "$$1 - \\left(1 - \\alpha_{1}\\right)^{n}$$"
       ],
       "metadata": {},
       "output_type": "pyout",
       "png": "[encoded data removed]",
       "prompt_number": 7,
       "text": [
        "                 n\n",
        "1 - (1 - \\alpha\u2081) "
       ]
      }
     ],
     "prompt_number": 7
    },
    {
     "cell_type": "markdown",
     "metadata": {},
     "source": [
      "We want $\\alpha_1$ such that the expression above equals desired FWE $\\alpha_{fwe}$:"
     ]
    },
    {
     "cell_type": "code",
     "collapsed": false,
     "input": [
      "equation = sympy.Eq(a_fwe, one_pos)\n",
      "equation"
     ],
     "language": "python",
     "metadata": {},
     "outputs": [
      {
       "latex": [
        "$$\\alpha_{{fwe}} = 1 - \\left(1 - \\alpha_{1}\\right)^{n}$$"
       ],
       "metadata": {},
       "output_type": "pyout",
       "png": "[encoded data removed]",
       "prompt_number": 8,
       "text": [
        "                                n\n",
        "\\alpha_{fwe} = 1 - (1 - \\alpha\u2081) "
       ]
      }
     ],
     "prompt_number": 8
    },
    {
     "cell_type": "markdown",
     "metadata": {},
     "source": [
      "Solve for $\\alpha_1$:"
     ]
    },
    {
     "cell_type": "code",
     "collapsed": false,
     "input": [
      "a_1_from_a_fwe = sympy.solve(equation, a_1)[0]\n",
      "a_1_from_a_fwe"
     ],
     "language": "python",
     "metadata": {},
     "outputs": [
      {
       "latex": [
        "$$1 - \\left(1 - \\alpha_{{fwe}}\\right)^{\\frac{1}{n}}$$"
       ],
       "metadata": {},
       "output_type": "pyout",
       "png": "[encoded data removed]",
       "prompt_number": 9,
       "text": [
        "    n __________________\n",
        "1 - \u2572\u2571 1 - \\alpha_{fwe} "
       ]
      }
     ],
     "prompt_number": 9
    },
    {
     "cell_type": "markdown",
     "metadata": {},
     "source": [
      "$a \\space / \\space n < a_{fwe}$, but close.  We can show that's true for the independent case: "
     ]
    },
    {
     "cell_type": "code",
     "collapsed": false,
     "input": [
      "real_thresh = sympy.lambdify((a_fwe, n), a_1_from_a_fwe)\n",
      "bonferroni = lambda p, n: p / n"
     ],
     "language": "python",
     "metadata": {},
     "outputs": [],
     "prompt_number": 10
    },
    {
     "cell_type": "code",
     "collapsed": false,
     "input": [
      "n_tests = np.arange(1, 11)\n",
      "# The exact threshold for independent p values\n",
      "real_thresh(0.05, n_tests)"
     ],
     "language": "python",
     "metadata": {},
     "outputs": [
      {
       "metadata": {},
       "output_type": "pyout",
       "prompt_number": 11,
       "text": [
        "array([ 0.05      ,  0.02532057,  0.01695243,  0.01274146,  0.01020622,\n",
        "        0.00851244,  0.00730083,  0.00639115,  0.00568304,  0.0051162 ])"
       ]
      }
     ],
     "prompt_number": 11
    },
    {
     "cell_type": "code",
     "collapsed": false,
     "input": [
      "bonferroni(0.05, n_tests)"
     ],
     "language": "python",
     "metadata": {},
     "outputs": [
      {
       "metadata": {},
       "output_type": "pyout",
       "prompt_number": 12,
       "text": [
        "array([ 0.05      ,  0.025     ,  0.01666667,  0.0125    ,  0.01      ,\n",
        "        0.00833333,  0.00714286,  0.00625   ,  0.00555556,  0.005     ])"
       ]
      }
     ],
     "prompt_number": 12
    }
   ],
   "metadata": {}
  }
 ]
}