{
 "metadata": {
  "name": ""
 },
 "nbformat": 3,
 "nbformat_minor": 0,
 "worksheets": [
  {
   "cells": [
    {
     "cell_type": "markdown",
     "metadata": {},
     "source": [
      "A notebook for thoughts about Cyril Pernet's article on GLM misconceptions"
     ]
    },
    {
     "cell_type": "code",
     "collapsed": false,
     "input": [
      "%pylab inline"
     ],
     "language": "python",
     "metadata": {},
     "outputs": [
      {
       "output_type": "stream",
       "stream": "stdout",
       "text": [
        "Populating the interactive namespace from numpy and matplotlib\n"
       ]
      }
     ],
     "prompt_number": 1
    },
    {
     "cell_type": "code",
     "collapsed": false,
     "input": [
      "import numpy as np\n",
      "import numpy.linalg as npl\n",
      "import matplotlib.pyplot as plt"
     ],
     "language": "python",
     "metadata": {},
     "outputs": [],
     "prompt_number": 2
    },
    {
     "cell_type": "markdown",
     "metadata": {},
     "source": [
      "Import statistical distributions from scipy:"
     ]
    },
    {
     "cell_type": "code",
     "collapsed": false,
     "input": [
      "from scipy.stats import t as t_dist, gamma"
     ],
     "language": "python",
     "metadata": {},
     "outputs": [],
     "prompt_number": 3
    },
    {
     "cell_type": "markdown",
     "metadata": {},
     "source": [
      "A routine to scale the design matrix for display:"
     ]
    },
    {
     "cell_type": "code",
     "collapsed": false,
     "input": [
      "def scale_design_mtx(X):\n",
      "    \"\"\"utility to scale the design matrix for display\n",
      "\n",
      "    This scales the columns to their own range so we can see the variations \n",
      "    across the column for all the columns, regardless of the scaling of the \n",
      "    column.\n",
      "    \"\"\"\n",
      "    mi, ma = X.min(axis=0), X.max(axis=0)\n",
      "    col_neq = (ma - mi) > 1.e-8\n",
      "    Xs = np.ones_like(X)\n",
      "    mi = mi[col_neq]\n",
      "    ma = ma[col_neq]\n",
      "    Xs[:,col_neq] = (X[:,col_neq] - mi)/(ma - mi)\n",
      "    return Xs"
     ],
     "language": "python",
     "metadata": {},
     "outputs": [],
     "prompt_number": 4
    },
    {
     "cell_type": "markdown",
     "metadata": {},
     "source": [
      "Display the design matrix nicely:"
     ]
    },
    {
     "cell_type": "code",
     "collapsed": false,
     "input": [
      "def show_design(X, design_title, **kwargs):\n",
      "    \"\"\" Show the design matrix nicely \"\"\"\n",
      "    plt.figure()\n",
      "    plt.gray() # Gray colormap\n",
      "    imshow(scale_design_mtx(X), interpolation='nearest', **kwargs)\n",
      "    plt.title(design_title)"
     ],
     "language": "python",
     "metadata": {},
     "outputs": [],
     "prompt_number": 5
    },
    {
     "cell_type": "markdown",
     "metadata": {},
     "source": [
      "Very simple t statistic from contrast and Ordinary Least Squares fit:"
     ]
    },
    {
     "cell_type": "code",
     "collapsed": false,
     "input": [
      "def t_stat(Y, X, C):\n",
      "    \"\"\" betas, t statistic and significance test given data, design matrix, contrast\n",
      "    \n",
      "    This is OLS estimation; we assume the errors to have independent\n",
      "    and identical normal distributions around zero for each $i$ in \n",
      "    $\\Epsilon_i$ (i.i.d).\n",
      "    \"\"\"\n",
      "    Y = np.asarray(Y)\n",
      "    X = np.asarray(X)\n",
      "    C = np.atleast_2d(C)\n",
      "    # Calculate the parameters\n",
      "    B = pinv(X).dot(Y)\n",
      "    RSS   = ((Y - X.dot(B))**2).sum(axis=0)\n",
      "    # Recalculate df\n",
      "    df =  X.shape[0] - npl.matrix_rank(X)\n",
      "    MRSS  = RSS / df\n",
      "    SE    = np.sqrt(MRSS * C.dot(npl.pinv(X.T.dot(X)).dot(C.T)))\n",
      "    t     = C.dot(B)/SE\n",
      "    ltp   = t_dist(df).cdf(t) # lower tail p\n",
      "    p = 1 - ltp # upper tail p\n",
      "    return B, t, df, p"
     ],
     "language": "python",
     "metadata": {},
     "outputs": [],
     "prompt_number": 6
    },
    {
     "cell_type": "markdown",
     "metadata": {},
     "source": [
      "Make the simulated data from C.P.s figure 2 (was figure 1):"
     ]
    },
    {
     "cell_type": "code",
     "collapsed": false,
     "input": [
      "a_block = np.array([-0.1, 0, 0.1])\n",
      "baseline = 10\n",
      "activation = 11\n",
      "on_off = np.hstack((a_block + baseline, a_block + activation))\n",
      "n_on_off = 3\n",
      "e = np.tile(a_block, (2 * n_on_off,))\n",
      "y = np.tile(on_off, (n_on_off,))\n",
      "plt.plot(y)"
     ],
     "language": "python",
     "metadata": {},
     "outputs": [
      {
       "metadata": {},
       "output_type": "pyout",
       "prompt_number": 7,
       "text": [
        "[<matplotlib.lines.Line2D at 0x105f399d0>]"
       ]
      },
      {
       "metadata": {},
       "output_type": "display_data",
       "png": "[encoded data removed]",
       "text": [
        "<matplotlib.figure.Figure at 0x105f172d0>"
       ]
      }
     ],
     "prompt_number": 7
    },
    {
     "cell_type": "code",
     "collapsed": false,
     "input": [
      "x_on = np.hstack((zeros(len(a_block)), ones(len(a_block))))\n",
      "x_off = 1 - x_on\n",
      "X_over_part = np.column_stack((x_on, x_off, ones_like(x_on)))\n",
      "X_over = np.tile(X_over_part, (n_on_off, 1))\n",
      "show_design(X_over, 'over parametrized')"
     ],
     "language": "python",
     "metadata": {},
     "outputs": [
      {
       "metadata": {},
       "output_type": "display_data",
       "png": "[encoded data removed]",
       "text": [
        "<matplotlib.figure.Figure at 0x105f49750>"
       ]
      }
     ],
     "prompt_number": 8
    },
    {
     "cell_type": "code",
     "collapsed": false,
     "input": [
      "X_well_part = np.column_stack((x_on, ones_like(x_on)))\n",
      "X_well = np.tile(X_well_part, (n_on_off, 1))\n",
      "show_design(X_well, 'well parametrized')"
     ],
     "language": "python",
     "metadata": {},
     "outputs": [
      {
       "metadata": {},
       "output_type": "display_data",
       "png": "[encoded data removed]",
       "text": [
        "<matplotlib.figure.Figure at 0x105f07e90>"
       ]
      }
     ],
     "prompt_number": 9
    },
    {
     "cell_type": "code",
     "collapsed": false,
     "input": [
      "X_times2 = X_well.copy()\n",
      "X_times2[:, 0] *= 2\n",
      "show_design(X_times2, 'times 2')"
     ],
     "language": "python",
     "metadata": {},
     "outputs": [
      {
       "metadata": {},
       "output_type": "display_data",
       "png": "[encoded data removed]",
       "text": [
        "<matplotlib.figure.Figure at 0x1069c4cd0>"
       ]
      }
     ],
     "prompt_number": 10
    },
    {
     "cell_type": "code",
     "collapsed": false,
     "input": [
      "B_over = npl.pinv(X_over).dot(y)\n",
      "B_over"
     ],
     "language": "python",
     "metadata": {},
     "outputs": [
      {
       "metadata": {},
       "output_type": "pyout",
       "prompt_number": 11,
       "text": [
        "array([ 4.,  3.,  7.])"
       ]
      }
     ],
     "prompt_number": 11
    },
    {
     "cell_type": "code",
     "collapsed": false,
     "input": [
      "# Print betas, t statistic, df, p value for different designs, contrasts\n",
      "print(t_stat(y, X_over, [1, 0, 0]))\n",
      "print(t_stat(y, X_well, [1, 0]))\n",
      "print(t_stat(y, X_times2, [1, 0]))"
     ],
     "language": "python",
     "metadata": {},
     "outputs": [
      {
       "output_type": "stream",
       "stream": "stdout",
       "text": [
        "(array([ 4.,  3.,  7.]), array([[ 185.90320062]]), 16, array([[ 0.]]))\n",
        "(array([  1.,  10.]), array([[ 24.49489743]]), 16, array([[  2.05391260e-14]]))\n",
        "(array([  0.5,  10. ]), array([[ 24.49489743]]), 16, array([[  2.05391260e-14]]))\n"
       ]
      }
     ],
     "prompt_number": 12
    },
    {
     "cell_type": "markdown",
     "metadata": {},
     "source": [
      "The t statistic on the over-parametrized design does not relflect the estimability of the contrast:"
     ]
    },
    {
     "cell_type": "code",
     "collapsed": false,
     "input": [
      "def is_estimable(X, C):\n",
      "    \"\"\" Is a contrast C estimable on a design X?\n",
      "    \n",
      "    To be estimable, the contrast needs to be orthogonal to the null-space of X.\n",
      "    This is because if $k$ is a vector in the null-space of X, then:\n",
      "    \n",
      "    Y = X B + e\n",
      "    \n",
      "    and\n",
      "    \n",
      "    Y = X (B + k) + e\n",
      "    \n",
      "    give the same fit (X B == X (B + k)).\n",
      "    \n",
      "    The null space of X is the orthogonal complement of the row-space of X.  So C\n",
      "    has to be in the row space of X.\n",
      "    \"\"\"\n",
      "    C = np.atleast_2d(C)\n",
      "    rankX = npl.matrix_rank(X)\n",
      "    return rankX == npl.matrix_rank(np.vstack((C, X)))"
     ],
     "language": "python",
     "metadata": {},
     "outputs": [],
     "prompt_number": 13
    },
    {
     "cell_type": "code",
     "collapsed": false,
     "input": [
      "is_estimable(X_over, [1, 0, 0])"
     ],
     "language": "python",
     "metadata": {},
     "outputs": [
      {
       "metadata": {},
       "output_type": "pyout",
       "prompt_number": 14,
       "text": [
        "False"
       ]
      }
     ],
     "prompt_number": 14
    },
    {
     "cell_type": "markdown",
     "metadata": {},
     "source": [
      "In our case, the null space of $\\mathbf{X}$ is:"
     ]
    },
    {
     "cell_type": "code",
     "collapsed": false,
     "input": [
      "import sympy\n",
      "X = sympy.Matrix(X_over)\n",
      "sympy.pretty_print(X.nullspace())"
     ],
     "language": "python",
     "metadata": {},
     "outputs": [
      {
       "output_type": "stream",
       "stream": "stdout",
       "text": [
        "\u23a1\u23a1-1.0\u23a4\u23a4\n",
        "\u23a2\u23a2    \u23a5\u23a5\n",
        "\u23a2\u23a2-1.0\u23a5\u23a5\n",
        "\u23a2\u23a2    \u23a5\u23a5\n",
        "\u23a3\u23a3 1  \u23a6\u23a6\n"
       ]
      }
     ],
     "prompt_number": 15
    },
    {
     "cell_type": "markdown",
     "metadata": {},
     "source": [
      "Any contrast vector not orthogonal to this null space is not estimable."
     ]
    },
    {
     "cell_type": "markdown",
     "metadata": {},
     "source": [
      "Now consider a design convolved with an HRF:"
     ]
    },
    {
     "cell_type": "code",
     "collapsed": false,
     "input": [
      "def spm_hrf(t):\n",
      "    \"\"\" Return SPM hrf sampled at times `t`\n",
      "    \"\"\"\n",
      "    # gamma.pdf only defined for t > 0\n",
      "    hrf = np.zeros_like(t, dtype=np.float)\n",
      "    hrf[t > 0] = gamma.pdf(t[t > 0], 6, 0, 1) - gamma.pdf(t[t > 0], 16, 0, 1) / 6.\n",
      "    return hrf / np.sum(hrf)\n",
      "\n",
      "def spm_hrf_d(t):\n",
      "    \"\"\" Return temporal derivative of SPM HRF sampled at times `t`\n",
      "    \"\"\"\n",
      "    # This is what spm does!\n",
      "    return spm_hrf(t) - spm_hrf(t - 1)"
     ],
     "language": "python",
     "metadata": {},
     "outputs": [],
     "prompt_number": 16
    },
    {
     "cell_type": "code",
     "collapsed": false,
     "input": [
      "t = np.arange(24)\n",
      "plt.plot(t, spm_hrf(t), label='HRF')\n",
      "plt.plot(t, spm_hrf_d(t), label='TD')\n",
      "plt.legend()"
     ],
     "language": "python",
     "metadata": {},
     "outputs": [
      {
       "metadata": {},
       "output_type": "pyout",
       "prompt_number": 17,
       "text": [
        "<matplotlib.legend.Legend at 0x107d3df50>"
       ]
      },
      {
       "metadata": {},
       "output_type": "display_data",
       "png": "[encoded data removed]",
       "text": [
        "<matplotlib.figure.Figure at 0x107d151d0>"
       ]
      }
     ],
     "prompt_number": 17
    },
    {
     "cell_type": "markdown",
     "metadata": {},
     "source": [
      "The design without HRF convolution"
     ]
    },
    {
     "cell_type": "code",
     "collapsed": false,
     "input": [
      "block_length = 24\n",
      "on_off = np.hstack((np.zeros(block_length), np.ones(block_length)))\n",
      "off_on = 1 - on_off\n",
      "X_hrf_over = np.column_stack((on_off, off_on, np.ones_like(on_off)))\n",
      "X_hrf_over = np.tile(X_hrf_over, (10, 1))\n",
      "show_design(X_hrf_over, 'before convolution', aspect=0.01)\n",
      "S = npl.svd(X_hrf_over, compute_uv=False)\n",
      "print('Smallest singular value (if close to 0 matrix may be rank deficient)')\n",
      "print(S.min())\n",
      "# Is -1 -1 1 still in the null space? Yes.\n",
      "np.allclose(X_hrf_over.dot([-1, -1, 1]), 0)"
     ],
     "language": "python",
     "metadata": {},
     "outputs": [
      {
       "output_type": "stream",
       "stream": "stdout",
       "text": [
        "Smallest singular value (if close to 0 matrix may be rank deficient)\n",
        "3.748455311e-14\n"
       ]
      },
      {
       "metadata": {},
       "output_type": "pyout",
       "prompt_number": 18,
       "text": [
        "True"
       ]
      },
      {
       "metadata": {},
       "output_type": "display_data",
       "png": "[encoded data removed]",
       "text": [
        "<matplotlib.figure.Figure at 0x107d22a90>"
       ]
      }
     ],
     "prompt_number": 18
    },
    {
     "cell_type": "markdown",
     "metadata": {},
     "source": [
      "Design with convolution:"
     ]
    },
    {
     "cell_type": "code",
     "collapsed": false,
     "input": [
      "hrf = spm_hrf(t)\n",
      "x0 = np.convolve(hrf, X_hrf_over[:, 0], mode='same')\n",
      "x1 = np.convolve(hrf, X_hrf_over[:, 1], mode='same')\n",
      "X_conv_over = np.column_stack((x0, x1, np.ones_like(x0)))\n",
      "show_design(X_conv_over, 'Convolved design', aspect=0.01)\n",
      "S = npl.svd(X_conv_over, compute_uv=False)\n",
      "print('Smallest singular value (if close to 0 matrix may be rank deficient)')\n",
      "print(S.min())"
     ],
     "language": "python",
     "metadata": {},
     "outputs": [
      {
       "output_type": "stream",
       "stream": "stdout",
       "text": [
        "Smallest singular value (if close to 0 matrix may be rank deficient)\n",
        "1.33432320671\n"
       ]
      },
      {
       "metadata": {},
       "output_type": "display_data",
       "png": "[encoded data removed]",
       "text": [
        "<matplotlib.figure.Figure at 0x1069d0210>"
       ]
      }
     ],
     "prompt_number": 19
    },
    {
     "cell_type": "markdown",
     "metadata": {},
     "source": [
      "Notice that the matrix with convolved columns is no longer rank deficient, and the vector:\n",
      "\n",
      "$$\n",
      "\\left[\\begin{matrix}-1\\\\-1\\\\1\\end{matrix}\\right]\n",
      "$$\n",
      "\n",
      "is no longer in the null space (because there is no null space for the convolved matrix)."
     ]
    },
    {
     "cell_type": "code",
     "collapsed": false,
     "input": [
      "# Is -1 -1 1 still in the null space?\n",
      "np.allclose(X_conv_over.dot([-1, -1, 1]), 0)"
     ],
     "language": "python",
     "metadata": {},
     "outputs": [
      {
       "metadata": {},
       "output_type": "pyout",
       "prompt_number": 20,
       "text": [
        "False"
       ]
      }
     ],
     "prompt_number": 20
    },
    {
     "cell_type": "markdown",
     "metadata": {},
     "source": [
      "OK, let's make some data based on the design:"
     ]
    },
    {
     "cell_type": "code",
     "collapsed": false,
     "input": [
      "x0_hrf = X_conv_over[:, 0]\n",
      "X_conv_well = np.column_stack((x0_hrf, np.ones_like(x0)))\n",
      "y = (x0_hrf - x0_hrf.mean()) * 1 + 10"
     ],
     "language": "python",
     "metadata": {},
     "outputs": [],
     "prompt_number": 21
    },
    {
     "cell_type": "code",
     "collapsed": false,
     "input": [
      "npl.pinv(X_conv_well).dot(y)"
     ],
     "language": "python",
     "metadata": {},
     "outputs": [
      {
       "metadata": {},
       "output_type": "pyout",
       "prompt_number": 22,
       "text": [
        "array([ 1.        ,  9.49828284])"
       ]
      }
     ],
     "prompt_number": 22
    },
    {
     "cell_type": "markdown",
     "metadata": {},
     "source": [
      "We don't reconstruct 10 correctly because the ``x0`` regressor does not have mean 0:"
     ]
    },
    {
     "cell_type": "code",
     "collapsed": false,
     "input": [
      "x0_hrf.mean()"
     ],
     "language": "python",
     "metadata": {},
     "outputs": [
      {
       "metadata": {},
       "output_type": "pyout",
       "prompt_number": 23,
       "text": [
        "0.50171715753825996"
       ]
      }
     ],
     "prompt_number": 23
    },
    {
     "cell_type": "code",
     "collapsed": false,
     "input": [
      "X_conv_orth = np.column_stack((x0_hrf - x0_hrf.mean(), np.ones_like(x0)))\n",
      "npl.pinv(X_conv_orth).dot(y)"
     ],
     "language": "python",
     "metadata": {},
     "outputs": [
      {
       "metadata": {},
       "output_type": "pyout",
       "prompt_number": 24,
       "text": [
        "array([  1.,  10.])"
       ]
      }
     ],
     "prompt_number": 24
    },
    {
     "cell_type": "markdown",
     "metadata": {},
     "source": [
      "Make a temporal derivative:"
     ]
    },
    {
     "cell_type": "code",
     "collapsed": false,
     "input": [
      "dhrf = spm_hrf_d(np.arange(24))\n",
      "x0_dhrf = np.convolve(dhrf, x0, mode='same')"
     ],
     "language": "python",
     "metadata": {},
     "outputs": [],
     "prompt_number": 25
    },
    {
     "cell_type": "markdown",
     "metadata": {},
     "source": [
      "The derivative is not orthogonal to the HRF, after convolution:"
     ]
    },
    {
     "cell_type": "code",
     "collapsed": false,
     "input": [
      "# Basis functions, before convolution with block - nearly orthogonal\n",
      "hrf.dot(dhrf)"
     ],
     "language": "python",
     "metadata": {},
     "outputs": [
      {
       "metadata": {},
       "output_type": "pyout",
       "prompt_number": 26,
       "text": [
        "0.010444334170623383"
       ]
      }
     ],
     "prompt_number": 26
    },
    {
     "cell_type": "code",
     "collapsed": false,
     "input": [
      "# After convolution with block - not orthogonal\n",
      "x0_hrf.dot(x0_dhrf)"
     ],
     "language": "python",
     "metadata": {},
     "outputs": [
      {
       "metadata": {},
       "output_type": "pyout",
       "prompt_number": 27,
       "text": [
        "-12.929872482305839"
       ]
      }
     ],
     "prompt_number": 27
    },
    {
     "cell_type": "markdown",
     "metadata": {},
     "source": [
      "We can orthogonalize using the same mechamism as we use for the fit:"
     ]
    },
    {
     "cell_type": "code",
     "collapsed": false,
     "input": [
      "def orth_x_wrt_y(x, y):\n",
      "    \"\"\" Orthonalize vector `x` with respect to matrix `y`\n",
      "    \"\"\"\n",
      "    y_in_x_beta = npl.pinv(y).dot(x)\n",
      "    y_in_x = y.dot(y_in_x_beta)\n",
      "    return x - y_in_x"
     ],
     "language": "python",
     "metadata": {},
     "outputs": [],
     "prompt_number": 28
    },
    {
     "cell_type": "code",
     "collapsed": false,
     "input": [
      "x0_dhrf_orth = orth_x_wrt_y(x0_dhrf, X_conv_orth)\n",
      "x0_dhrf_orth.T.dot(X_conv_orth)"
     ],
     "language": "python",
     "metadata": {},
     "outputs": [
      {
       "metadata": {},
       "output_type": "pyout",
       "prompt_number": 29,
       "text": [
        "array([  1.58692504e-14,  -7.51482210e-15])"
       ]
      }
     ],
     "prompt_number": 29
    },
    {
     "cell_type": "code",
     "collapsed": false,
     "input": [
      "x0_hrf.dot(x0_dhrf_orth)"
     ],
     "language": "python",
     "metadata": {},
     "outputs": [
      {
       "metadata": {},
       "output_type": "pyout",
       "prompt_number": 30,
       "text": [
        "1.1001616284644911e-14"
       ]
      }
     ],
     "prompt_number": 30
    },
    {
     "cell_type": "markdown",
     "metadata": {},
     "source": [
      "As we know, adding an orthogonal regressor to the whole the rest of the design cannot affect the fit for other regressors:"
     ]
    },
    {
     "cell_type": "code",
     "collapsed": false,
     "input": [
      "X_dconv_orth = np.column_stack((X_conv_orth[:, 0], x0_dhrf_orth, np.ones_like(x0)))\n",
      "npl.pinv(X_dconv_orth).dot(y)"
     ],
     "language": "python",
     "metadata": {},
     "outputs": [
      {
       "metadata": {},
       "output_type": "pyout",
       "prompt_number": 31,
       "text": [
        "array([  1.00000000e+00,  -1.42663659e-14,   1.00000000e+01])"
       ]
      }
     ],
     "prompt_number": 31
    },
    {
     "cell_type": "markdown",
     "metadata": {},
     "source": [
      "With or without noise:"
     ]
    },
    {
     "cell_type": "code",
     "collapsed": false,
     "input": [
      "ye = y + np.random.normal(size=(y.shape))\n",
      "print(npl.pinv(X_conv_orth).dot(ye))\n",
      "print(npl.pinv(X_dconv_orth).dot(ye))"
     ],
     "language": "python",
     "metadata": {},
     "outputs": [
      {
       "output_type": "stream",
       "stream": "stdout",
       "text": [
        "[ 1.03569586  9.9411936 ]\n",
        "[ 1.03569586  0.48264064  9.9411936 ]\n"
       ]
      }
     ],
     "prompt_number": 32
    },
    {
     "cell_type": "markdown",
     "metadata": {},
     "source": [
      "But - if the new regressor is not orthogonal to the whole of the rest of the design, the fit can change, even for regressors that *are* orthogonal to the new regressor:"
     ]
    },
    {
     "cell_type": "code",
     "collapsed": false,
     "input": [
      "# Design in which hrf regressor not orthogonal to constant\n",
      "partial_orthed = orth_x_wrt_y(x0_dhrf, x0_hrf[:, None])\n",
      "X_colinear = np.column_stack((x0_hrf, np.ones_like(x0_hrf)))\n",
      "X_mixed = np.column_stack((x0_hrf, partial_orthed, np.ones_like(x0_hrf)))\n",
      "X_mixed.T.dot(X_mixed)"
     ],
     "language": "python",
     "metadata": {},
     "outputs": [
      {
       "metadata": {},
       "output_type": "pyout",
       "prompt_number": 33,
       "text": [
        "array([[  2.43925746e+02,   7.95565870e-15,   2.40824236e+02],\n",
        "       [  7.95565870e-15,   2.57570547e+00,   1.27154540e+01],\n",
        "       [  2.40824236e+02,   1.27154540e+01,   4.80000000e+02]])"
       ]
      }
     ],
     "prompt_number": 33
    },
    {
     "cell_type": "markdown",
     "metadata": {},
     "source": [
      "So the second temporal derivative regressor is orthogonal to the first HRF regressor, but not orthogonal to the constant.  Estimating:"
     ]
    },
    {
     "cell_type": "code",
     "collapsed": false,
     "input": [
      "print(npl.pinv(X_colinear).dot(ye))\n",
      "print(npl.pinv(X_mixed).dot(ye))"
     ],
     "language": "python",
     "metadata": {},
     "outputs": [
      {
       "output_type": "stream",
       "stream": "stdout",
       "text": [
        "[ 1.03569586  9.42156722]\n",
        "[ 1.06070832  0.48264064  9.39623264]\n"
       ]
      }
     ],
     "prompt_number": 34
    },
    {
     "cell_type": "markdown",
     "metadata": {},
     "source": [
      "Estimation in the presence of noise caused the parameter for the first HRF regressor to change, even though the added regressor is orthogonal to the first HRF regressor."
     ]
    }
   ],
   "metadata": {}
  }
 ]
}