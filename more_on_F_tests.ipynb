{
 "metadata": {
  "name": "more_on_F_tests"
 },
 "nbformat": 3,
 "nbformat_minor": 0,
 "worksheets": [
  {
   "cells": [
    {
     "cell_type": "heading",
     "level": 1,
     "metadata": {},
     "source": [
      "The hidden truth on F-tests and contrasts "
     ]
    },
    {
     "cell_type": "markdown",
     "metadata": {},
     "source": [
      "We know that the traditional way of looking at an F-contrast is to think of two models : a full model $X$, and a reduced model $X_0$, and compute the sum of square of the residuals under these two models. We also know that we can express the numerator of an F test with a contrast that impose a constraint on the parameters of the model. This short notebook is to make clear the relation between these two formulations, and therefore being able to test unusual hypotheses more easily. "
     ]
    },
    {
     "cell_type": "code",
     "collapsed": false,
     "input": [
      "import scipy.linalg as lin \n",
      "import scipy.stats as sst\n",
      "import numpy as np"
     ],
     "language": "python",
     "metadata": {},
     "outputs": [],
     "prompt_number": 2
    },
    {
     "cell_type": "code",
     "collapsed": false,
     "input": [
      "n = 30\n",
      "\n",
      "Y = np.random.randn(n,1)\n",
      "\n",
      "# make a design of 1 factor 3 levels\n",
      "oneway_anov = np.kron(np.eye(3), ones((10,1)))\n",
      "trend = np.arange(0,n).reshape(n,1)\n",
      "intercept = np.ones((n,1))\n",
      "X = np.hstack((oneway_anov, trend, intercept))\n",
      "\n",
      "n, p = X.shape\n",
      "\n",
      "csignal = np.array([1., -1., 0, 1., 3.]).reshape(5,1)\n",
      "signal = X.dot(csignal)\n",
      "Y +=  signal\n",
      "\n",
      "print np.hstack((Y, X))"
     ],
     "language": "python",
     "metadata": {},
     "outputs": [
      {
       "output_type": "stream",
       "stream": "stdout",
       "text": [
        "[[  4.06662246   1.           0.           0.           0.           1.        ]\n",
        " [  4.87437695   1.           0.           0.           1.           1.        ]\n",
        " [  6.9190983    1.           0.           0.           2.           1.        ]\n",
        " [  7.62685453   1.           0.           0.           3.           1.        ]\n",
        " [  9.0455609    1.           0.           0.           4.           1.        ]\n",
        " [  9.96331007   1.           0.           0.           5.           1.        ]\n",
        " [  9.97433195   1.           0.           0.           6.           1.        ]\n",
        " [ 10.79782175   1.           0.           0.           7.           1.        ]\n",
        " [ 12.22668057   1.           0.           0.           8.           1.        ]\n",
        " [ 13.73886671   1.           0.           0.           9.           1.        ]\n",
        " [ 11.69300468   0.           1.           0.          10.           1.        ]\n",
        " [ 12.69459798   0.           1.           0.          11.           1.        ]\n",
        " [ 13.81832594   0.           1.           0.          12.           1.        ]\n",
        " [ 14.53094277   0.           1.           0.          13.           1.        ]\n",
        " [ 16.22562581   0.           1.           0.          14.           1.        ]\n",
        " [ 15.64302207   0.           1.           0.          15.           1.        ]\n",
        " [ 19.84044368   0.           1.           0.          16.           1.        ]\n",
        " [ 16.98564018   0.           1.           0.          17.           1.        ]\n",
        " [ 21.06734222   0.           1.           0.          18.           1.        ]\n",
        " [ 20.6583108    0.           1.           0.          19.           1.        ]\n",
        " [ 23.8971848    0.           0.           1.          20.           1.        ]\n",
        " [ 23.93962744   0.           0.           1.          21.           1.        ]\n",
        " [ 25.76989655   0.           0.           1.          22.           1.        ]\n",
        " [ 29.11991354   0.           0.           1.          23.           1.        ]\n",
        " [ 27.39946468   0.           0.           1.          24.           1.        ]\n",
        " [ 29.91903263   0.           0.           1.          25.           1.        ]\n",
        " [ 29.3750889    0.           0.           1.          26.           1.        ]\n",
        " [ 29.72951328   0.           0.           1.          27.           1.        ]\n",
        " [ 31.2982354    0.           0.           1.          28.           1.        ]\n",
        " [ 31.72690856   0.           0.           1.          29.           1.        ]]\n"
       ]
      }
     ],
     "prompt_number": 54
    },
    {
     "cell_type": "heading",
     "level": 2,
     "metadata": {},
     "source": [
      "F test with a known reduced model"
     ]
    },
    {
     "cell_type": "markdown",
     "metadata": {},
     "source": [
      "Let's imaging that we know the reduced model: we'd like to test what is in $X$ but not in $X_0$.\n",
      "\n",
      "We define the orthogonal projector onto $X$ as $P_X = X X^-$, where $X^-$ is the moore-penrose pseudo inverse.\n",
      "\n",
      "\\begin{eqnarray} \n",
      "%\\label{equ:F} \n",
      "  F_{\\nu_1, \\nu_2} & = & \\frac{(Y^T(I-P_{X_0})Y - Y^T(I-P_{X})Y)/ \\nu_{1} }{Y^T(I-P_{X})Y/\\nu_{2}} \\\\ \n",
      "  \t\t& = & \\frac{(SSR(X_0) - SSR(X))/\\nu_1}{SSR(X)/\\nu_2}\n",
      "\\end{eqnarray}\n",
      "\n",
      "with $SSR(X)$, (resp. $SSR(X_0)$) the sum of square for error of model $X$ (resp. $X_0$), and\n",
      "\n",
      "\\begin{eqnarray} \n",
      "  \\nu_{1} & =  & tr(P_X - P_{X_0}) = tr(R_0 - R_X) \\\\ \\nonumber \\nu_{2} & = & tr(I - P_X) = tr(R_X) \n",
      "\\end{eqnarray}\n"
     ]
    },
    {
     "cell_type": "code",
     "collapsed": false,
     "input": [
      "lin"
     ],
     "language": "python",
     "metadata": {},
     "outputs": [
      {
       "metadata": {},
       "output_type": "pyout",
       "prompt_number": 55,
       "text": [
        "<module 'scipy.linalg' from '/home/jb/.local/lib/python2.7/site-packages/scipy/linalg/__init__.pyc'>"
       ]
      }
     ],
     "prompt_number": 55
    },
    {
     "cell_type": "code",
     "collapsed": false,
     "input": [
      "# lets do an F-test : \n",
      "\n",
      "def F_test(Y, X, L):\n",
      "    '''\n",
      "    Y: numpy array\n",
      "    X: numpy array or model class\n",
      "    L: contrast \n",
      "        numpy array\n",
      "    '''\n",
      "    X0 = X.dot(L)\n",
      "    n, _ = X.shape\n",
      "    p0 = np.rank(X0)\n",
      "    p = np.rank(X)\n",
      "\n",
      "    numF = (Y.T.dot(proj(X0, Y)) - Y.T.dot(proj(X, Y)))/(p-p0)\n",
      "    print numF, p, p0\n",
      "    denF = (Y.T.dot(proj(X, Y)))/(n-p)\n",
      "    print denF, n, p\n",
      "    \n",
      "    return numF/denF\n",
      "\n",
      "    \n",
      "def proj(X, Y):\n",
      "    [u, s, vt] = lin.svd(X, full_matrices=False)\n",
      "    return u.dot(u.T.dot(Y))\n",
      "    "
     ],
     "language": "python",
     "metadata": {},
     "outputs": [],
     "prompt_number": 64
    },
    {
     "cell_type": "code",
     "collapsed": false,
     "input": [
      "L = np.eye(p)[:,3:]\n",
      "print X.dot(L)\n",
      "print F_test(Y, X, L)"
     ],
     "language": "python",
     "metadata": {},
     "outputs": [
      {
       "output_type": "stream",
       "stream": "stdout",
       "text": [
        "[[  0.   1.]\n",
        " [  1.   1.]\n",
        " [  2.   1.]\n",
        " [  3.   1.]\n",
        " [  4.   1.]\n",
        " [  5.   1.]\n",
        " [  6.   1.]\n",
        " [  7.   1.]\n",
        " [  8.   1.]\n",
        " [  9.   1.]\n",
        " [ 10.   1.]\n",
        " [ 11.   1.]\n",
        " [ 12.   1.]\n",
        " [ 13.   1.]\n",
        " [ 14.   1.]\n",
        " [ 15.   1.]\n",
        " [ 16.   1.]\n",
        " [ 17.   1.]\n",
        " [ 18.   1.]\n",
        " [ 19.   1.]\n",
        " [ 20.   1.]\n",
        " [ 21.   1.]\n",
        " [ 22.   1.]\n",
        " [ 23.   1.]\n",
        " [ 24.   1.]\n",
        " [ 25.   1.]\n",
        " [ 26.   1.]\n",
        " [ 27.   1.]\n",
        " [ 28.   1.]\n",
        " [ 29.   1.]]\n",
        "[[-inf]] 2 2\n",
        "[[ 416.25686748]] 30 2\n",
        "[[-inf]]\n"
       ]
      }
     ],
     "prompt_number": 65
    },
    {
     "cell_type": "heading",
     "level": 2,
     "metadata": {},
     "source": [
      "F test from contrast"
     ]
    },
    {
     "cell_type": "markdown",
     "metadata": {},
     "source": [
      "We assume from now on that the contrast of parameters we would like to test may\n",
      "concern multiple constraints on the $\\beta$, and will denote those constraints\n",
      "by $\\Lambda \\beta = 0$. \n",
      "\n",
      "Setting  $\\Lambda^T \\beta = 0$ is also setting  $H^T X \\beta =\n",
      "0$ for some matrix $H$ (the number of columns in $H$ is the number of columns\n",
      "in $\\Lambda$).  \n",
      "\n",
      "If we have a (legitimate) contrast of the parameters, what does\n",
      "$H$ look like? How does this relate to a reduced model? Why is all this\n",
      "relevant for fMRI?  It is interesting to understand what $H$ is. While $\\Lambda$\n",
      "puts some constraints on the parameters of the model, $H$ is the equivalent\n",
      "constraint on the space of $X$ \\citep{Christensen2002}. The reduced model that is to be tested is $ Y =\n",
      "X \\beta + \\epsilon $ $\\textbf{and}$ $H^T X \\beta =0$, or, equivalently, that $E(Y)\n",
      "\\in C(X)$ $\\textbf{and}$ $E(Y) \\in C(H)^{\\perp}$ where $C(H)^{\\perp}$ is the space\n",
      "orthogonal to $H$ (This is the set of vectors with zero correlation\n",
      "with any vector of $H$).  The reduced model should therefore be a matrix $X_0$\n",
      "such that $X_0 \\in C(X)$ $\\textbf{and}$ $X_0 \\in C(H)^{\\perp}$.\n"
     ]
    },
    {
     "cell_type": "markdown",
     "metadata": {},
     "source": [
      "\n",
      "By choosing $H = X^{T-} \\Lambda$, we impose the constraint on $X$ that\n",
      "corresponds to $\\Lambda^T \\beta = 0$.  Since $H^T E(Y) = H^T X \\beta =\n",
      "\\Lambda^T X^- X \\beta = \\Lambda^T \\beta = 0 $, we have $E(Y) \\in C(H)^\\perp $\n",
      "with this particular choice of $H$. Also, $H \\in C(X)$, so $H$ is a matrix \n",
      "that imposes a constraint on $X$ within the space of $X$, and is the part of\n",
      "$X$ that is being tested. The part of $X$ that is not being tested, the reduced\n",
      "model, can be found easily by projecting the orthogonal space of $H$ onto $X$ ,\n",
      "so we have $X_0 = P_X R_H  = P_X(I - P_H) = P_X - P_H$. Testing for $\\Lambda\n",
      "\\beta = 0$ is equivalent to testing for the reduced model $Y = X_0 \\gamma +\n",
      "\\epsilon$ with $X_0$ as defined above. Having defined $X_0$ as above, we have\n",
      "$P_X = P_{X_0} + P_H$.\n",
      "\n",
      "Now, the numerator of the F test can be rewritten in a much simpler\n",
      "way, as a function of $\\Lambda$ only:\n",
      "\n",
      "\\begin{eqnarray}\n",
      "  Y^T (P_H) Y & =  & Y^T X (X^T X)^- X^T H(H^T H)^- H^T X (X^T X)^- X^T Y / r(\\Lambda) \\\\ %\\nonumber\n",
      "  & =  & \\hat\\beta^T \\Lambda (\\Lambda^T (X^TX)^- \\Lambda)^- \\Lambda^T \\hat\\beta / r(\\Lambda)  \n",
      "\\end{eqnarray}\n",
      "Where $r(\\Lambda)$ is the rank of $\\Lambda$, and the F test can be rewritten as:\n",
      "\n",
      "\\begin{equation} \n",
      "  F_{\\nu_1, \\nu_2}  =  \\frac{\\hat\\beta^T \\Lambda (\\Lambda^T (X^TX)^- \\Lambda)^- \\Lambda^T \\hat\\beta / \\nu_{1} }{MSE} \\\\ \n",
      "\\end{equation}\n",
      "where the $MSE$ is the mean square error $SSR(X)/\\nu_2$.\n"
     ]
    },
    {
     "cell_type": "code",
     "collapsed": false,
     "input": [
      "Y"
     ],
     "language": "python",
     "metadata": {},
     "outputs": [
      {
       "metadata": {},
       "output_type": "pyout",
       "prompt_number": 13,
       "text": [
        "array([[-0.66928025],\n",
        "       [ 0.40666627],\n",
        "       [ 1.19888537],\n",
        "       [ 1.48497183],\n",
        "       [-0.02384231],\n",
        "       [ 0.53855678],\n",
        "       [ 0.98701444],\n",
        "       [-0.10671083],\n",
        "       [-2.37571341],\n",
        "       [-0.19928972],\n",
        "       [ 0.04878453],\n",
        "       [ 2.18545492],\n",
        "       [-1.22024952],\n",
        "       [ 0.43834118],\n",
        "       [ 0.41055199],\n",
        "       [-1.52845808],\n",
        "       [-0.30272765],\n",
        "       [ 0.46461327],\n",
        "       [ 0.17207386],\n",
        "       [ 0.69214284],\n",
        "       [-0.49200106],\n",
        "       [ 0.204483  ],\n",
        "       [ 0.0193898 ],\n",
        "       [ 0.42298055],\n",
        "       [ 0.04929813],\n",
        "       [ 0.46307414],\n",
        "       [-1.11249832],\n",
        "       [ 1.40184665],\n",
        "       [-0.13285608],\n",
        "       [-1.53154422]])"
       ]
      }
     ],
     "prompt_number": 13
    },
    {
     "cell_type": "code",
     "collapsed": false,
     "input": [],
     "language": "python",
     "metadata": {},
     "outputs": []
    }
   ],
   "metadata": {}
  }
 ]
}