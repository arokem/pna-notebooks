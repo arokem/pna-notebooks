{
 "metadata": {
  "name": ""
 },
 "nbformat": 3,
 "nbformat_minor": 0,
 "worksheets": [
  {
   "cells": [
    {
     "cell_type": "markdown",
     "metadata": {},
     "source": [
      "Finding faces, with processed data"
     ]
    },
    {
     "cell_type": "code",
     "collapsed": false,
     "input": [
      "%pylab inline\n",
      "import numpy as np\n",
      "import matplotlib.pyplot as plt"
     ],
     "language": "python",
     "metadata": {},
     "outputs": [
      {
       "output_type": "stream",
       "stream": "stdout",
       "text": [
        "Populating the interactive namespace from numpy and matplotlib\n"
       ]
      }
     ],
     "prompt_number": 1
    },
    {
     "cell_type": "markdown",
     "metadata": {},
     "source": [
      "You'll need the processed data from the website.  Use your web browser to download http://nipy.bic.berkeley.edu/practical_neuroimaging/srabold.nii.gz into this current directory, or do:\n",
      "\n",
      "`curl -O http://nipy.bic.berkeley.edu/practical_neuroimaging/srabold.nii.gz`\n",
      "\n",
      "in the terminal / shell (for OSX and Linux)"
     ]
    },
    {
     "cell_type": "code",
     "collapsed": false,
     "input": [
      "import nibabel as nib"
     ],
     "language": "python",
     "metadata": {},
     "outputs": [],
     "prompt_number": 2
    },
    {
     "cell_type": "code",
     "collapsed": false,
     "input": [
      "img = nib.load('srabold.nii.gz')"
     ],
     "language": "python",
     "metadata": {},
     "outputs": [],
     "prompt_number": 3
    },
    {
     "cell_type": "code",
     "collapsed": false,
     "input": [
      "print(img.header)"
     ],
     "language": "python",
     "metadata": {},
     "outputs": [
      {
       "output_type": "stream",
       "stream": "stdout",
       "text": [
        "<class 'nibabel.nifti1.Nifti1Header'> object, endian='<'\n",
        "sizeof_hdr      : 348\n",
        "data_type       : \n",
        "db_name         : \n",
        "extents         : 0\n",
        "session_error   : 0\n",
        "regular         : \n",
        "dim_info        : 0\n",
        "dim             : [  4  40  64  64 121   1   1   1]\n",
        "intent_p1       : 0.0\n",
        "intent_p2       : 0.0\n",
        "intent_p3       : 0.0\n",
        "intent_code     : none\n",
        "datatype        : float64\n",
        "bitpix          : 64\n",
        "slice_start     : 0\n",
        "pixdim          : [-1.    3.5   3.75  3.75  1.    1.    1.    1.  ]\n",
        "vox_offset      : 352.0\n",
        "scl_slope       : 1.0\n",
        "scl_inter       : 0.0\n",
        "slice_end       : 0\n",
        "slice_code      : unknown\n",
        "xyzt_units      : 10\n",
        "cal_max         : 0.0\n",
        "cal_min         : 0.0\n",
        "slice_duration  : 0.0\n",
        "toffset         : 0.0\n",
        "glmax           : 0\n",
        "glmin           : 0\n",
        "descrip         : \n",
        "aux_file        : \n",
        "qform_code      : scanner\n",
        "sform_code      : scanner\n",
        "quatern_b       : 0.0\n",
        "quatern_c       : 1.0\n",
        "quatern_d       : 0.0\n",
        "qoffset_x       : 68.25\n",
        "qoffset_y       : -118.125\n",
        "qoffset_z       : -118.125\n",
        "srow_x          : [ -3.5    0.     0.    68.25]\n",
        "srow_y          : [   0.       3.75     0.    -118.125]\n",
        "srow_z          : [   0.       0.       3.75  -118.125]\n",
        "intent_name     : \n",
        "magic           : n+1\n"
       ]
      }
     ],
     "prompt_number": 4
    },
    {
     "cell_type": "markdown",
     "metadata": {},
     "source": [
      "Defaults for plotting"
     ]
    },
    {
     "cell_type": "code",
     "collapsed": false,
     "input": [
      "plt.rcParams['image.cmap'] = 'gray'\n",
      "plt.rcParams['image.interpolation'] = 'nearest'"
     ],
     "language": "python",
     "metadata": {},
     "outputs": [],
     "prompt_number": 5
    },
    {
     "cell_type": "markdown",
     "metadata": {},
     "source": [
      "Loading the image may take a little while:"
     ]
    },
    {
     "cell_type": "code",
     "collapsed": false,
     "input": [
      "data = img.get_data()\n",
      "data.shape"
     ],
     "language": "python",
     "metadata": {},
     "outputs": [
      {
       "metadata": {},
       "output_type": "pyout",
       "prompt_number": 6,
       "text": [
        "(40, 64, 64, 121)"
       ]
      }
     ],
     "prompt_number": 6
    },
    {
     "cell_type": "code",
     "collapsed": false,
     "input": [
      "plt.imshow(data.mean(axis=-1)[:, :, 30])"
     ],
     "language": "python",
     "metadata": {},
     "outputs": [
      {
       "metadata": {},
       "output_type": "pyout",
       "prompt_number": 7,
       "text": [
        "<matplotlib.image.AxesImage at 0x100614190>"
       ]
      },
      {
       "metadata": {},
       "output_type": "display_data",
       "png": "[encoded data removed]",
       "text": [
        "<matplotlib.figure.Figure at 0x105239250>"
       ]
      }
     ],
     "prompt_number": 7
    },
    {
     "cell_type": "markdown",
     "metadata": {},
     "source": [
      "Why is this image blurry?"
     ]
    },
    {
     "cell_type": "markdown",
     "metadata": {},
     "source": [
      "So what was the subject doing here?\n",
      "\n",
      "https://openfmri.org/dataset/ds000105\n",
      "\n",
      "* 001 House\n",
      "* 002 Scrambled\n",
      "* 003 Cat\n",
      "* 004 Shoe\n",
      "* 005 Bottle\n",
      "* 006 Scissors\n",
      "* 007 Chair\n",
      "* 008 Face"
     ]
    },
    {
     "cell_type": "code",
     "collapsed": false,
     "input": [
      "event_types = ['house', 'scrambled', 'cat', 'shoe', 'bottle', 'scissors', 'chair', 'face']"
     ],
     "language": "python",
     "metadata": {},
     "outputs": [],
     "prompt_number": 8
    },
    {
     "cell_type": "markdown",
     "metadata": {},
     "source": [
      "You should have the task lists for this subject in your `~/data/ds105` directory.  Let's check:"
     ]
    },
    {
     "cell_type": "code",
     "collapsed": false,
     "input": [
      "import os\n",
      "HOME = os.path.expanduser('~')\n",
      "DATA_PATH = os.path.join(HOME, 'data', 'ds105')\n",
      "SUB1_TASK_PATH = os.path.join(DATA_PATH, 'sub001', 'model', 'model001', 'onsets', 'task001_run001')\n",
      "os.path.isdir(SUB1_TASK_PATH)"
     ],
     "language": "python",
     "metadata": {},
     "outputs": [
      {
       "metadata": {},
       "output_type": "pyout",
       "prompt_number": 9,
       "text": [
        "True"
       ]
      }
     ],
     "prompt_number": 9
    },
    {
     "cell_type": "markdown",
     "metadata": {},
     "source": [
      "If you got \"False\" above - you can download the zip file of the task files you need from:\n",
      "\n",
      "http://nipy.bic.berkeley.edu/practical_neuroimaging/ds105_sub001_tasks.zip\n",
      "\n",
      "Download the file, then `cd ~/data` and `unzip ~/Downloads/ds105_sub001_tasks.zip` (if you downloaded the file to your `Downloads` folder.\n",
      "\n",
      "Recheck:"
     ]
    },
    {
     "cell_type": "code",
     "collapsed": false,
     "input": [
      "os.path.isdir(SUB1_TASK_PATH)"
     ],
     "language": "python",
     "metadata": {},
     "outputs": [
      {
       "metadata": {},
       "output_type": "pyout",
       "prompt_number": 10,
       "text": [
        "True"
       ]
      }
     ],
     "prompt_number": 10
    },
    {
     "cell_type": "markdown",
     "metadata": {},
     "source": [
      "Look in this path:"
     ]
    },
    {
     "cell_type": "code",
     "collapsed": false,
     "input": [
      "os.listdir(SUB1_TASK_PATH)"
     ],
     "language": "python",
     "metadata": {},
     "outputs": [
      {
       "metadata": {},
       "output_type": "pyout",
       "prompt_number": 11,
       "text": [
        "['cond001.txt',\n",
        " 'cond002.txt',\n",
        " 'cond003.txt',\n",
        " 'cond004.txt',\n",
        " 'cond005.txt',\n",
        " 'cond006.txt',\n",
        " 'cond007.txt',\n",
        " 'cond008.txt']"
       ]
      }
     ],
     "prompt_number": 11
    },
    {
     "cell_type": "markdown",
     "metadata": {},
     "source": [
      "What are in these files?"
     ]
    },
    {
     "cell_type": "code",
     "collapsed": false,
     "input": [
      "COND1_FNAME = os.path.join(SUB1_TASK_PATH, 'cond001.txt')\n",
      "print(open(COND1_FNAME, 'rt').read())"
     ],
     "language": "python",
     "metadata": {},
     "outputs": [
      {
       "output_type": "stream",
       "stream": "stdout",
       "text": [
        "156.000\t0.5\t1\n",
        "158.000\t0.5\t1\n",
        "160.000\t0.5\t1\n",
        "162.000\t0.5\t1\n",
        "164.000\t0.5\t1\n",
        "166.000\t0.5\t1\n",
        "168.000\t0.5\t1\n",
        "170.000\t0.5\t1\n",
        "172.000\t0.5\t1\n",
        "174.000\t0.5\t1\n",
        "176.000\t0.5\t1\n",
        "178.000\t0.5\t1\n",
        "\n"
       ]
      }
     ],
     "prompt_number": 12
    },
    {
     "cell_type": "markdown",
     "metadata": {},
     "source": [
      "This is a common format for specifying events - any guesses what the columns are?\n"
     ]
    },
    {
     "cell_type": "markdown",
     "metadata": {},
     "source": [
      "I want to read this file to give me something I can use to specify my design.  Something like this:"
     ]
    },
    {
     "cell_type": "code",
     "collapsed": false,
     "input": [
      "def evdefs_from_fname(fname):\n",
      "    \"\"\" Get onset, duration, amplitude for event from file\n",
      "    \n",
      "    Parameters\n",
      "    ----------\n",
      "    fname : str\n",
      "        Filename to read data from\n",
      "        \n",
      "    Returns\n",
      "    -------\n",
      "    evdefs : list of lists\n",
      "        list, one element per event, where the elements are lists containing\n",
      "        (onset, duration, amplitude)\n",
      "    \"\"\"\n",
      "    evdefs = []\n",
      "    with open(fname, 'rt') as fobj:\n",
      "        for line in fobj:\n",
      "            entries = [float(e) for e in line.split()]\n",
      "            evdefs.append(entries)\n",
      "    return evdefs"
     ],
     "language": "python",
     "metadata": {},
     "outputs": [],
     "prompt_number": 13
    },
    {
     "cell_type": "code",
     "collapsed": false,
     "input": [
      "# Of course we need to test\n",
      "evdefs = evdefs_from_fname(COND1_FNAME)\n",
      "assert len(evdefs) == 12\n",
      "assert evdefs[0] == [156.000, 0.5, 1]\n",
      "assert evdefs[-1] == [178.000, 0.5, 1]"
     ],
     "language": "python",
     "metadata": {},
     "outputs": [],
     "prompt_number": 14
    },
    {
     "cell_type": "markdown",
     "metadata": {},
     "source": [
      "We can actually do something neater than that:"
     ]
    },
    {
     "cell_type": "code",
     "collapsed": false,
     "input": [
      "dtype_def = [('onset', 'f'), ('duration', 'f'), ('amplitude', 'f')]\n",
      "evs = np.loadtxt(COND1_FNAME, dtype_def)\n",
      "evs"
     ],
     "language": "python",
     "metadata": {},
     "outputs": [
      {
       "metadata": {},
       "output_type": "pyout",
       "prompt_number": 15,
       "text": [
        "array([(156.0, 0.5, 1.0), (158.0, 0.5, 1.0), (160.0, 0.5, 1.0),\n",
        "       (162.0, 0.5, 1.0), (164.0, 0.5, 1.0), (166.0, 0.5, 1.0),\n",
        "       (168.0, 0.5, 1.0), (170.0, 0.5, 1.0), (172.0, 0.5, 1.0),\n",
        "       (174.0, 0.5, 1.0), (176.0, 0.5, 1.0), (178.0, 0.5, 1.0)], \n",
        "      dtype=[('onset', '<f4'), ('duration', '<f4'), ('amplitude', '<f4')])"
       ]
      }
     ],
     "prompt_number": 15
    },
    {
     "cell_type": "markdown",
     "metadata": {},
     "source": [
      "This is nice because:"
     ]
    },
    {
     "cell_type": "code",
     "collapsed": false,
     "input": [
      "evs[0]['onset']"
     ],
     "language": "python",
     "metadata": {},
     "outputs": [
      {
       "metadata": {},
       "output_type": "pyout",
       "prompt_number": 16,
       "text": [
        "156.0"
       ]
      }
     ],
     "prompt_number": 16
    },
    {
     "cell_type": "code",
     "collapsed": false,
     "input": [
      "evs['onset']"
     ],
     "language": "python",
     "metadata": {},
     "outputs": [
      {
       "metadata": {},
       "output_type": "pyout",
       "prompt_number": 17,
       "text": [
        "array([ 156.,  158.,  160.,  162.,  164.,  166.,  168.,  170.,  172.,\n",
        "        174.,  176.,  178.], dtype=float32)"
       ]
      }
     ],
     "prompt_number": 17
    },
    {
     "cell_type": "markdown",
     "metadata": {},
     "source": [
      "We can load our events for all types:"
     ]
    },
    {
     "cell_type": "code",
     "collapsed": false,
     "input": [
      "event_defs = {}\n",
      "for eno in range(8):\n",
      "    fname = os.path.join(os.path.join(SUB1_TASK_PATH, 'cond%03d.txt' % (eno + 1)))\n",
      "    print(fname)\n",
      "    event_name = event_types[eno]\n",
      "    event_defs[event_name] = np.loadtxt(fname, dtype_def)\n",
      "event_defs          "
     ],
     "language": "python",
     "metadata": {},
     "outputs": [
      {
       "output_type": "stream",
       "stream": "stdout",
       "text": [
        "/Users/mb312/data/ds105/sub001/model/model001/onsets/task001_run001/cond001.txt\n",
        "/Users/mb312/data/ds105/sub001/model/model001/onsets/task001_run001/cond002.txt\n",
        "/Users/mb312/data/ds105/sub001/model/model001/onsets/task001_run001/cond003.txt\n",
        "/Users/mb312/data/ds105/sub001/model/model001/onsets/task001_run001/cond004.txt\n",
        "/Users/mb312/data/ds105/sub001/model/model001/onsets/task001_run001/cond005.txt\n",
        "/Users/mb312/data/ds105/sub001/model/model001/onsets/task001_run001/cond006.txt\n",
        "/Users/mb312/data/ds105/sub001/model/model001/onsets/task001_run001/cond007.txt\n",
        "/Users/mb312/data/ds105/sub001/model/model001/onsets/task001_run001/cond008.txt\n"
       ]
      },
      {
       "metadata": {},
       "output_type": "pyout",
       "prompt_number": 18,
       "text": [
        "{'bottle': array([(228.0, 0.5, 1.0), (230.0, 0.5, 1.0), (232.0, 0.5, 1.0),\n",
        "       (234.0, 0.5, 1.0), (236.0, 0.5, 1.0), (238.0, 0.5, 1.0),\n",
        "       (240.0, 0.5, 1.0), (242.0, 0.5, 1.0), (244.0, 0.5, 1.0),\n",
        "       (246.0, 0.5, 1.0), (248.0, 0.5, 1.0), (250.0, 0.5, 1.0)], \n",
        "      dtype=[('onset', '<f4'), ('duration', '<f4'), ('amplitude', '<f4')]),\n",
        " 'cat': array([(84.0, 0.5, 1.0), (86.0, 0.5, 1.0), (88.0, 0.5, 1.0),\n",
        "       (90.0, 0.5, 1.0), (92.0, 0.5, 1.0), (94.0, 0.5, 1.0),\n",
        "       (96.0, 0.5, 1.0), (98.0, 0.5, 1.0), (100.0, 0.5, 1.0),\n",
        "       (102.0, 0.5, 1.0), (104.0, 0.5, 1.0), (106.0, 0.5, 1.0)], \n",
        "      dtype=[('onset', '<f4'), ('duration', '<f4'), ('amplitude', '<f4')]),\n",
        " 'chair': array([(264.0, 0.5, 1.0), (266.0, 0.5, 1.0), (268.0, 0.5, 1.0),\n",
        "       (270.0, 0.5, 1.0), (272.0, 0.5, 1.0), (274.0, 0.5, 1.0),\n",
        "       (276.0, 0.5, 1.0), (278.0, 0.5, 1.0), (280.0, 0.5, 1.0),\n",
        "       (282.0, 0.5, 1.0), (284.0, 0.5, 1.0), (286.0, 0.5, 1.0)], \n",
        "      dtype=[('onset', '<f4'), ('duration', '<f4'), ('amplitude', '<f4')]),\n",
        " 'face': array([(48.0, 0.5, 1.0), (50.0, 0.5, 1.0), (52.0, 0.5, 1.0),\n",
        "       (54.0, 0.5, 1.0), (56.0, 0.5, 1.0), (58.0, 0.5, 1.0),\n",
        "       (60.0, 0.5, 1.0), (62.0, 0.5, 1.0), (64.0, 0.5, 1.0),\n",
        "       (66.0, 0.5, 1.0), (68.0, 0.5, 1.0), (70.0, 0.5, 1.0)], \n",
        "      dtype=[('onset', '<f4'), ('duration', '<f4'), ('amplitude', '<f4')]),\n",
        " 'house': array([(156.0, 0.5, 1.0), (158.0, 0.5, 1.0), (160.0, 0.5, 1.0),\n",
        "       (162.0, 0.5, 1.0), (164.0, 0.5, 1.0), (166.0, 0.5, 1.0),\n",
        "       (168.0, 0.5, 1.0), (170.0, 0.5, 1.0), (172.0, 0.5, 1.0),\n",
        "       (174.0, 0.5, 1.0), (176.0, 0.5, 1.0), (178.0, 0.5, 1.0)], \n",
        "      dtype=[('onset', '<f4'), ('duration', '<f4'), ('amplitude', '<f4')]),\n",
        " 'scissors': array([(12.0, 0.5, 1.0), (14.0, 0.5, 1.0), (16.0, 0.5, 1.0),\n",
        "       (18.0, 0.5, 1.0), (20.0, 0.5, 1.0), (22.0, 0.5, 1.0),\n",
        "       (24.0, 0.5, 1.0), (26.0, 0.5, 1.0), (28.0, 0.5, 1.0),\n",
        "       (30.0, 0.5, 1.0), (32.0, 0.5, 1.0), (34.0, 0.5, 1.0)], \n",
        "      dtype=[('onset', '<f4'), ('duration', '<f4'), ('amplitude', '<f4')]),\n",
        " 'scrambled': array([(192.0, 0.5, 1.0), (194.0, 0.5, 1.0), (196.0, 0.5, 1.0),\n",
        "       (198.0, 0.5, 1.0), (200.0, 0.5, 1.0), (202.0, 0.5, 1.0),\n",
        "       (204.0, 0.5, 1.0), (206.0, 0.5, 1.0), (208.0, 0.5, 1.0),\n",
        "       (210.0, 0.5, 1.0), (212.0, 0.5, 1.0), (214.0, 0.5, 1.0)], \n",
        "      dtype=[('onset', '<f4'), ('duration', '<f4'), ('amplitude', '<f4')]),\n",
        " 'shoe': array([(120.0, 0.5, 1.0), (122.0, 0.5, 1.0), (124.0, 0.5, 1.0),\n",
        "       (126.0, 0.5, 1.0), (128.0, 0.5, 1.0), (130.0, 0.5, 1.0),\n",
        "       (132.0, 0.5, 1.0), (134.0, 0.5, 1.0), (136.0, 0.5, 1.0),\n",
        "       (138.0, 0.5, 1.0), (140.0, 0.5, 1.0), (142.0, 0.5, 1.0)], \n",
        "      dtype=[('onset', '<f4'), ('duration', '<f4'), ('amplitude', '<f4')])}"
       ]
      }
     ],
     "prompt_number": 18
    },
    {
     "cell_type": "markdown",
     "metadata": {},
     "source": [
      "Are these onsets in TRs or in seconds?"
     ]
    },
    {
     "cell_type": "markdown",
     "metadata": {},
     "source": [
      "OK - how to make our design?\n",
      "\n",
      "We could do this by hand (right?) - but let's let `nipy` do this for us:"
     ]
    },
    {
     "cell_type": "code",
     "collapsed": false,
     "input": [
      "import nipy.modalities.fmri.design as fmrid"
     ],
     "language": "python",
     "metadata": {},
     "outputs": [],
     "prompt_number": 19
    },
    {
     "cell_type": "markdown",
     "metadata": {},
     "source": [
      "Try `fmrid.block_design?` at the prompt."
     ]
    },
    {
     "cell_type": "markdown",
     "metadata": {},
     "source": [
      "So - we need start and stop for our events:"
     ]
    },
    {
     "cell_type": "code",
     "collapsed": false,
     "input": [
      "nipy_dtype = [('start', 'f'), ('end', 'f'), ('type', 'S10')]\n",
      "n_events = sum([len(evs) for e in event_defs])\n",
      "nipy_block_specs = np.zeros((n_events,), dtype=nipy_dtype)\n",
      "event_no = 0\n",
      "for ev_type in event_defs:\n",
      "    ev_def = event_defs[ev_type]\n",
      "    for e in ev_def:\n",
      "        nipy_block_specs[event_no]['start'] = e['onset']\n",
      "        nipy_block_specs[event_no]['end'] = (e['onset'] + e['duration'])\n",
      "        nipy_block_specs[event_no]['type'] = ev_type\n",
      "        event_no += 1\n",
      "nipy_block_defs = np.sort(nipy_block_specs)\n",
      "nipy_block_specs"
     ],
     "language": "python",
     "metadata": {},
     "outputs": [
      {
       "metadata": {},
       "output_type": "pyout",
       "prompt_number": 20,
       "text": [
        "array([(156.0, 156.5, 'house'), (158.0, 158.5, 'house'),\n",
        "       (160.0, 160.5, 'house'), (162.0, 162.5, 'house'),\n",
        "       (164.0, 164.5, 'house'), (166.0, 166.5, 'house'),\n",
        "       (168.0, 168.5, 'house'), (170.0, 170.5, 'house'),\n",
        "       (172.0, 172.5, 'house'), (174.0, 174.5, 'house'),\n",
        "       (176.0, 176.5, 'house'), (178.0, 178.5, 'house'),\n",
        "       (84.0, 84.5, 'cat'), (86.0, 86.5, 'cat'), (88.0, 88.5, 'cat'),\n",
        "       (90.0, 90.5, 'cat'), (92.0, 92.5, 'cat'), (94.0, 94.5, 'cat'),\n",
        "       (96.0, 96.5, 'cat'), (98.0, 98.5, 'cat'), (100.0, 100.5, 'cat'),\n",
        "       (102.0, 102.5, 'cat'), (104.0, 104.5, 'cat'), (106.0, 106.5, 'cat'),\n",
        "       (192.0, 192.5, 'scrambled'), (194.0, 194.5, 'scrambled'),\n",
        "       (196.0, 196.5, 'scrambled'), (198.0, 198.5, 'scrambled'),\n",
        "       (200.0, 200.5, 'scrambled'), (202.0, 202.5, 'scrambled'),\n",
        "       (204.0, 204.5, 'scrambled'), (206.0, 206.5, 'scrambled'),\n",
        "       (208.0, 208.5, 'scrambled'), (210.0, 210.5, 'scrambled'),\n",
        "       (212.0, 212.5, 'scrambled'), (214.0, 214.5, 'scrambled'),\n",
        "       (120.0, 120.5, 'shoe'), (122.0, 122.5, 'shoe'),\n",
        "       (124.0, 124.5, 'shoe'), (126.0, 126.5, 'shoe'),\n",
        "       (128.0, 128.5, 'shoe'), (130.0, 130.5, 'shoe'),\n",
        "       (132.0, 132.5, 'shoe'), (134.0, 134.5, 'shoe'),\n",
        "       (136.0, 136.5, 'shoe'), (138.0, 138.5, 'shoe'),\n",
        "       (140.0, 140.5, 'shoe'), (142.0, 142.5, 'shoe'),\n",
        "       (228.0, 228.5, 'bottle'), (230.0, 230.5, 'bottle'),\n",
        "       (232.0, 232.5, 'bottle'), (234.0, 234.5, 'bottle'),\n",
        "       (236.0, 236.5, 'bottle'), (238.0, 238.5, 'bottle'),\n",
        "       (240.0, 240.5, 'bottle'), (242.0, 242.5, 'bottle'),\n",
        "       (244.0, 244.5, 'bottle'), (246.0, 246.5, 'bottle'),\n",
        "       (248.0, 248.5, 'bottle'), (250.0, 250.5, 'bottle'),\n",
        "       (12.0, 12.5, 'scissors'), (14.0, 14.5, 'scissors'),\n",
        "       (16.0, 16.5, 'scissors'), (18.0, 18.5, 'scissors'),\n",
        "       (20.0, 20.5, 'scissors'), (22.0, 22.5, 'scissors'),\n",
        "       (24.0, 24.5, 'scissors'), (26.0, 26.5, 'scissors'),\n",
        "       (28.0, 28.5, 'scissors'), (30.0, 30.5, 'scissors'),\n",
        "       (32.0, 32.5, 'scissors'), (34.0, 34.5, 'scissors'),\n",
        "       (264.0, 264.5, 'chair'), (266.0, 266.5, 'chair'),\n",
        "       (268.0, 268.5, 'chair'), (270.0, 270.5, 'chair'),\n",
        "       (272.0, 272.5, 'chair'), (274.0, 274.5, 'chair'),\n",
        "       (276.0, 276.5, 'chair'), (278.0, 278.5, 'chair'),\n",
        "       (280.0, 280.5, 'chair'), (282.0, 282.5, 'chair'),\n",
        "       (284.0, 284.5, 'chair'), (286.0, 286.5, 'chair'),\n",
        "       (48.0, 48.5, 'face'), (50.0, 50.5, 'face'), (52.0, 52.5, 'face'),\n",
        "       (54.0, 54.5, 'face'), (56.0, 56.5, 'face'), (58.0, 58.5, 'face'),\n",
        "       (60.0, 60.5, 'face'), (62.0, 62.5, 'face'), (64.0, 64.5, 'face'),\n",
        "       (66.0, 66.5, 'face'), (68.0, 68.5, 'face'), (70.0, 70.5, 'face')], \n",
        "      dtype=[('start', '<f4'), ('end', '<f4'), ('type', 'S10')])"
       ]
      }
     ],
     "prompt_number": 20
    },
    {
     "cell_type": "markdown",
     "metadata": {},
     "source": [
      "Nice - so let's make the design:"
     ]
    },
    {
     "cell_type": "code",
     "collapsed": false,
     "input": [
      "n_trs = img.shape[-1]\n",
      "TR = 2.5\n",
      "t = np.arange(n_trs) * TR\n",
      "X_exper, cons_exper = fmrid.block_design(nipy_block_defs, t, level_contrasts=True)\n",
      "plt.figure(figsize=(10, 20))\n",
      "plt.imshow(X_exper)"
     ],
     "language": "python",
     "metadata": {},
     "outputs": [
      {
       "metadata": {},
       "output_type": "pyout",
       "prompt_number": 21,
       "text": [
        "<matplotlib.image.AxesImage at 0x143c14690>"
       ]
      },
      {
       "metadata": {},
       "output_type": "display_data",
       "png": "[encoded data removed]",
       "text": [
        "<matplotlib.figure.Figure at 0x10626a8d0>"
       ]
      }
     ],
     "prompt_number": 21
    },
    {
     "cell_type": "code",
     "collapsed": false,
     "input": [
      "np.set_printoptions(suppress=True)\n",
      "cons_exper"
     ],
     "language": "python",
     "metadata": {},
     "outputs": [
      {
       "metadata": {},
       "output_type": "pyout",
       "prompt_number": 22,
       "text": [
        "{'constant_0': array([ 1.,  1.,  1.,  1.,  1.,  1.,  1.,  1.]),\n",
        " 'type_bottle_0': array([ 1., -0., -0., -0., -0., -0., -0., -0.]),\n",
        " 'type_cat_0': array([ 0.,  1., -0.,  0., -0., -0., -0., -0.]),\n",
        " 'type_chair_0': array([-0., -0.,  1., -0., -0.,  0., -0.,  0.]),\n",
        " 'type_face_0': array([-0.,  0., -0.,  1., -0., -0., -0., -0.]),\n",
        " 'type_house_0': array([-0., -0.,  0., -0.,  1.,  0., -0., -0.]),\n",
        " 'type_scissors_0': array([-0., -0., -0., -0.,  0.,  1., -0.,  0.]),\n",
        " 'type_scrambled_0': array([ 0., -0., -0.,  0., -0., -0.,  1.,  0.]),\n",
        " 'type_shoe_0': array([-0., -0.,  0.,  0., -0., -0., -0.,  1.])}"
       ]
      }
     ],
     "prompt_number": 22
    },
    {
     "cell_type": "markdown",
     "metadata": {},
     "source": [
      "Next we make the drift terms.  Here we use a spline set:"
     ]
    },
    {
     "cell_type": "code",
     "collapsed": false,
     "input": [
      "drift = fmrid.natural_spline(t, [t.mean()])\n",
      "# Make confounds a little easier to display\n",
      "drift = drift / drift.max(axis=0)\n",
      "plt.figure(figsize=(10, 20))\n",
      "plt.imshow(drift)"
     ],
     "language": "python",
     "metadata": {},
     "outputs": [
      {
       "metadata": {},
       "output_type": "pyout",
       "prompt_number": 23,
       "text": [
        "<matplotlib.image.AxesImage at 0x143b14410>"
       ]
      },
      {
       "metadata": {},
       "output_type": "display_data",
       "png": "[encoded data removed]",
       "text": [
        "<matplotlib.figure.Figure at 0x1439f80d0>"
       ]
      }
     ],
     "prompt_number": 23
    },
    {
     "cell_type": "markdown",
     "metadata": {},
     "source": [
      "We combine that with our event design matrix:"
     ]
    },
    {
     "cell_type": "code",
     "collapsed": false,
     "input": [
      "X, cons = fmrid.stack_designs((X_exper, cons_exper),\n",
      "                              (drift, {}))\n",
      "plt.figure(figsize=(20, 10))\n",
      "plt.imshow(X)"
     ],
     "language": "python",
     "metadata": {},
     "outputs": [
      {
       "metadata": {},
       "output_type": "pyout",
       "prompt_number": 24,
       "text": [
        "<matplotlib.image.AxesImage at 0x143b83410>"
       ]
      },
      {
       "metadata": {},
       "output_type": "display_data",
       "png": "[encoded data removed]",
       "text": [
        "<matplotlib.figure.Figure at 0x10061ce50>"
       ]
      }
     ],
     "prompt_number": 24
    },
    {
     "cell_type": "markdown",
     "metadata": {},
     "source": [
      "Fit the design, the by-hand way:"
     ]
    },
    {
     "cell_type": "code",
     "collapsed": false,
     "input": [
      "# Reshape the data for estimation\n",
      "slice_size = np.prod(data.shape[:-1])\n",
      "Y = np.reshape(data, (slice_size, n_trs)).T\n",
      "Y.shape"
     ],
     "language": "python",
     "metadata": {},
     "outputs": [
      {
       "metadata": {},
       "output_type": "pyout",
       "prompt_number": 25,
       "text": [
        "(121, 163840)"
       ]
      }
     ],
     "prompt_number": 25
    },
    {
     "cell_type": "code",
     "collapsed": false,
     "input": [
      "B = np.linalg.pinv(X).dot(Y)"
     ],
     "language": "python",
     "metadata": {},
     "outputs": [],
     "prompt_number": 26
    },
    {
     "cell_type": "code",
     "collapsed": false,
     "input": [
      "B.shape"
     ],
     "language": "python",
     "metadata": {},
     "outputs": [
      {
       "metadata": {},
       "output_type": "pyout",
       "prompt_number": 27,
       "text": [
        "(13, 163840)"
       ]
      }
     ],
     "prompt_number": 27
    },
    {
     "cell_type": "markdown",
     "metadata": {},
     "source": [
      "Let's make a contrast map.  But, what are our contrasts?"
     ]
    },
    {
     "cell_type": "code",
     "collapsed": false,
     "input": [
      "cons"
     ],
     "language": "python",
     "metadata": {},
     "outputs": [
      {
       "metadata": {},
       "output_type": "pyout",
       "prompt_number": 28,
       "text": [
        "{'constant_0': array([ 1.,  1.,  1.,  1.,  1.,  1.,  1.,  1.,  0.,  0.,  0.,  0.,  0.]),\n",
        " 'type_bottle_0': array([ 1., -0., -0., -0., -0., -0., -0., -0.,  0.,  0.,  0.,  0.,  0.]),\n",
        " 'type_cat_0': array([ 0.,  1., -0.,  0., -0., -0., -0., -0.,  0.,  0.,  0.,  0.,  0.]),\n",
        " 'type_chair_0': array([-0., -0.,  1., -0., -0.,  0., -0.,  0.,  0.,  0.,  0.,  0.,  0.]),\n",
        " 'type_face_0': array([-0.,  0., -0.,  1., -0., -0., -0., -0.,  0.,  0.,  0.,  0.,  0.]),\n",
        " 'type_house_0': array([-0., -0.,  0., -0.,  1.,  0., -0., -0.,  0.,  0.,  0.,  0.,  0.]),\n",
        " 'type_scissors_0': array([-0., -0., -0., -0.,  0.,  1., -0.,  0.,  0.,  0.,  0.,  0.,  0.]),\n",
        " 'type_scrambled_0': array([ 0., -0., -0.,  0., -0., -0.,  1.,  0.,  0.,  0.,  0.,  0.,  0.]),\n",
        " 'type_shoe_0': array([-0., -0.,  0.,  0., -0., -0., -0.,  1.,  0.,  0.,  0.,  0.,  0.])}"
       ]
      }
     ],
     "prompt_number": 28
    },
    {
     "cell_type": "code",
     "collapsed": false,
     "input": [
      "contrast = cons['type_face_0'] - cons['type_house_0']\n",
      "contrast"
     ],
     "language": "python",
     "metadata": {},
     "outputs": [
      {
       "metadata": {},
       "output_type": "pyout",
       "prompt_number": 29,
       "text": [
        "array([ 0.,  0., -0.,  1., -1., -0.,  0.,  0.,  0.,  0.,  0.,  0.,  0.])"
       ]
      }
     ],
     "prompt_number": 29
    },
    {
     "cell_type": "code",
     "collapsed": false,
     "input": [
      "con_data = contrast.dot(B)\n",
      "con_data.shape"
     ],
     "language": "python",
     "metadata": {},
     "outputs": [
      {
       "metadata": {},
       "output_type": "pyout",
       "prompt_number": 30,
       "text": [
        "(163840,)"
       ]
      }
     ],
     "prompt_number": 30
    },
    {
     "cell_type": "code",
     "collapsed": false,
     "input": [
      "con_img = np.reshape(con_data, img.shape[:-1])\n",
      "con_img.shape"
     ],
     "language": "python",
     "metadata": {},
     "outputs": [
      {
       "metadata": {},
       "output_type": "pyout",
       "prompt_number": 31,
       "text": [
        "(40, 64, 64)"
       ]
      }
     ],
     "prompt_number": 31
    },
    {
     "cell_type": "code",
     "collapsed": false,
     "input": [
      "plt.imshow(con_img[..., 30])"
     ],
     "language": "python",
     "metadata": {},
     "outputs": [
      {
       "metadata": {},
       "output_type": "pyout",
       "prompt_number": 32,
       "text": [
        "<matplotlib.image.AxesImage at 0x143bb2c10>"
       ]
      },
      {
       "metadata": {},
       "output_type": "display_data",
       "png": "[encoded data removed]",
       "text": [
        "<matplotlib.figure.Figure at 0x1062a1b50>"
       ]
      }
     ],
     "prompt_number": 32
    },
    {
     "cell_type": "markdown",
     "metadata": {},
     "source": [
      "Can you find any face activity you believe?"
     ]
    }
   ],
   "metadata": {}
  }
 ]
}