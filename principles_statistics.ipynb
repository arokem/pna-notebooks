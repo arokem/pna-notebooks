{
 "metadata": {
  "name": ""
 },
 "nbformat": 3,
 "nbformat_minor": 0,
 "worksheets": [
  {
   "cells": [
    {
     "cell_type": "heading",
     "level": 1,
     "metadata": {},
     "source": [
      "Principles of statistics in Statistical Parametric Mapping"
     ]
    },
    {
     "cell_type": "markdown",
     "metadata": {},
     "source": [
      "This notebook is a basic introduction to the statistics of statistical parametric mapping (SPM). The page is designed for\n",
      "readers who have had very little formal statistical background, and\n",
      "I have tried to keep formulae to a minimum. \n",
      "\n",
      "For a more technical treatment of the statistical background, see the [chapter on the general linear model](http://www.fil.ion.ucl.ac.uk/spm/doc/books/hbf2/pdfs/Ch7.pdf)\n",
      "in the book [Human Brain Function (2nd edition)](http://www.fil.ion.ucl.ac.uk/spm/doc/books/hbf2)"
     ]
    },
    {
     "cell_type": "markdown",
     "metadata": {},
     "source": [
      "First we load the interactive graphics and other libraries:"
     ]
    },
    {
     "cell_type": "code",
     "collapsed": false,
     "input": [
      "%pylab inline"
     ],
     "language": "python",
     "metadata": {},
     "outputs": [
      {
       "output_type": "stream",
       "stream": "stdout",
       "text": [
        "Populating the interactive namespace from numpy and matplotlib\n"
       ]
      }
     ],
     "prompt_number": 1
    },
    {
     "cell_type": "code",
     "collapsed": false,
     "input": [
      "import numpy as np\n",
      "import matplotlib\n",
      "import matplotlib.pyplot as plt"
     ],
     "language": "python",
     "metadata": {},
     "outputs": [],
     "prompt_number": 2
    },
    {
     "cell_type": "markdown",
     "metadata": {},
     "source": [
      "I like gray images, with nearest neighbor resampling:"
     ]
    },
    {
     "cell_type": "code",
     "collapsed": false,
     "input": [
      "matplotlib.rcParams['image.cmap'] = 'gray'\n",
      "matplotlib.rcParams['image.interpolation'] = 'nearest'"
     ],
     "language": "python",
     "metadata": {},
     "outputs": [],
     "prompt_number": 3
    },
    {
     "cell_type": "heading",
     "level": 2,
     "metadata": {},
     "source": [
      "Introduction"
     ]
    },
    {
     "cell_type": "markdown",
     "metadata": {},
     "source": [
      "The statistics interface to functional imaging packages can be hard to understand for those of us trained to think of statistics in terms of means and variances.\n",
      "\n",
      "The reason that the statistical interface to functional imaging packages is so\n",
      "much harder to understand is that SPM, FSL and others choose to take the user much closer to\n",
      "the math; they sacrifices ease of understanding for enormous flexiblity of the\n",
      "designs that can be analysed with the same interface. \n",
      "\n",
      "To understand these interfaces, \n",
      "you will need some understanding of the underlying math. I hope to\n",
      "show that this need not be an insurmountable task, even for the relative\n",
      "statistical novice.\n",
      "\n",
      "To start, it is important to point out that the functional imaging analysis creates\n",
      "statistics by doing a seperate statistical analysis for each voxel. Standard analyses analyze each voxel independently.\n",
      "Specifically, the standard analysis:\n",
      "\n",
      "1. does a regression analysis __separately at each voxel__;\n",
      "2. makes t statistics from the results of this analysis, for each voxel;\n",
      "3. works out a p value for each t statistic;\n",
      "4. shows you an image of the t statistics;\n",
      "5. suggests a correction to the significance of the t statistics which takes account of the multiple comparisons in the\n",
      "   image.\n",
      "\n",
      "This document tries to explain how steps 1 to 4 work. I have written a\n",
      "separate tutorial on Random Field Theory that describes the basics of step 5.\n",
      "\n",
      "Before continuing, it is worth re-stressing that the regression analysis is entirely independent for each voxel.\n",
      "\n",
      "The statistics it uses to do this are fairly straightforward, and can be found in most statistics textbooks.\n"
     ]
    },
    {
     "cell_type": "heading",
     "level": 2,
     "metadata": {},
     "source": [
      "Naming of parts"
     ]
    },
    {
     "cell_type": "markdown",
     "metadata": {},
     "source": [
      "This section goes through the standard statistical terms for an analysis, and\n",
      "how they relate to a functional imaging analysis.\n",
      "\n",
      "The __response variable__ in statistics is some measured data for each\n",
      "observation. A response variable is often referred to as __dependent__\n",
      "variable. In the case of functional imaging, the response variable is made up\n",
      "of all the values from an individual voxel for each of the scans in the\n",
      "analysis.\n",
      "\n",
      "The __predictor variable__ contains some value used to predict the data in the\n",
      "response variable. A predictor variable may also be called an __independent__\n",
      "variable. Each variable contains a possible __effect__. In our case a\n",
      "predictor variable might be some covariate such as task difficulty which is\n",
      "known for each scan, and which might influence the response variable - in our\n",
      "case, voxel values.\n",
      "\n",
      "Thus, in functional imaging:\n",
      "\n",
      "* *observation* : a voxel value, in the voxel we are analysing, for one scan;\n",
      "* *response variable* : data for all the scans for one voxel (i.e. all the observations);\n",
      "* *predictor variable* : covariate = effect.\n"
     ]
    },
    {
     "cell_type": "heading",
     "level": 2,
     "metadata": {},
     "source": [
      "Getting the data"
     ]
    },
    {
     "cell_type": "markdown",
     "metadata": {},
     "source": [
      "In order to run this tutorial, you'll need to \n",
      "[download](http://imaging.mrc-cbu.cam.ac.uk/downloads/Tutscans/egscans.tar.gz) \n",
      "and unpack a set of data files.\n",
      "\n",
      "The following two commands will download and unpack them on linux:\n",
      "\n",
      "    curl -O http://imaging.mrc-cbu.cam.ac.uk/downloads/Tutscans/egscans.tar.gz\n",
      "    tar xzf egscans.tar.gz\n",
      "\n",
      "The `fetch_scans()` function below will do all the downloading\n",
      "in a cross-platform manner, using python-only tools.  You should run it even if you downloaded the files\n",
      "manually, as it will compute the necessary paths for the rest of the script (it won't re-download files\n",
      "already present)."
     ]
    },
    {
     "cell_type": "code",
     "collapsed": false,
     "input": [
      "import os\n",
      "import tarfile\n",
      "import urllib\n",
      "\n",
      "def fetch_scans():\n",
      "    # Names of the files in the data bundle\n",
      "    scans_dir = 'egscans'\n",
      "    files = [os.path.join(scans_dir, 'snn03055dy%i.img' % i) for i in range(1,13)]\n",
      "    \n",
      "    # The remote url and filename for local storage\n",
      "    data_url = 'http://imaging.mrc-cbu.cam.ac.uk/downloads/Tutscans/egscans.tar.gz'\n",
      "    tarball = 'egscans.tar.gz'\n",
      "\n",
      "    # First, check that we don't already have the files, whose names are:\n",
      "    if all(map(os.path.isfile, files)):\n",
      "        print 'All files already present, nothing to download.'\n",
      "        return files\n",
      "    \n",
      "    # If we don't have them, make the storage directory, fetch (if needed)\n",
      "    # and unpack skipping the .mat files that are in the tarball.\n",
      "    if not os.path.isdir(scans_dir):\n",
      "        os.mkdir(scans_dir)\n",
      "\n",
      "    if not os.path.isfile(tarball):\n",
      "        print \"Fetching remote tarball, this may take some time depending on your network...\"\n",
      "        urllib.urlretrieve(data_url, tarball)\n",
      "\n",
      "    print \"Unpacking scans, omitting .mat files\"\n",
      "    tf = tarfile.open(tarball, 'r:gz')\n",
      "    image_files = [ f for f in tf.getmembers() if not f.name.endswith('.mat')]\n",
      "    tf.extractall(scans_dir, image_files)\n",
      "    print \"All files unpacked into\", scans_dir, ', done!'\n",
      "    return files\n",
      "\n",
      "files = fetch_scans()"
     ],
     "language": "python",
     "metadata": {},
     "outputs": [
      {
       "output_type": "stream",
       "stream": "stdout",
       "text": [
        "All files already present, nothing to download.\n"
       ]
      }
     ],
     "prompt_number": 4
    },
    {
     "cell_type": "heading",
     "level": 1,
     "metadata": {},
     "source": [
      "Starting the analysis"
     ]
    },
    {
     "cell_type": "markdown",
     "metadata": {},
     "source": [
      "Let's now make actual images out of these files"
     ]
    },
    {
     "cell_type": "code",
     "collapsed": false,
     "input": [
      "import nibabel as nib\n",
      "images = map(nib.load, files)"
     ],
     "language": "python",
     "metadata": {},
     "outputs": [],
     "prompt_number": 5
    },
    {
     "cell_type": "code",
     "collapsed": true,
     "input": [
      "# grand mean for data\n",
      "GM = 50"
     ],
     "language": "python",
     "metadata": {},
     "outputs": [],
     "prompt_number": 6
    },
    {
     "cell_type": "markdown",
     "metadata": {},
     "source": [
      "Now we load the affine transformation from the first image (it's the same for all) and extract the conversion\n",
      "parameters from voxels to MNI space (in mm)."
     ]
    },
    {
     "cell_type": "code",
     "collapsed": true,
     "input": [
      "# transformation from voxel no to mm\n",
      "M = images[0].get_affine()\n",
      "# mm to voxel no\n",
      "iM = np.linalg.inv(M)\n",
      "# coordinates of voxel of interest in mm (MNI space)\n",
      "posmm = [-20.0, -42, 34]\n",
      "# coordinates in voxel space (in homogenous coordinates)\n",
      "posvox = np.dot(iM, posmm + [1])\n",
      "# We grab the spatial part of the output.  Since we want to use it as an \n",
      "# index, we need to make it a tuple\n",
      "posvox = tuple(posvox[:3].astype(int))\n",
      "posvox"
     ],
     "language": "python",
     "metadata": {},
     "outputs": [
      {
       "metadata": {},
       "output_type": "pyout",
       "prompt_number": 7,
       "text": [
        "(29, 35, 42)"
       ]
      }
     ],
     "prompt_number": 7
    },
    {
     "cell_type": "markdown",
     "metadata": {},
     "source": [
      "We need to define a small utility function commonly used in SPM, we'll call it `global_mean`."
     ]
    },
    {
     "cell_type": "code",
     "collapsed": true,
     "input": [
      "def global_mean(img):\n",
      "    \"\"\"Compute a \"sorted global mean\" of an image.\n",
      "\n",
      "    This returns the mean of the image voxels that are in the range above \n",
      "    1/8 of the mean.\"\"\"\n",
      "    \n",
      "    m = img.mean()/8.0\n",
      "    return img[img>m].mean()"
     ],
     "language": "python",
     "metadata": {},
     "outputs": [],
     "prompt_number": 8
    },
    {
     "cell_type": "markdown",
     "metadata": {},
     "source": [
      "With this utility, we can now get the data for the voxel of interest across all the images, and compute the global mean of each scans:"
     ]
    },
    {
     "cell_type": "code",
     "collapsed": true,
     "input": [
      "nimgs = len(images)\n",
      "vdata = np.zeros(nimgs)\n",
      "gdata = np.zeros(nimgs)\n",
      "for i, V in enumerate(images):\n",
      "    d = V.get_data()\n",
      "    vdata[i] = d[posvox]\n",
      "    gdata[i] = global_mean(d)\n",
      "gdata"
     ],
     "language": "python",
     "metadata": {},
     "outputs": [
      {
       "metadata": {},
       "output_type": "pyout",
       "prompt_number": 9,
       "text": [
        "array([ 0.00459615,  0.004154  ,  0.00462038,  0.00439584,  0.00417357,\n",
        "        0.00442748,  0.00416478,  0.00471157,  0.00419319,  0.00455416,\n",
        "        0.00420025,  0.00405441])"
       ]
      }
     ],
     "prompt_number": 9
    },
    {
     "cell_type": "markdown",
     "metadata": {},
     "source": [
      "We can display slices from the scans.  Here is slice 30 of the last scan:"
     ]
    },
    {
     "cell_type": "code",
     "collapsed": false,
     "input": [
      "last_image = images[-1]\n",
      "last_data = last_image.get_data()\n",
      "imshow(last_data[:, :, 30])"
     ],
     "language": "python",
     "metadata": {},
     "outputs": [
      {
       "metadata": {},
       "output_type": "pyout",
       "prompt_number": 10,
       "text": [
        "<matplotlib.image.AxesImage at 0x717f350>"
       ]
      },
      {
       "metadata": {},
       "output_type": "display_data",
       "png": "[encoded data removed]",
       "text": [
        "<matplotlib.figure.Figure at 0x45ee510>"
       ]
      }
     ],
     "prompt_number": 10
    },
    {
     "cell_type": "heading",
     "level": 1,
     "metadata": {},
     "source": [
      "Plot globals"
     ]
    },
    {
     "cell_type": "code",
     "collapsed": false,
     "input": [
      "plt.plot(gdata, vdata, 'x')\n",
      "plt.xlabel('TMVV for scan')\n",
      "plt.ylabel('Voxel value for -20 -42 34')\n",
      "plt.title('The relationship of overall signal to values for an individual voxel')"
     ],
     "language": "python",
     "metadata": {},
     "outputs": [
      {
       "metadata": {},
       "output_type": "pyout",
       "prompt_number": 11,
       "text": [
        "<matplotlib.text.Text at 0x71a2b90>"
       ]
      },
      {
       "metadata": {},
       "output_type": "display_data",
       "png": "[encoded data removed]",
       "text": [
        "<matplotlib.figure.Figure at 0x717f7d0>"
       ]
      }
     ],
     "prompt_number": 11
    },
    {
     "cell_type": "code",
     "collapsed": true,
     "input": [
      "# proportionally scale data\n",
      "pvdata = vdata / gdata\n",
      "# scale to global mean of 50\n",
      "Y = pvdata * GM\n",
      "# our covariate\n",
      "ourcov = np.array([5,4,4,2,3,1,6,3,1,6,5,2])"
     ],
     "language": "python",
     "metadata": {},
     "outputs": [],
     "prompt_number": 12
    },
    {
     "cell_type": "code",
     "collapsed": false,
     "input": [
      "# plot data \n",
      "plot(ourcov, Y, 'x')\n",
      "xlabel('Task difficulty')\n",
      "ylabel('PS voxel value')\n",
      "xlim(0, 7)\n",
      "title('The relationship of task difficulty to voxel value');"
     ],
     "language": "python",
     "metadata": {},
     "outputs": [
      {
       "metadata": {},
       "output_type": "display_data",
       "png": "[encoded data removed]",
       "text": [
        "<matplotlib.figure.Figure at 0x7402150>"
       ]
      }
     ],
     "prompt_number": 13
    },
    {
     "cell_type": "code",
     "collapsed": true,
     "input": [
      "# guess intercept, slope, estimated points\n",
      "guessic   = 55\n",
      "guesslope = 0.5\n",
      "guessPts  = guessic + guesslope*ourcov"
     ],
     "language": "python",
     "metadata": {},
     "outputs": [],
     "prompt_number": 14
    },
    {
     "cell_type": "markdown",
     "metadata": {},
     "source": [
      "For plotting it will be convenient to have the boundaries of our plot region available"
     ]
    },
    {
     "cell_type": "code",
     "collapsed": true,
     "input": [
      "minx = 0\n",
      "maxx = ourcov.max()+1 # min max x for plots\n",
      "axs = np.array([minx, maxx, Y.min()*0.98, Y.max()*1.02])"
     ],
     "language": "python",
     "metadata": {},
     "outputs": [],
     "prompt_number": 15
    },
    {
     "cell_type": "code",
     "collapsed": false,
     "input": [
      "# plot data with guess intercept and slope\n",
      "plot(ourcov, Y, 'x')\n",
      "plot(axs[:2], guessic+guesslope*axs[:2], ':') # guessed line\n",
      "# plot guessed residuals\n",
      "for i, c in enumerate(ourcov):\n",
      "  plot([c, c], [Y[i], guessPts[i]], color='r')\n",
      "plt.axis(axs)\n",
      "xlabel('Task difficulty')\n",
      "ylabel('PS voxel value')\n",
      "xlim(0, 7)\n",
      "title('A first guess at a linear relationship, and its residuals');"
     ],
     "language": "python",
     "metadata": {},
     "outputs": [
      {
       "metadata": {},
       "output_type": "display_data",
       "png": "[encoded data removed]",
       "text": [
        "<matplotlib.figure.Figure at 0x769c910>"
       ]
      }
     ],
     "prompt_number": 16
    },
    {
     "cell_type": "code",
     "collapsed": false,
     "input": [
      "# residuals from guess slope\n",
      "guessRes = Y - guessPts"
     ],
     "language": "python",
     "metadata": {},
     "outputs": [],
     "prompt_number": 17
    },
    {
     "cell_type": "markdown",
     "metadata": {},
     "source": [
      "Now we construct the design matrix $X$."
     ]
    },
    {
     "cell_type": "code",
     "collapsed": true,
     "input": [
      "X  = np.column_stack([ourcov, ones(nimgs)])"
     ],
     "language": "python",
     "metadata": {},
     "outputs": [],
     "prompt_number": 18
    },
    {
     "cell_type": "markdown",
     "metadata": {},
     "source": [
      "We would like to display it in a useful way"
     ]
    },
    {
     "cell_type": "code",
     "collapsed": true,
     "input": [
      "def scale_design_mtx(X):\n",
      "    \"\"\"utility to scale the design matrix for display\n",
      "\n",
      "    This scales the columns to their own range so we can see the variations \n",
      "    across the column for all the columns, regardless of the scaling of the \n",
      "    column.\n",
      "    \"\"\"\n",
      "    mi, ma = X.min(axis=0), X.max(axis=0)\n",
      "    col_neq = (ma - mi) > 1.e-8\n",
      "    Xs = np.ones_like(X)\n",
      "    mi = mi[col_neq]\n",
      "    ma = ma[col_neq]\n",
      "    Xs[:,col_neq] = (X[:,col_neq] - mi)/(ma - mi)\n",
      "    return Xs"
     ],
     "language": "python",
     "metadata": {},
     "outputs": [],
     "prompt_number": 19
    },
    {
     "cell_type": "code",
     "collapsed": true,
     "input": [
      "def show_design(X, design_title):\n",
      "    \"\"\" Show the design matrix nicely \"\"\"\n",
      "    figure()\n",
      "    plt.gray()\n",
      "    imshow(scale_design_mtx(X), interpolation='nearest')\n",
      "    title(design_title)"
     ],
     "language": "python",
     "metadata": {},
     "outputs": [],
     "prompt_number": 20
    },
    {
     "cell_type": "code",
     "collapsed": false,
     "input": [
      "# display using our fancy function\n",
      "show_design(X, 'Design matrix for the first analysis')"
     ],
     "language": "python",
     "metadata": {},
     "outputs": [
      {
       "metadata": {},
       "output_type": "display_data",
       "png": "[encoded data removed]",
       "text": [
        "<matplotlib.figure.Figure at 0x76790d0>"
       ]
      }
     ],
     "prompt_number": 21
    },
    {
     "cell_type": "markdown",
     "metadata": {},
     "source": [
      "We need to know the degrees of freedom.  In this simple case, we have two *effects* (the intercept and the slope) and 12 observations, leaving us with 10 degrees of freedom.  In general, the number of *effects* we have is given by the number of independent columns in the design matrix $X$ above.  This is the *column rank* of $X$.  This is given by the numpy function ``numpy.linalg.matrix_rank`` for numpy >= 1.5, but in case you have an earlier version of numpy, a crude calculation of the matrix rank is a couple of lines of code:"
     ]
    },
    {
     "cell_type": "code",
     "collapsed": true,
     "input": [
      "def matrix_rank(X):\n",
      "    U, S, V = np.linalg.svd(X)\n",
      "    # Number of singular values above an arbitrary small threshold\n",
      "    return np.sum(S > 1e-5)"
     ],
     "language": "python",
     "metadata": {},
     "outputs": [],
     "prompt_number": 22
    },
    {
     "cell_type": "markdown",
     "metadata": {},
     "source": [
      "Now we can calculate the degrees of freedom in a more general way:"
     ]
    },
    {
     "cell_type": "code",
     "collapsed": true,
     "input": [
      "df = nimgs - matrix_rank(X)\n",
      "# mean SoS for guess slope\n",
      "guessRSS = (guessRes**2).sum() / df"
     ],
     "language": "python",
     "metadata": {},
     "outputs": [],
     "prompt_number": 23
    },
    {
     "cell_type": "markdown",
     "metadata": {},
     "source": [
      "The analysis giving the least squares fit is very simple: we matrix multiply the pseudoinverse of $X$ (denoted $X^+$) by the data, to get the estimation of the model parameters, the $\\hat\\beta$ 's : $\\hat\\beta = X^+ Y$ "
     ]
    },
    {
     "cell_type": "code",
     "collapsed": false,
     "input": [
      "# the analysis, giving slope and constant\n",
      "B = dot(pinv(X), Y)\n",
      "print B"
     ],
     "language": "python",
     "metadata": {},
     "outputs": [
      {
       "output_type": "stream",
       "stream": "stdout",
       "text": [
        "[  0.63928135  54.39383796]\n"
       ]
      }
     ],
     "prompt_number": 24
    },
    {
     "cell_type": "code",
     "collapsed": false,
     "input": [
      "# plot data with new least squares line\n",
      "plot(ourcov, Y, 'x')\n",
      "bound = np.array([minx, maxx])\n",
      "plot(bound, bound*B[0]+B[1], 'r')\n",
      "axis(axs)\n",
      "xlabel('Task difficulty')\n",
      "ylabel('PS voxel value')\n",
      "title('The least squares linear relationship');"
     ],
     "language": "python",
     "metadata": {},
     "outputs": [
      {
       "metadata": {},
       "output_type": "display_data",
       "png": "[encoded data removed]",
       "text": [
        "<matplotlib.figure.Figure at 0x76916d0>"
       ]
      }
     ],
     "prompt_number": 25
    },
    {
     "cell_type": "markdown",
     "metadata": {},
     "source": [
      "We'll need some statistical machinery from scipy"
     ]
    },
    {
     "cell_type": "code",
     "collapsed": true,
     "input": [
      "from scipy.stats import t as tdist, norm as normdist"
     ],
     "language": "python",
     "metadata": {},
     "outputs": [],
     "prompt_number": 26
    },
    {
     "cell_type": "markdown",
     "metadata": {},
     "source": [
      "And now we can compute our stats for this contrast:\n",
      "The $\\textbf{Residual Sum of Square}$ (RSS) is :\n",
      "\n",
      "$$ RSS = \\sum_{i=1}^{12} (Y_i - X_i \\beta)^2$$\n",
      "\n",
      "$X_i$ is the $i$th row of the matrix $X$. The $\\textbf{Mean Residual Sum of Square}$ is :\n",
      "\n",
      "$$ MRSS = RSS / \\textit{df} $$\n",
      "\n",
      "where $\\textit{df}$ are the degrees of freedom, computed as the number of observations (here, 12) minus the rank of the design matrix (ie, the number of independent vectors in X). The $MRSS$ is the noise variance estimation: $\\widehat{\\sigma^2}$.\n",
      "\n",
      "The $\\textbf{Standard Error}$ (SE) of $c \\beta$ is computed with $\\textrm{SE} = \\sqrt{\\widehat{\\sigma^2} c (X^t X)^+ c^t} $ \n",
      "(why is that so is to be expanded here ...)\n",
      "\n",
      "The t test is then : $t = \\frac{c \\beta}{\\textrm{SE}} $"
     ]
    },
    {
     "cell_type": "code",
     "collapsed": false,
     "input": [
      "# Contrast\n",
      "C = np.array([1, 0])\n",
      "# t statistic and significance test\n",
      "RSS   = ((Y - dot(X, B))**2).sum()\n",
      "MRSS  = RSS / df\n",
      "SE    = np.sqrt(MRSS*dot(C, (dot(pinv(dot(X.T, X)), C.T))))\n",
      "t     = dot(C, B)/SE\n",
      "ltp   = tdist(df).cdf(t) # lower tail p\n",
      "p     = 1-ltp           # upper tail p \n",
      "\n",
      "# print results to window\n",
      "print 'First TD analysis: t= %2.2f, p= %0.6f' % (t, p)"
     ],
     "language": "python",
     "metadata": {},
     "outputs": [
      {
       "output_type": "stream",
       "stream": "stdout",
       "text": [
        "First TD analysis: t= 7.95, p= 0.000006\n"
       ]
      }
     ],
     "prompt_number": 27
    },
    {
     "cell_type": "markdown",
     "metadata": {},
     "source": [
      "We can package the analysis up into a function:"
     ]
    },
    {
     "cell_type": "code",
     "collapsed": false,
     "input": [
      "def t_stat(Y, X, C):\n",
      "    \"\"\" betas, t statistic and significance test given data, design matrix, contrast\n",
      "    \"\"\"\n",
      "    # Calculate the parameters\n",
      "    B = dot(pinv(X), Y)\n",
      "    RSS   = ((Y - dot(X, B))**2).sum(axis=0)\n",
      "    # Recalculate df\n",
      "    df =  X.shape[0] - matrix_rank(X)\n",
      "    MRSS  = RSS / df\n",
      "    SE    = np.sqrt(MRSS*dot(C, (dot(pinv(dot(X.T, X)), C.T))))\n",
      "    t     = dot(C, B)/SE\n",
      "    ltp   = tdist(df).cdf(t) # lower tail p\n",
      "    p = 1 - ltp # upper tail p\n",
      "    return B, t, df, p\n",
      "\n",
      "# Results are the same\n",
      "print 'First TD analysis again: B = %s, t= %2.2f, df= %d, p= %0.6f' % t_stat(Y, X, C)"
     ],
     "language": "python",
     "metadata": {},
     "outputs": [
      {
       "output_type": "stream",
       "stream": "stdout",
       "text": [
        "First TD analysis again: B = [  0.63928135  54.39383796], t= 7.95, df= 10, p= 0.000006\n"
       ]
      }
     ],
     "prompt_number": 28
    },
    {
     "cell_type": "code",
     "collapsed": true,
     "input": [
      "# save data for analysis in some package that reads csv type files\n",
      "np.savetxt(\"voxdata.txt\", Y)"
     ],
     "language": "python",
     "metadata": {},
     "outputs": [],
     "prompt_number": 29
    },
    {
     "cell_type": "markdown",
     "metadata": {},
     "source": [
      "Now the analysis for the added covariate.\n",
      "\n",
      "This and all the other analyses here use exactly the same code as above."
     ]
    },
    {
     "cell_type": "code",
     "collapsed": false,
     "input": [
      "# design matrix, df\n",
      "X = np.column_stack([ourcov, np.arange(1, nimgs+1), np.ones(nimgs)])\n",
      "show_design(X, 'Design matrix for added covariate')"
     ],
     "language": "python",
     "metadata": {},
     "outputs": [
      {
       "metadata": {},
       "output_type": "display_data",
       "png": "[encoded data removed]",
       "text": [
        "<matplotlib.figure.Figure at 0x742d190>"
       ]
      }
     ],
     "prompt_number": 30
    },
    {
     "cell_type": "code",
     "collapsed": false,
     "input": [
      "# Contrast\n",
      "C = np.array([1, 0, 0])\n",
      "# the analysis\n",
      "B, t, df, p = t_stat(Y, X, C)\n",
      "print 'Added covariate analysis: t= %2.2f, p= %0.6f' % (t, p)"
     ],
     "language": "python",
     "metadata": {},
     "outputs": [
      {
       "output_type": "stream",
       "stream": "stdout",
       "text": [
        "Added covariate analysis: t= 7.81, p= 0.000013\n"
       ]
      }
     ],
     "prompt_number": 31
    },
    {
     "cell_type": "markdown",
     "metadata": {},
     "source": [
      "# Conditions analysis"
     ]
    },
    {
     "cell_type": "code",
     "collapsed": true,
     "input": [
      "X = np.zeros((nimgs, 2))\n",
      "X[0:6, 0] = 1\n",
      "X[6:, 1] = 1\n",
      "show_design(X, 'Design matrix for two conditions')"
     ],
     "language": "python",
     "metadata": {},
     "outputs": [
      {
       "metadata": {},
       "output_type": "display_data",
       "png": "[encoded data removed]",
       "text": [
        "<matplotlib.figure.Figure at 0x76af950>"
       ]
      }
     ],
     "prompt_number": 32
    },
    {
     "cell_type": "code",
     "collapsed": false,
     "input": [
      "B = np.linalg.pinv(X).dot(Y)\n",
      "B"
     ],
     "language": "python",
     "metadata": {},
     "outputs": [
      {
       "metadata": {},
       "output_type": "pyout",
       "prompt_number": 33,
       "text": [
        "array([ 56.54455457,  56.71809077])"
       ]
      }
     ],
     "prompt_number": 33
    },
    {
     "cell_type": "markdown",
     "metadata": {},
     "source": [
      "These are the means for each set of observations (why?):"
     ]
    },
    {
     "cell_type": "code",
     "collapsed": false,
     "input": [
      "np.mean(Y[:6]), np.mean(Y[6:])"
     ],
     "language": "python",
     "metadata": {},
     "outputs": [
      {
       "metadata": {},
       "output_type": "pyout",
       "prompt_number": 34,
       "text": [
        "(56.544554566379446, 56.718090771077186)"
       ]
      }
     ],
     "prompt_number": 34
    },
    {
     "cell_type": "code",
     "collapsed": false,
     "input": [
      "# Contrast for activation minus rest\n",
      "C = np.array([-1, 1])\n",
      "# the analysis\n",
      "B, t, df, p = t_stat(Y, X, C)\n",
      "print 'Analysis for two conditions: t= %2.2f, p= %0.6f' % (t, p)"
     ],
     "language": "python",
     "metadata": {},
     "outputs": [
      {
       "output_type": "stream",
       "stream": "stdout",
       "text": [
        "Analysis for two conditions: t= 0.23, p= 0.409795\n"
       ]
      }
     ],
     "prompt_number": 35
    },
    {
     "cell_type": "heading",
     "level": 2,
     "metadata": {},
     "source": [
      "Some extra analyses to show how it all works"
     ]
    },
    {
     "cell_type": "code",
     "collapsed": false,
     "input": [
      "# do an ANCOVA for globals, instead of proportional scaling\n",
      "# GM scale\n",
      "Yanc = vdata * GM / np.mean(gdata)"
     ],
     "language": "python",
     "metadata": {},
     "outputs": [],
     "prompt_number": 36
    },
    {
     "cell_type": "code",
     "collapsed": false,
     "input": [
      "X = np.column_stack((ourcov, gdata, np.ones(nimgs)))\n",
      "show_design(X, 'Design with ANCOVA for global signal')"
     ],
     "language": "python",
     "metadata": {},
     "outputs": [
      {
       "metadata": {},
       "output_type": "display_data",
       "png": "[encoded data removed]",
       "text": [
        "<matplotlib.figure.Figure at 0x7187f10>"
       ]
      }
     ],
     "prompt_number": 37
    },
    {
     "cell_type": "code",
     "collapsed": false,
     "input": [
      "# Contrast for task covariate only\n",
      "C = np.array([1, 0, 0])\n",
      "# the analysis\n",
      "B, t, df, p = t_stat(Yanc, X, C)\n",
      "print 'TD analysis with ANCOVA for global: t= %2.2f, p= %0.6f' % (t, p)"
     ],
     "language": "python",
     "metadata": {},
     "outputs": [
      {
       "output_type": "stream",
       "stream": "stdout",
       "text": [
        "TD analysis with ANCOVA for global: t= 7.15, p= 0.000027\n"
       ]
      }
     ],
     "prompt_number": 38
    },
    {
     "cell_type": "markdown",
     "metadata": {},
     "source": [
      "Another voxel"
     ]
    },
    {
     "cell_type": "code",
     "collapsed": false,
     "input": [
      "# coordinates of voxel of interest in mm (MNI space)\n",
      "posmm2  = [6, 0, 6]\n",
      "# Coordinates in voxel space\n",
      "posvox2 = np.dot(iM, posmm2 + [1])\n",
      "# We grab the spatial part of the output.  Since we want to use it as an \n",
      "# index, we need to make it a tuple\n",
      "posvox2 = tuple(posvox2[:3].astype(int))\n",
      "posvox2"
     ],
     "language": "python",
     "metadata": {},
     "outputs": [
      {
       "metadata": {},
       "output_type": "pyout",
       "prompt_number": 39,
       "text": [
        "(42, 56, 28)"
       ]
      }
     ],
     "prompt_number": 39
    },
    {
     "cell_type": "code",
     "collapsed": false,
     "input": [
      "# Get the data for this voxel\n",
      "vdata2 = np.zeros(nimgs)\n",
      "for i, V in enumerate(images):\n",
      "    d = V.get_data()\n",
      "    vdata2[i] = d[posvox2]"
     ],
     "language": "python",
     "metadata": {},
     "outputs": [],
     "prompt_number": 40
    },
    {
     "cell_type": "code",
     "collapsed": false,
     "input": [
      "# Proportional and global mean scale\n",
      "Y2 = vdata2 / gdata * 50"
     ],
     "language": "python",
     "metadata": {},
     "outputs": [],
     "prompt_number": 41
    },
    {
     "cell_type": "code",
     "collapsed": false,
     "input": [
      "X = np.column_stack((ourcov, np.ones(nimgs)))\n",
      "C = np.array([1, 0])\n",
      "# the analysis\n",
      "B, t, df, p = t_stat(Y2, X, C)\n",
      "print 'First TD analysis second voxel: t= %2.2f, p= %0.6f' % (t, p)"
     ],
     "language": "python",
     "metadata": {},
     "outputs": [
      {
       "output_type": "stream",
       "stream": "stdout",
       "text": [
        "First TD analysis second voxel: t= 5.84, p= 0.000082\n"
       ]
      }
     ],
     "prompt_number": 42
    },
    {
     "cell_type": "markdown",
     "metadata": {},
     "source": [
      "Analyzing two voxels at the same time, but independently:"
     ]
    },
    {
     "cell_type": "code",
     "collapsed": false,
     "input": [
      "Y_both = np.column_stack((Y, Y2))"
     ],
     "language": "python",
     "metadata": {},
     "outputs": [],
     "prompt_number": 43
    },
    {
     "cell_type": "code",
     "collapsed": false,
     "input": [
      "# the analysis\n",
      "B, t, df, p = t_stat(Y_both, X, C)\n",
      "print 'First TD analysis first voxel: t= %2.2f, p= %0.6f' % (t[0], p[0])\n",
      "print 'First TD analysis second voxel: t= %2.2f, p= %0.6f' % (t[1], p[1])"
     ],
     "language": "python",
     "metadata": {},
     "outputs": [
      {
       "output_type": "stream",
       "stream": "stdout",
       "text": [
        "First TD analysis first voxel: t= 7.95, p= 0.000006\n",
        "First TD analysis second voxel: t= 5.84, p= 0.000082\n"
       ]
      }
     ],
     "prompt_number": 44
    },
    {
     "cell_type": "code",
     "collapsed": false,
     "input": [
      "B.shape"
     ],
     "language": "python",
     "metadata": {},
     "outputs": [
      {
       "metadata": {},
       "output_type": "pyout",
       "prompt_number": 45,
       "text": [
        "(2, 2)"
       ]
      }
     ],
     "prompt_number": 45
    },
    {
     "cell_type": "markdown",
     "metadata": {},
     "source": [
      "You can see that the result when analyzing two voxels at the same time are identical to the results when analyzing them separately."
     ]
    }
   ],
   "metadata": {}
  }
 ]
}